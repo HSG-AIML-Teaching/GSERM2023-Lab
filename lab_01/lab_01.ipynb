{
 "cells": [
  {
   "cell_type": "markdown",
   "metadata": {},
   "source": [
    "<img align=\"center\" style=\"max-width: 980px\" src=\"./banner.png\">"
   ]
  },
  {
   "cell_type": "markdown",
   "metadata": {},
   "source": [
    "<img align=\"right\" style=\"max-width: 200px; height: auto\" src=\"hsg_logo.png\">\n",
    "\n",
    "##  Lab 01 - Python 101: Jupyter Notebooks and Python Basics\n",
    "\n",
    "GSERM Summer School 2023, Deep Learning: Fundamentals and Applications, University of St. Gallen"
   ]
  },
  {
   "cell_type": "markdown",
   "metadata": {},
   "source": [
    "The lab environment of this course builds on Jupyter Notebooks (https://jupyter.org), which provide a full-fledged Python environment for writing Python code. \n",
    "In this first lab, we will touch on the basic concepts and techniques of such Notebooks and the Python programming language in general."
   ]
  },
  {
   "cell_type": "markdown",
   "metadata": {},
   "source": [
    "## 1. Jupyter Notebooks\n",
    "\n",
    "The goal of this section is to obtain a general understanding of the Jupyter Notebook environment.\n",
    "\n",
    "Jupyter Notebooks run on a **server** - either locally or in the cloud - allowing different users to access and use a pre-defined environment with pre-installed modules and packages. \n",
    "\n",
    "We will use Jupyter Notebooks with a **Python kernel**, meaning that our Notebooks will utilize the Python programming language. However, Notebooks can be utilized with a wide range of programming languages.\n",
    "\n",
    "The main advantage of Jupyter Notebooks is their unique character that mixes code elements with extensive documentation. This combination utilizes the concept of **cells** that either contain static content (like markdown text or other media) or code. The nature of a cell can be chosen from the corresponding menu (depends on the interface you are using)."
   ]
  },
  {
   "cell_type": "markdown",
   "metadata": {},
   "source": [
    "### 1.1 Notebook Cells"
   ]
  },
  {
   "cell_type": "markdown",
   "metadata": {},
   "source": [
    "This cell is a **markdown cell**. It only contains static text. You can modify the text by clicking into this cell (maybe twice, depending on the interface that you are using). Once you're done, \"run\" the cell by clicking the correponding button or by hitting `shift`+`enter` to render the output."
   ]
  },
  {
   "cell_type": "markdown",
   "metadata": {},
   "source": [
    "The following cell is a **code cell** that contains Python code. To evaluate a code cell, hit the \"run\" button or press `shift`+`enter` on your keyboard. Evaluating a cell evaluates each line of code in sequence, and prints the result of the last line (if any) below the cell."
   ]
  },
  {
   "cell_type": "code",
   "execution_count": 1,
   "metadata": {
    "ExecuteTime": {
     "end_time": "2023-05-29T12:17:41.168512Z",
     "start_time": "2023-05-29T12:17:41.135294Z"
    }
   },
   "outputs": [
    {
     "data": {
      "text/plain": "42"
     },
     "execution_count": 1,
     "metadata": {},
     "output_type": "execute_result"
    }
   ],
   "source": [
    "40 + 2"
   ]
  },
  {
   "cell_type": "markdown",
   "metadata": {},
   "source": [
    "A code cell can contain several lines of code, but keep in mind that only the result of the last line will be displayed."
   ]
  },
  {
   "cell_type": "code",
   "execution_count": 2,
   "metadata": {
    "ExecuteTime": {
     "end_time": "2023-05-29T12:17:49.929961Z",
     "start_time": "2023-05-29T12:17:49.914598Z"
    }
   },
   "outputs": [
    {
     "data": {
      "text/plain": "6"
     },
     "execution_count": 2,
     "metadata": {},
     "output_type": "execute_result"
    }
   ],
   "source": [
    "2 + 2\n",
    "3 + 3"
   ]
  },
  {
   "cell_type": "markdown",
   "metadata": {},
   "source": [
    "However, you can print whichever lines you want using the print function."
   ]
  },
  {
   "cell_type": "code",
   "execution_count": 3,
   "metadata": {
    "ExecuteTime": {
     "end_time": "2023-05-29T12:17:51.104265Z",
     "start_time": "2023-05-29T12:17:51.093610Z"
    }
   },
   "outputs": [
    {
     "name": "stdout",
     "output_type": "stream",
     "text": [
      "4\n"
     ]
    },
    {
     "data": {
      "text/plain": "6"
     },
     "execution_count": 3,
     "metadata": {},
     "output_type": "execute_result"
    }
   ],
   "source": [
    "print(2 + 2)\n",
    "3 + 3"
   ]
  },
  {
   "cell_type": "markdown",
   "metadata": {},
   "source": [
    "### 1.2 Help & Documentation"
   ]
  },
  {
   "cell_type": "markdown",
   "metadata": {},
   "source": [
    "Placing a question mark after a function and executing that line of code will give you the available documentation  for that function. It's often best to do this in a new cell, as you avoid re-executing other code and running into bugs."
   ]
  },
  {
   "cell_type": "code",
   "execution_count": 4,
   "metadata": {
    "ExecuteTime": {
     "end_time": "2023-05-29T12:17:52.316255Z",
     "start_time": "2023-05-29T12:17:52.306559Z"
    }
   },
   "outputs": [
    {
     "name": "stdout",
     "output_type": "stream",
     "text": [
      "Object `np.random.normal` not found.\n"
     ]
    }
   ],
   "source": [
    "np.random.normal?"
   ]
  },
  {
   "cell_type": "markdown",
   "metadata": {},
   "source": [
    "Alternatively, you can always \"google\" a Python function to learn how to use it."
   ]
  },
  {
   "cell_type": "markdown",
   "metadata": {},
   "source": [
    "### 1.3 Saving a Notebook"
   ]
  },
  {
   "cell_type": "markdown",
   "metadata": {},
   "source": [
    "Notebooks can be easily saved (`File/Save as`) locally or, depending on the interface you are using, into the cloud. Additionally, Notebooks can also be downloaded (`File/Download as`) as plain Python scripts, PDFs, and a wide range of other file formats."
   ]
  },
  {
   "cell_type": "markdown",
   "metadata": {},
   "source": [
    "## 2. Python Programming Basics"
   ]
  },
  {
   "cell_type": "markdown",
   "metadata": {},
   "source": [
    "This section will provide an introduction into Python programming, starting with the very basics. Writing Python **code** is as simple as writing text. Let's start with the typical Hello-World example:"
   ]
  },
  {
   "cell_type": "code",
   "execution_count": 5,
   "metadata": {
    "ExecuteTime": {
     "end_time": "2023-05-29T12:17:58.976122Z",
     "start_time": "2023-05-29T12:17:58.965677Z"
    }
   },
   "outputs": [
    {
     "name": "stdout",
     "output_type": "stream",
     "text": [
      "hello world!\n"
     ]
    }
   ],
   "source": [
    "print('hello world!') "
   ]
  },
  {
   "cell_type": "markdown",
   "metadata": {},
   "source": [
    "This code cell consists of a **function** call to the `print` function, which contains one **argument** (`'hello world!'`). The purpose of the `print` function is to print the argument on the screen. "
   ]
  },
  {
   "cell_type": "markdown",
   "metadata": {},
   "source": [
    "### 2.1 Python Variables"
   ]
  },
  {
   "cell_type": "markdown",
   "metadata": {},
   "source": [
    "In order to support more or less complex calculations, Python supports **variables** to which values can be assigned:"
   ]
  },
  {
   "cell_type": "code",
   "execution_count": 6,
   "metadata": {
    "ExecuteTime": {
     "end_time": "2023-05-29T12:18:00.727876Z",
     "start_time": "2023-05-29T12:18:00.716976Z"
    }
   },
   "outputs": [],
   "source": [
    "a = 3"
   ]
  },
  {
   "cell_type": "markdown",
   "metadata": {},
   "source": [
    "The value of **object** `a` is now 3; whenever the variable is evaluated, it is replaced by this value:"
   ]
  },
  {
   "cell_type": "code",
   "execution_count": 7,
   "metadata": {
    "ExecuteTime": {
     "end_time": "2023-05-29T12:18:01.112946Z",
     "start_time": "2023-05-29T12:18:01.102475Z"
    }
   },
   "outputs": [
    {
     "data": {
      "text/plain": "3"
     },
     "execution_count": 7,
     "metadata": {},
     "output_type": "execute_result"
    }
   ],
   "source": [
    "a"
   ]
  },
  {
   "cell_type": "markdown",
   "metadata": {},
   "source": [
    "This can be exploited for mathematical expressions:"
   ]
  },
  {
   "cell_type": "code",
   "execution_count": 8,
   "metadata": {
    "ExecuteTime": {
     "end_time": "2023-05-29T12:18:01.434100Z",
     "start_time": "2023-05-29T12:18:01.423615Z"
    }
   },
   "outputs": [
    {
     "data": {
      "text/plain": "4"
     },
     "execution_count": 8,
     "metadata": {},
     "output_type": "execute_result"
    }
   ],
   "source": [
    "a + 1"
   ]
  },
  {
   "cell_type": "markdown",
   "metadata": {},
   "source": [
    "But note that the value of `a` does not change:"
   ]
  },
  {
   "cell_type": "code",
   "execution_count": 9,
   "metadata": {
    "ExecuteTime": {
     "end_time": "2023-05-29T12:18:01.756741Z",
     "start_time": "2023-05-29T12:18:01.746410Z"
    }
   },
   "outputs": [
    {
     "data": {
      "text/plain": "3"
     },
     "execution_count": 9,
     "metadata": {},
     "output_type": "execute_result"
    }
   ],
   "source": [
    "a"
   ]
  },
  {
   "cell_type": "markdown",
   "metadata": {},
   "source": [
    "The value of `a` only changes when `=` is involved"
   ]
  },
  {
   "cell_type": "code",
   "execution_count": 10,
   "metadata": {
    "ExecuteTime": {
     "end_time": "2023-05-29T12:18:02.077128Z",
     "start_time": "2023-05-29T12:18:02.067913Z"
    }
   },
   "outputs": [],
   "source": [
    "a = a + 1"
   ]
  },
  {
   "cell_type": "code",
   "execution_count": 11,
   "metadata": {
    "ExecuteTime": {
     "end_time": "2023-05-29T12:18:02.242001Z",
     "start_time": "2023-05-29T12:18:02.231655Z"
    }
   },
   "outputs": [
    {
     "data": {
      "text/plain": "4"
     },
     "execution_count": 11,
     "metadata": {},
     "output_type": "execute_result"
    }
   ],
   "source": [
    "a"
   ]
  },
  {
   "cell_type": "markdown",
   "metadata": {},
   "source": [
    "### 2.2 Python Comments"
   ]
  },
  {
   "cell_type": "markdown",
   "metadata": {},
   "source": [
    "The `#` character has a special meaning in Python. Whenever it appears, all following characters on the same line are considered a comment and are ignored. You can use comments to explain what certain parts of your code do."
   ]
  },
  {
   "cell_type": "code",
   "execution_count": 12,
   "metadata": {
    "ExecuteTime": {
     "end_time": "2023-05-29T12:18:03.503216Z",
     "start_time": "2023-05-29T12:18:03.492068Z"
    }
   },
   "outputs": [],
   "source": [
    "# this is a comment"
   ]
  },
  {
   "cell_type": "code",
   "execution_count": 13,
   "metadata": {
    "ExecuteTime": {
     "end_time": "2023-05-29T12:18:04.754991Z",
     "start_time": "2023-05-29T12:18:04.744831Z"
    }
   },
   "outputs": [
    {
     "name": "stdout",
     "output_type": "stream",
     "text": [
      "1\n"
     ]
    }
   ],
   "source": [
    "print(1) # comments can be on the same line as code, too"
   ]
  },
  {
   "cell_type": "markdown",
   "metadata": {
    "id": "4hlk6IuZAhr9"
   },
   "source": [
    "## 3. Fundamental Python Data Types"
   ]
  },
  {
   "cell_type": "markdown",
   "metadata": {
    "id": "kGC27WsnAhr9"
   },
   "source": [
    "In general, a data type defines the format, sets the upper and lower bounds of the data so that a program could use it appropriately. However, **Python data types** are just more than that. In Python, we don’t need to declare a variable with explicitly mentioning the data type. This feature is famously known as **dynamic typing**."
   ]
  },
  {
   "cell_type": "markdown",
   "metadata": {
    "id": "I_Sdc2hCAhr9"
   },
   "source": [
    "Python determines the type of a literal (an element of code that has a fixed value) directly from the syntax at **runtime**. For example, the quotes mark the declaration of a string value, square brackets represent a list and curly brackets for a dictionary. Also, the non-decimal numbers will get assigned to Integer type whereas the ones with a decimal point will be a float."
   ]
  },
  {
   "cell_type": "markdown",
   "metadata": {
    "id": "3etc1a-UAhr9"
   },
   "source": [
    "There are four basic data types in the Python programming language:\n",
    "\n",
    "> * **Integer's** - represent positive or negative whole numbers with no decimal point.\n",
    "> * **Float's** - represent positive or negative real numbers and are written with a decimal point.\n",
    "> * **String's** - represent sequences of Unicode characters.\n",
    "> * **Boolean's** - represent constant objects that are either 'False' and 'True'. "
   ]
  },
  {
   "cell_type": "markdown",
   "metadata": {
    "id": "pm4m8RuEAhr9"
   },
   "source": [
    "<img align=\"center\" style=\"max-width: 800px; height: auto\" src=\"./python_data_types.png\">"
   ]
  },
  {
   "cell_type": "markdown",
   "metadata": {
    "id": "872PrAW0Ahr9"
   },
   "source": [
    "(Source: https://www.tes.com/teaching-resource/python-version-3-data-types-11949410.) "
   ]
  },
  {
   "cell_type": "markdown",
   "metadata": {
    "id": "xUWah-KXAhr9"
   },
   "source": [
    "### 3.1 Numerical Data Type \"Integer\""
   ]
  },
  {
   "cell_type": "markdown",
   "metadata": {
    "id": "gpsXfiWeAhr9"
   },
   "source": [
    "Whole numbers are one of the most prominent Python data types. Whole numbers in Python are often called just **'integers'** or **'ints'** and are positive or negative whole numbers with no decimal point. In Python 3, there is effectively no limit to how big an integer value can be. \n",
    "\n",
    "Of course, it is constrained by the **amount of memory** your system has, as are all things. But beyond that, an integer can be as long as you need it to be:"
   ]
  },
  {
   "cell_type": "code",
   "execution_count": 14,
   "metadata": {
    "id": "2KWVklmeAhr9",
    "ExecuteTime": {
     "end_time": "2023-05-29T12:18:24.963061Z",
     "start_time": "2023-05-29T12:18:24.941607Z"
    }
   },
   "outputs": [
    {
     "data": {
      "text/plain": "3"
     },
     "execution_count": 14,
     "metadata": {},
     "output_type": "execute_result"
    }
   ],
   "source": [
    "x = 3\n",
    "x"
   ]
  },
  {
   "cell_type": "markdown",
   "metadata": {
    "id": "TpBAAs5DAhr-"
   },
   "source": [
    "Print the variable type:"
   ]
  },
  {
   "cell_type": "code",
   "execution_count": 15,
   "metadata": {
    "id": "_FPHU3tUAhr-",
    "ExecuteTime": {
     "end_time": "2023-05-29T12:18:25.744351Z",
     "start_time": "2023-05-29T12:18:25.734465Z"
    }
   },
   "outputs": [
    {
     "data": {
      "text/plain": "int"
     },
     "execution_count": 15,
     "metadata": {},
     "output_type": "execute_result"
    }
   ],
   "source": [
    "type(x)"
   ]
  },
  {
   "cell_type": "markdown",
   "metadata": {
    "id": "KaCCn1B_Ahr-"
   },
   "source": [
    "Basic mathematical operations:"
   ]
  },
  {
   "cell_type": "code",
   "execution_count": 16,
   "metadata": {
    "id": "darB8tgDAhr-",
    "ExecuteTime": {
     "end_time": "2023-05-29T12:18:26.297480Z",
     "start_time": "2023-05-29T12:18:26.290572Z"
    }
   },
   "outputs": [
    {
     "name": "stdout",
     "output_type": "stream",
     "text": [
      "4\n",
      "2\n",
      "6\n",
      "9\n"
     ]
    }
   ],
   "source": [
    "print(x + 1)   # addition\n",
    "print(x - 1)   # subtraction\n",
    "print(x * 2)   # multiplication\n",
    "print(x ** 2)  # exponentiation "
   ]
  },
  {
   "cell_type": "markdown",
   "metadata": {
    "id": "fdbS7tnRAhr-"
   },
   "source": [
    "Note that `x` still has the same value after these operations. This is due to the fact that we did not assign a new value to this variable. We can change its value by combining the two notations that we used above:"
   ]
  },
  {
   "cell_type": "code",
   "execution_count": 17,
   "metadata": {
    "id": "WByN-ov2Ahr-",
    "ExecuteTime": {
     "end_time": "2023-05-29T12:18:27.211932Z",
     "start_time": "2023-05-29T12:18:27.202301Z"
    }
   },
   "outputs": [
    {
     "name": "stdout",
     "output_type": "stream",
     "text": [
      "3 original value\n",
      "4 after adding 1\n",
      "8 after multiplying with 2\n",
      "3 after subtracting 5\n"
     ]
    }
   ],
   "source": [
    "print(x, 'original value')\n",
    "x = x + 1\n",
    "print(x, 'after adding 1')\n",
    "x = x * 2\n",
    "print(x, 'after multiplying with 2')\n",
    "x = x - 5\n",
    "print(x, 'after subtracting 5')"
   ]
  },
  {
   "cell_type": "markdown",
   "metadata": {
    "id": "m3yXtk1zAhr-"
   },
   "source": [
    "Here are some shortcuts for basic operations combined with value assignment:"
   ]
  },
  {
   "cell_type": "code",
   "execution_count": 18,
   "metadata": {
    "id": "xnbVyfnjAhr-",
    "ExecuteTime": {
     "end_time": "2023-05-29T12:18:28.058411Z",
     "start_time": "2023-05-29T12:18:28.047017Z"
    }
   },
   "outputs": [
    {
     "name": "stdout",
     "output_type": "stream",
     "text": [
      "4\n",
      "8\n"
     ]
    }
   ],
   "source": [
    "x += 1\n",
    "print(x)  # prints \"4\"\n",
    "x *= 2\n",
    "print(x)  # prints \"8\""
   ]
  },
  {
   "cell_type": "markdown",
   "metadata": {
    "id": "NaxUKPB5Ahr-"
   },
   "source": [
    "### 3.2 Numerical Data Type \"Float\""
   ]
  },
  {
   "cell_type": "markdown",
   "metadata": {
    "id": "RvEFVczLAhr-"
   },
   "source": [
    "The **float** type in Python represents real numbers and are written with a decimal point dividing the integer and fractional parts. As a result, float values are specified with a decimal point and are often called just **'floats'**.\n",
    "\n",
    "A float type number can have precision up to **15 decimal places**:"
   ]
  },
  {
   "cell_type": "code",
   "execution_count": 19,
   "metadata": {
    "id": "XtIeuLuCAhr-",
    "ExecuteTime": {
     "end_time": "2023-05-29T12:18:29.994423Z",
     "start_time": "2023-05-29T12:18:29.985399Z"
    }
   },
   "outputs": [
    {
     "name": "stdout",
     "output_type": "stream",
     "text": [
      "3.0\n"
     ]
    }
   ],
   "source": [
    "y = 3.0\n",
    "print(y)"
   ]
  },
  {
   "cell_type": "markdown",
   "metadata": {
    "id": "bvB3W2DuAhr-"
   },
   "source": [
    "Print the variable type:"
   ]
  },
  {
   "cell_type": "code",
   "execution_count": 20,
   "metadata": {
    "id": "UAf9ZSBdAhr-",
    "ExecuteTime": {
     "end_time": "2023-05-29T12:18:31.213356Z",
     "start_time": "2023-05-29T12:18:31.180999Z"
    }
   },
   "outputs": [
    {
     "data": {
      "text/plain": "float"
     },
     "execution_count": 20,
     "metadata": {},
     "output_type": "execute_result"
    }
   ],
   "source": [
    "type(y)"
   ]
  },
  {
   "cell_type": "markdown",
   "metadata": {
    "id": "f7roGf_TAhr-"
   },
   "source": [
    "Basic mathematical operations:"
   ]
  },
  {
   "cell_type": "code",
   "execution_count": 21,
   "metadata": {
    "id": "qWek_fb6Ahr-",
    "ExecuteTime": {
     "end_time": "2023-05-29T12:18:32.304761Z",
     "start_time": "2023-05-29T12:18:32.294021Z"
    }
   },
   "outputs": [
    {
     "name": "stdout",
     "output_type": "stream",
     "text": [
      "4.0\n",
      "2.0\n",
      "6.0\n",
      "9.0\n"
     ]
    }
   ],
   "source": [
    "print(y + 1)   # addition\n",
    "print(y - 1)   # subtraction\n",
    "print(y * 2)   # multiplication\n",
    "print(y ** 2)  # exponentation"
   ]
  },
  {
   "cell_type": "markdown",
   "metadata": {
    "id": "PyN8jd-EAhr-"
   },
   "source": [
    "Optionally, the character e or E followed by a positive or negative integer may be appended to specify scientific notation:"
   ]
  },
  {
   "cell_type": "code",
   "execution_count": 22,
   "metadata": {
    "id": "SAOdwPMkAhr-",
    "ExecuteTime": {
     "end_time": "2023-05-29T12:18:33.460812Z",
     "start_time": "2023-05-29T12:18:33.450903Z"
    }
   },
   "outputs": [
    {
     "name": "stdout",
     "output_type": "stream",
     "text": [
      "1e-07\n",
      "1.0000001\n",
      "2e-07\n",
      "9.999999999999998e-15\n"
     ]
    }
   ],
   "source": [
    "z = 1e-7      # equals 0.0000001\n",
    "print(z)\n",
    "print(z + 1)\n",
    "print(z * 2)\n",
    "print(z ** 2)"
   ]
  },
  {
   "cell_type": "markdown",
   "metadata": {
    "id": "h8i6xfnaAhr-"
   },
   "source": [
    "### 3.3 Non-Numerical Data Type \"String\""
   ]
  },
  {
   "cell_type": "markdown",
   "metadata": {
    "id": "iz5xnvarAhr-"
   },
   "source": [
    "A sequence of one or more characters enclosed within either single quotes `'` or double quotes `\"` is considered as a **string** in Python. Any letter, a number or a symbol could be a part of the string. All the characters between the opening delimiter and matching closing delimiter are part of the string:"
   ]
  },
  {
   "cell_type": "code",
   "execution_count": 23,
   "metadata": {
    "id": "s6DTT6qNAhr-",
    "ExecuteTime": {
     "end_time": "2023-05-29T12:18:37.532753Z",
     "start_time": "2023-05-29T12:18:37.522305Z"
    }
   },
   "outputs": [
    {
     "name": "stdout",
     "output_type": "stream",
     "text": [
      "hello\n"
     ]
    }
   ],
   "source": [
    "hello = 'hello'    # string literals can use single quotes\n",
    "hello2 = \"gruezi\"  # or double quotes; it does not matter.\n",
    "print(hello)"
   ]
  },
  {
   "cell_type": "markdown",
   "metadata": {
    "id": "umpjULcKAhr-"
   },
   "source": [
    "Print the variable type:"
   ]
  },
  {
   "cell_type": "code",
   "execution_count": 24,
   "metadata": {
    "id": "F6yrWc1hAhr-",
    "ExecuteTime": {
     "end_time": "2023-05-29T12:18:41.603971Z",
     "start_time": "2023-05-29T12:18:41.594368Z"
    }
   },
   "outputs": [
    {
     "data": {
      "text/plain": "str"
     },
     "execution_count": 24,
     "metadata": {},
     "output_type": "execute_result"
    }
   ],
   "source": [
    "type(hello)"
   ]
  },
  {
   "cell_type": "markdown",
   "metadata": {
    "id": "sAEpANuFAhr-"
   },
   "source": [
    "Print the length of each string in terms of a number of characters:"
   ]
  },
  {
   "cell_type": "code",
   "execution_count": 25,
   "metadata": {
    "id": "xle40UhVAhr-",
    "ExecuteTime": {
     "end_time": "2023-05-29T12:18:43.448769Z",
     "start_time": "2023-05-29T12:18:43.439015Z"
    }
   },
   "outputs": [
    {
     "name": "stdout",
     "output_type": "stream",
     "text": [
      "5\n",
      "6\n"
     ]
    }
   ],
   "source": [
    "print(len(hello))\n",
    "print(len(hello2))"
   ]
  },
  {
   "cell_type": "markdown",
   "metadata": {
    "id": "TjT5t9KuAhr_"
   },
   "source": [
    "Like most programming languages, Python allows accessing individual characters of a string based on their \"index\", which indicates the position in the string. \n",
    "\n",
    "**Important Python Rule No. 1: Python starts counting indices at 0.**\n",
    "\n",
    "The index of the first character is 0, the index of the second character is 1, and so on. Reaching the end of a string seems tedious? Not really, since Python also supports negative indexes. Index -1 represents the last character of the String. Similarly using -2, we can access the penultimate character of the string and so on:"
   ]
  },
  {
   "cell_type": "code",
   "execution_count": 26,
   "metadata": {
    "id": "Qrbxn0zUAhr_",
    "ExecuteTime": {
     "end_time": "2023-05-29T12:18:45.597685Z",
     "start_time": "2023-05-29T12:18:45.587943Z"
    }
   },
   "outputs": [
    {
     "name": "stdout",
     "output_type": "stream",
     "text": [
      "first character: h\n",
      "third character: l\n",
      "last character: o\n",
      "penulminate character: l\n"
     ]
    }
   ],
   "source": [
    "print('first character:', hello[0])   \n",
    "print('third character:', hello[2])   \n",
    "print('last character:', hello[-1])   \n",
    "print('penulminate character:', hello[-2])   "
   ]
  },
  {
   "cell_type": "markdown",
   "metadata": {
    "id": "-4CtNNh3Ahr_"
   },
   "source": [
    "Concatenate two strings, e.g., to form a sentence:"
   ]
  },
  {
   "cell_type": "code",
   "execution_count": 27,
   "metadata": {
    "id": "37TZkrLHAhr_",
    "ExecuteTime": {
     "end_time": "2023-05-29T12:18:46.627198Z",
     "start_time": "2023-05-29T12:18:46.618151Z"
    }
   },
   "outputs": [
    {
     "name": "stdout",
     "output_type": "stream",
     "text": [
      "hello_gruezi and guten tag\n"
     ]
    }
   ],
   "source": [
    "hw = hello + '_' + hello2 + ' and guten tag' # string concatenation\n",
    "print(hw)  # prints \"hello world, my name is peterli 12\""
   ]
  },
  {
   "cell_type": "markdown",
   "metadata": {
    "id": "fhTpE7vWAhr_"
   },
   "source": [
    "String objects have a bunch of useful methods; for example:"
   ]
  },
  {
   "cell_type": "code",
   "execution_count": 28,
   "metadata": {
    "id": "Y-CMRkieAhr_",
    "ExecuteTime": {
     "end_time": "2023-05-29T12:18:47.571057Z",
     "start_time": "2023-05-29T12:18:47.560906Z"
    }
   },
   "outputs": [
    {
     "name": "stdout",
     "output_type": "stream",
     "text": [
      "Hello\n",
      "HELLO\n",
      "  hello\n",
      " hello \n",
      "he(ell)(ell)o\n"
     ]
    }
   ],
   "source": [
    "s = \"hello\"                     # init string variable\n",
    "print(s.capitalize())           # capitalize a string; prints \"Hello\"\n",
    "print(s.upper())                # convert a string to uppercase; prints \"HELLO\"\n",
    "print(s.rjust(7))               # right-justify a string, padding with spaces; prints \"  hello\"\n",
    "print(s.center(7))              # center a string, padding with spaces; prints \" hello \"\n",
    "print(s.replace('l', '(ell)'))  # replace all instances of one substring with another;"
   ]
  },
  {
   "cell_type": "markdown",
   "metadata": {},
   "source": [
    "Strings can be formatted automatically, e.g., consider the following example of printing the temperature:"
   ]
  },
  {
   "cell_type": "code",
   "execution_count": 29,
   "metadata": {
    "ExecuteTime": {
     "end_time": "2023-05-29T12:18:53.008113Z",
     "start_time": "2023-05-29T12:18:52.997485Z"
    }
   },
   "outputs": [
    {
     "name": "stdout",
     "output_type": "stream",
     "text": [
      "The current temperature is 12.1.\n"
     ]
    }
   ],
   "source": [
    "temp = 12.1\n",
    "\n",
    "print(\"The current temperature is {}.\".format(temp))"
   ]
  },
  {
   "cell_type": "markdown",
   "metadata": {
    "id": "mLTPXEkRAhr_"
   },
   "source": [
    "### 3.4 Non-Numerical Data Type \"Boolean\""
   ]
  },
  {
   "cell_type": "markdown",
   "metadata": {
    "id": "9rBSDo72Ahr_"
   },
   "source": [
    "Python provides a Boolean data type. Objects of type boolean type may have one of two values, \"True\" or \"False\":"
   ]
  },
  {
   "cell_type": "code",
   "execution_count": 30,
   "metadata": {
    "id": "pnGl-y-YAhr_",
    "ExecuteTime": {
     "end_time": "2023-05-29T12:18:55.014069Z",
     "start_time": "2023-05-29T12:18:55.004052Z"
    }
   },
   "outputs": [
    {
     "name": "stdout",
     "output_type": "stream",
     "text": [
      "True\n",
      "False\n"
     ]
    }
   ],
   "source": [
    "a = True\n",
    "b = False\n",
    "print(a)\n",
    "print(b)"
   ]
  },
  {
   "cell_type": "markdown",
   "metadata": {
    "id": "qDwZYNYFAhr_"
   },
   "source": [
    "Print the variable type:"
   ]
  },
  {
   "cell_type": "code",
   "execution_count": 31,
   "metadata": {
    "id": "AgcibAXUAhsA",
    "ExecuteTime": {
     "end_time": "2023-05-29T12:18:56.661218Z",
     "start_time": "2023-05-29T12:18:56.651414Z"
    }
   },
   "outputs": [
    {
     "data": {
      "text/plain": "bool"
     },
     "execution_count": 31,
     "metadata": {},
     "output_type": "execute_result"
    }
   ],
   "source": [
    "type(a)"
   ]
  },
  {
   "cell_type": "markdown",
   "metadata": {
    "id": "e5-q0QRpAhsA"
   },
   "source": [
    "Booleans are often used in Python to test conditions or constraints. For example, a string in Python can be tested for truth value. The return type will be then a Boolean value (True or False). Let’s have a look at a few examples:"
   ]
  },
  {
   "cell_type": "code",
   "execution_count": 32,
   "metadata": {
    "ExecuteTime": {
     "end_time": "2023-05-29T12:18:57.156059Z",
     "start_time": "2023-05-29T12:18:57.146619Z"
    }
   },
   "outputs": [
    {
     "data": {
      "text/plain": "True"
     },
     "execution_count": 32,
     "metadata": {},
     "output_type": "execute_result"
    }
   ],
   "source": [
    "2 > 1  # read: is 2 greater than 1?"
   ]
  },
  {
   "cell_type": "code",
   "execution_count": 33,
   "metadata": {
    "ExecuteTime": {
     "end_time": "2023-05-29T12:18:57.452970Z",
     "start_time": "2023-05-29T12:18:57.443548Z"
    }
   },
   "outputs": [
    {
     "data": {
      "text/plain": "False"
     },
     "execution_count": 33,
     "metadata": {},
     "output_type": "execute_result"
    }
   ],
   "source": [
    "1 > 2  # read: is 1 greater than 2?"
   ]
  },
  {
   "cell_type": "code",
   "execution_count": 34,
   "metadata": {
    "ExecuteTime": {
     "end_time": "2023-05-29T12:18:58.200285Z",
     "start_time": "2023-05-29T12:18:58.190797Z"
    }
   },
   "outputs": [
    {
     "data": {
      "text/plain": "False"
     },
     "execution_count": 34,
     "metadata": {},
     "output_type": "execute_result"
    }
   ],
   "source": [
    "1 == 2  # read: is 1 equal to 2?"
   ]
  },
  {
   "cell_type": "markdown",
   "metadata": {},
   "source": [
    "Methods can return booleans, too:"
   ]
  },
  {
   "cell_type": "code",
   "execution_count": 35,
   "metadata": {
    "id": "4P7rzjbhAhsA",
    "ExecuteTime": {
     "end_time": "2023-05-29T12:19:02.127023Z",
     "start_time": "2023-05-29T12:19:02.117309Z"
    }
   },
   "outputs": [
    {
     "name": "stdout",
     "output_type": "stream",
     "text": [
      "False\n"
     ]
    }
   ],
   "source": [
    "s1 = 'This is a test string.'\n",
    "result_upper = s1.isupper()        # test if string contains only upper case characters\n",
    "print(result_upper)"
   ]
  },
  {
   "cell_type": "markdown",
   "metadata": {
    "id": "NCt2v7X7AhsA"
   },
   "source": [
    "We can even logically combine the tested conditions above:"
   ]
  },
  {
   "cell_type": "code",
   "execution_count": 36,
   "metadata": {
    "id": "kuZZwqeSAhsA",
    "ExecuteTime": {
     "end_time": "2023-05-29T12:19:03.369132Z",
     "start_time": "2023-05-29T12:19:03.359912Z"
    }
   },
   "outputs": [
    {
     "name": "stdout",
     "output_type": "stream",
     "text": [
      "False\n",
      "True\n",
      "False\n",
      "False\n",
      "True\n"
     ]
    }
   ],
   "source": [
    "print(a and b)               # Logical AND; prints \"False\"\n",
    "print(a or b)                # Logical OR; prints \"True\"\n",
    "print(a and result_upper)    # Logical AND; prints \"True\"\n",
    "print(not a)                 # Logical NOT; prints \"False\"\n",
    "print(a != b)                # Logical XOR; prints \"True\""
   ]
  },
  {
   "cell_type": "markdown",
   "metadata": {
    "id": "om8yoCtlAhsA"
   },
   "source": [
    "As you will see in upcoming labs, expressions in Python are often evaluated in a boolean context, meaning they are interpreted to represent truth or falsehood. A value that is true in Boolean context is sometimes said to be “truthy,” and one that is false in Boolean context is said to be “falsy”."
   ]
  },
  {
   "cell_type": "markdown",
   "metadata": {
    "id": "gAktEvEHAhsB"
   },
   "source": [
    "## 4. Fundamental Python Data Containers"
   ]
  },
  {
   "cell_type": "markdown",
   "metadata": {
    "id": "oXL3MIogAhsB"
   },
   "source": [
    "There are four collection data types in the Python programming language:\n",
    "\n",
    "> * **List** - is a collection which is ordered and changeable. Allows duplicate members.\n",
    "> * **Tuple** - is a collection which is ordered and unchangeable. Allows duplicate members.\n",
    "> * **Set** - is a collection which is unordered and unindexed. No duplicate members.\n",
    "> * **Dictionary** - is a collection which is unordered, changeable and indexed. No duplicate members.\n",
    "\n",
    "When choosing a collection type, it is useful to understand the properties of that type. Choosing the right type for a particular data set could mean retention of meaning, and, it could mean an increase in efficiency or security. \n",
    "\n",
    "During this lab, we will have a closer look into **lists** and **dictionaries**."
   ]
  },
  {
   "cell_type": "markdown",
   "metadata": {
    "id": "HeqWM-1DAhsB"
   },
   "source": [
    "<img align=\"center\" style=\"max-width: 800px; height: auto\" src=\"./python_data_containers.png\">"
   ]
  },
  {
   "cell_type": "markdown",
   "metadata": {
    "id": "oLu2XES9AhsB"
   },
   "source": [
    "(Source: https://www.tes.com/teaching-resource/python-version-3-data-types-11949410.) "
   ]
  },
  {
   "cell_type": "markdown",
   "metadata": {
    "id": "_pdB4n_0AhsB"
   },
   "source": [
    "### 4.1 Data Container \"List\""
   ]
  },
  {
   "cell_type": "markdown",
   "metadata": {
    "id": "roWncLMJAhsB"
   },
   "source": [
    "A list is a collection of basic Python data types in which \"elements\" are ordered in a mutable (elements can be changed) sequence.\n",
    "\n",
    "In Python, lists are written with square brackets. Python lists allow duplicate elements, are resizeable and can contain elements of different data types. Lists can be initialized like this:"
   ]
  },
  {
   "cell_type": "code",
   "execution_count": 37,
   "metadata": {
    "ExecuteTime": {
     "end_time": "2023-05-29T12:19:08.166857Z",
     "start_time": "2023-05-29T12:19:08.158545Z"
    }
   },
   "outputs": [
    {
     "data": {
      "text/plain": "[42, 5, 128, 5, 97, 208]"
     },
     "execution_count": 37,
     "metadata": {},
     "output_type": "execute_result"
    }
   ],
   "source": [
    "l = [42, 5, 128, 5, 97, 208]\n",
    "l                       "
   ]
  },
  {
   "cell_type": "markdown",
   "metadata": {},
   "source": [
    "Similarly to strings, list elements can accessed using the same square-bracket formalism (keep in mind our Import Python Rule No. 1):"
   ]
  },
  {
   "cell_type": "code",
   "execution_count": 38,
   "metadata": {
    "ExecuteTime": {
     "end_time": "2023-05-29T12:19:08.902378Z",
     "start_time": "2023-05-29T12:19:08.892179Z"
    }
   },
   "outputs": [
    {
     "name": "stdout",
     "output_type": "stream",
     "text": [
      "first element: 42\n",
      "third element: 128\n",
      "last element: 208\n",
      "penultimate element: 97\n"
     ]
    }
   ],
   "source": [
    "print('first element:', l[0])\n",
    "print('third element:', l[2])\n",
    "print('last element:', l[-1])\n",
    "print('penultimate element:', l[-2])"
   ]
  },
  {
   "cell_type": "markdown",
   "metadata": {
    "id": "EyJOQCk_AhsB"
   },
   "source": [
    "(This parallelism to strings is not by accident: strings are simply implemented as lists of characters in Python.) "
   ]
  },
  {
   "cell_type": "markdown",
   "metadata": {
    "id": "YwuSfBVAAhsB"
   },
   "source": [
    "Lists are their own variable type:"
   ]
  },
  {
   "cell_type": "code",
   "execution_count": 39,
   "metadata": {
    "id": "6tYjOue2AhsB",
    "ExecuteTime": {
     "end_time": "2023-05-29T12:19:12.298384Z",
     "start_time": "2023-05-29T12:19:12.288549Z"
    }
   },
   "outputs": [
    {
     "data": {
      "text/plain": "list"
     },
     "execution_count": 39,
     "metadata": {},
     "output_type": "execute_result"
    }
   ],
   "source": [
    "type(l)"
   ]
  },
  {
   "cell_type": "markdown",
   "metadata": {
    "id": "dTF6z3PPAhsC"
   },
   "source": [
    "Determine the total number of list elements:"
   ]
  },
  {
   "cell_type": "code",
   "execution_count": 40,
   "metadata": {
    "id": "Jabb09G9AhsC",
    "ExecuteTime": {
     "end_time": "2023-05-29T12:19:13.207904Z",
     "start_time": "2023-05-29T12:19:13.197751Z"
    }
   },
   "outputs": [
    {
     "name": "stdout",
     "output_type": "stream",
     "text": [
      "6\n"
     ]
    }
   ],
   "source": [
    "print(len(l))         # print the number of elements contained in the list"
   ]
  },
  {
   "cell_type": "markdown",
   "metadata": {
    "id": "umyLNivhAhsC"
   },
   "source": [
    "Replace a list element by assigning a new value at a specific index:"
   ]
  },
  {
   "cell_type": "code",
   "execution_count": 41,
   "metadata": {
    "id": "w-QLB8TEAhsC",
    "ExecuteTime": {
     "end_time": "2023-05-29T12:19:13.703583Z",
     "start_time": "2023-05-29T12:19:13.692985Z"
    }
   },
   "outputs": [
    {
     "name": "stdout",
     "output_type": "stream",
     "text": [
      "[42, 5, 'happy', 5, 97, 208]\n"
     ]
    }
   ],
   "source": [
    "l[2] = 'happy'        # lists can contain elements of different types\n",
    "print(l)"
   ]
  },
  {
   "cell_type": "markdown",
   "metadata": {
    "id": "pvjIVfOEAhsC"
   },
   "source": [
    "Append an element to the end of a list:"
   ]
  },
  {
   "cell_type": "code",
   "execution_count": 42,
   "metadata": {
    "id": "oohToEtaAhsC",
    "ExecuteTime": {
     "end_time": "2023-05-29T12:19:15.512025Z",
     "start_time": "2023-05-29T12:19:15.501942Z"
    }
   },
   "outputs": [
    {
     "name": "stdout",
     "output_type": "stream",
     "text": [
      "[42, 5, 'happy', 5, 97, 208, 'coding']\n"
     ]
    }
   ],
   "source": [
    "l.append('coding')    # add a new element to the end of the list\n",
    "print(l)"
   ]
  },
  {
   "cell_type": "markdown",
   "metadata": {
    "id": "j0lF8PxpAhsC"
   },
   "source": [
    "Create a list of numbers:"
   ]
  },
  {
   "cell_type": "code",
   "execution_count": 43,
   "metadata": {
    "id": "gogk0tbAAhsC",
    "ExecuteTime": {
     "end_time": "2023-05-29T12:19:15.962358Z",
     "start_time": "2023-05-29T12:19:15.942919Z"
    }
   },
   "outputs": [
    {
     "name": "stdout",
     "output_type": "stream",
     "text": [
      "[0, 1, 2, 3, 4]\n"
     ]
    }
   ],
   "source": [
    "l = list(range(5))     # range is a built-in function that creates a list of integers\n",
    "print(l)               # prints \"[0, 1, 2, 3, 4]\""
   ]
  },
  {
   "cell_type": "markdown",
   "metadata": {
    "id": "U8zlgAe7AhsC"
   },
   "source": [
    "Slice list using distinct indexing techniques:"
   ]
  },
  {
   "cell_type": "code",
   "execution_count": 44,
   "metadata": {
    "id": "tHMaNkVjAhsC",
    "ExecuteTime": {
     "end_time": "2023-05-29T12:19:16.393593Z",
     "start_time": "2023-05-29T12:19:16.383544Z"
    }
   },
   "outputs": [
    {
     "name": "stdout",
     "output_type": "stream",
     "text": [
      "[2, 3]\n",
      "[2, 3, 4]\n",
      "[0, 1]\n",
      "[0, 1, 2, 3, 4]\n",
      "[0, 1, 2, 3]\n",
      "[4, 3, 2, 1, 0]\n"
     ]
    }
   ],
   "source": [
    "print(l[2:4])    # get a slice from index 2 to 4 (exclusive); prints \"[2, 3]\"\n",
    "print(l[2:])     # get a slice from index 2 to the end; prints \"[2, 3, 4]\"\n",
    "print(l[:2])     # get a slice from the start to index 2 (exclusive); prints \"[0, 1]\"\n",
    "print(l[:])      # get a slice of the whole list; prints [\"0, 1, 2, 3, 4]\"\n",
    "print(l[:-1])    # slice indices can be negative; prints [\"0, 1, 2, 3]\"\n",
    "print(l[::-1])   # you can also modify the step size and reverse the list"
   ]
  },
  {
   "cell_type": "markdown",
   "metadata": {
    "id": "AGOhPrZqAhsC"
   },
   "source": [
    "Replace range of list elements:"
   ]
  },
  {
   "cell_type": "code",
   "execution_count": 45,
   "metadata": {
    "id": "FyLbZ9ZJAhsC",
    "ExecuteTime": {
     "end_time": "2023-05-29T12:19:17.018420Z",
     "start_time": "2023-05-29T12:19:17.008796Z"
    }
   },
   "outputs": [
    {
     "name": "stdout",
     "output_type": "stream",
     "text": [
      "[0, 1, 8, 9, 4]\n"
     ]
    }
   ],
   "source": [
    "l[2:4] = [8, 9]  # assign a new sublist to a slice\n",
    "print(l)         # prints \"[0, 1, 8, 9, 4]\""
   ]
  },
  {
   "cell_type": "markdown",
   "metadata": {},
   "source": [
    "### 4.2 Intermezzo: \"Tuples\"\n",
    "\n",
    "Tuples are basically immutable lists. They utilize parentheses instead of square brackets:"
   ]
  },
  {
   "cell_type": "code",
   "execution_count": 46,
   "metadata": {
    "ExecuteTime": {
     "end_time": "2023-05-29T12:19:21.283086Z",
     "start_time": "2023-05-29T12:19:21.273696Z"
    }
   },
   "outputs": [
    {
     "data": {
      "text/plain": "(1, 'test', 56)"
     },
     "execution_count": 46,
     "metadata": {},
     "output_type": "execute_result"
    }
   ],
   "source": [
    "t = (1, \"test\", 56)\n",
    "t"
   ]
  },
  {
   "cell_type": "markdown",
   "metadata": {},
   "source": [
    "Most list functions also work on tuples:"
   ]
  },
  {
   "cell_type": "code",
   "execution_count": 47,
   "metadata": {
    "ExecuteTime": {
     "end_time": "2023-05-29T12:19:22.162105Z",
     "start_time": "2023-05-29T12:19:22.151565Z"
    }
   },
   "outputs": [
    {
     "data": {
      "text/plain": "3"
     },
     "execution_count": 47,
     "metadata": {},
     "output_type": "execute_result"
    }
   ],
   "source": [
    "len(t)"
   ]
  },
  {
   "cell_type": "markdown",
   "metadata": {},
   "source": [
    "But keep in mind that tuples cannot be modified:"
   ]
  },
  {
   "cell_type": "code",
   "execution_count": 48,
   "metadata": {
    "ExecuteTime": {
     "end_time": "2023-05-29T12:19:23.635738Z",
     "start_time": "2023-05-29T12:19:23.626217Z"
    }
   },
   "outputs": [],
   "source": [
    "#t[0] = 5"
   ]
  },
  {
   "cell_type": "markdown",
   "metadata": {
    "id": "K6iNqlsmAhsC"
   },
   "source": [
    "### 4.3 Data Container \"Dictionary\""
   ]
  },
  {
   "cell_type": "markdown",
   "metadata": {
    "id": "ZnJh3nevAhsD"
   },
   "source": [
    "In Python, dictionaries are used to store associations similar to actual dictionaries that, e.g., translate between two different languages.\n",
    "\n",
    "A dictionary is a collection of basic Python data types in which \"elements\" consist of (key, value) pairs that are unordered, mutable and indexed. Every key is only allowed once in the dictionary (since it is indexed), but the same value can occur many times. Dictionaries are written with curly brackets and  can be initialized like this:"
   ]
  },
  {
   "cell_type": "code",
   "execution_count": 49,
   "metadata": {
    "id": "JhAXqzKDAhsD",
    "ExecuteTime": {
     "end_time": "2023-05-29T12:19:38.359167Z",
     "start_time": "2023-05-29T12:19:38.349695Z"
    }
   },
   "outputs": [
    {
     "data": {
      "text/plain": "{'cat': 'Katze', 'flower': 'Blume', 'house': 'Haus', 'owl': 'Eule'}"
     },
     "execution_count": 49,
     "metadata": {},
     "output_type": "execute_result"
    }
   ],
   "source": [
    "d = {'cat': 'Katze', 'flower': 'Blume', 'house': 'Haus', 'owl': 'Eule'}\n",
    "d"
   ]
  },
  {
   "cell_type": "markdown",
   "metadata": {
    "id": "iqSkgP0lAhsD"
   },
   "source": [
    "Retrieve and print the value corresponding to the key \"cat\":"
   ]
  },
  {
   "cell_type": "code",
   "execution_count": 50,
   "metadata": {
    "id": "JN8QQJPmAhsD",
    "ExecuteTime": {
     "end_time": "2023-05-29T12:19:38.700325Z",
     "start_time": "2023-05-29T12:19:38.689434Z"
    }
   },
   "outputs": [
    {
     "name": "stdout",
     "output_type": "stream",
     "text": [
      "Katze\n"
     ]
    }
   ],
   "source": [
    "print(d['cat'])"
   ]
  },
  {
   "cell_type": "markdown",
   "metadata": {
    "id": "Hh6TbSHLAhsD"
   },
   "source": [
    "We can add new dictionary elements:"
   ]
  },
  {
   "cell_type": "code",
   "execution_count": 51,
   "metadata": {
    "id": "hKa7SyfuAhsD",
    "ExecuteTime": {
     "end_time": "2023-05-29T12:19:39.174424Z",
     "start_time": "2023-05-29T12:19:39.164737Z"
    }
   },
   "outputs": [
    {
     "data": {
      "text/plain": "{'cat': 'Katze',\n 'flower': 'Blume',\n 'house': 'Haus',\n 'owl': 'Eule',\n 'pumpkin': 'Kürbis'}"
     },
     "execution_count": 51,
     "metadata": {},
     "output_type": "execute_result"
    }
   ],
   "source": [
    "d['pumpkin'] = 'Kürbis'\n",
    "d"
   ]
  },
  {
   "cell_type": "markdown",
   "metadata": {},
   "source": [
    "And we can modify existing dictionary element by overwriting them (since every key is only allowed once):"
   ]
  },
  {
   "cell_type": "code",
   "execution_count": 52,
   "metadata": {
    "ExecuteTime": {
     "end_time": "2023-05-29T12:19:39.537617Z",
     "start_time": "2023-05-29T12:19:39.527791Z"
    }
   },
   "outputs": [
    {
     "data": {
      "text/plain": "{'cat': 'Katze',\n 'flower': 'Blume',\n 'house': 'Haus',\n 'owl': 'Kauz',\n 'pumpkin': 'Kürbis'}"
     },
     "execution_count": 52,
     "metadata": {},
     "output_type": "execute_result"
    }
   ],
   "source": [
    "d['owl'] = 'Kauz'\n",
    "d"
   ]
  },
  {
   "cell_type": "markdown",
   "metadata": {
    "id": "883vtdk9AhsF"
   },
   "source": [
    "Retrieve and print all dictionary keys:"
   ]
  },
  {
   "cell_type": "code",
   "execution_count": 53,
   "metadata": {
    "id": "uyKhmfZzAhsF",
    "ExecuteTime": {
     "end_time": "2023-05-29T12:19:40.054629Z",
     "start_time": "2023-05-29T12:19:40.044890Z"
    }
   },
   "outputs": [
    {
     "data": {
      "text/plain": "dict_keys(['cat', 'flower', 'house', 'owl', 'pumpkin'])"
     },
     "execution_count": 53,
     "metadata": {},
     "output_type": "execute_result"
    }
   ],
   "source": [
    "d.keys()"
   ]
  },
  {
   "cell_type": "markdown",
   "metadata": {
    "id": "5RbM8OWkAhsF"
   },
   "source": [
    "Retrieve and print all dictionary values:"
   ]
  },
  {
   "cell_type": "code",
   "execution_count": 54,
   "metadata": {
    "id": "1sKK_VQ-AhsF",
    "ExecuteTime": {
     "end_time": "2023-05-29T12:19:40.442057Z",
     "start_time": "2023-05-29T12:19:40.431864Z"
    }
   },
   "outputs": [
    {
     "data": {
      "text/plain": "dict_values(['Katze', 'Blume', 'Haus', 'Kauz', 'Kürbis'])"
     },
     "execution_count": 54,
     "metadata": {},
     "output_type": "execute_result"
    }
   ],
   "source": [
    "d.values()"
   ]
  },
  {
   "cell_type": "markdown",
   "metadata": {},
   "source": [
    "You can also retrieve a list of key-value pairs in the form of tuples:"
   ]
  },
  {
   "cell_type": "code",
   "execution_count": 55,
   "metadata": {
    "ExecuteTime": {
     "end_time": "2023-05-29T12:19:40.825400Z",
     "start_time": "2023-05-29T12:19:40.816669Z"
    }
   },
   "outputs": [
    {
     "data": {
      "text/plain": "dict_items([('cat', 'Katze'), ('flower', 'Blume'), ('house', 'Haus'), ('owl', 'Kauz'), ('pumpkin', 'Kürbis')])"
     },
     "execution_count": 55,
     "metadata": {},
     "output_type": "execute_result"
    }
   ],
   "source": [
    "d.items()"
   ]
  },
  {
   "cell_type": "markdown",
   "metadata": {
    "id": "TspmIAVwAhsG"
   },
   "source": [
    "Try to retrieve a dictionary value that is not contained in the dictionary (this will result in an error): "
   ]
  },
  {
   "cell_type": "code",
   "execution_count": 56,
   "metadata": {
    "id": "dBTFvm1lAhsG",
    "ExecuteTime": {
     "end_time": "2023-05-29T12:19:41.191304Z",
     "start_time": "2023-05-29T12:19:41.182204Z"
    }
   },
   "outputs": [],
   "source": [
    "#print(d['ghost'])                  # KeyError: 'ghost' not a key of the dictionary"
   ]
  },
  {
   "cell_type": "markdown",
   "metadata": {},
   "source": [
    "### 4.4 Intermezzo: \"Sets\""
   ]
  },
  {
   "cell_type": "markdown",
   "metadata": {},
   "source": [
    "Sets are basically dictionaries that only consist of keys without values. Like sets in the mathematical meaning, only unique elements are considered. Consider the following example:"
   ]
  },
  {
   "cell_type": "code",
   "execution_count": 57,
   "metadata": {
    "ExecuteTime": {
     "end_time": "2023-05-29T12:19:46.389656Z",
     "start_time": "2023-05-29T12:19:46.326581Z"
    }
   },
   "outputs": [
    {
     "data": {
      "text/plain": "{1, 3, 6, 33}"
     },
     "execution_count": 57,
     "metadata": {},
     "output_type": "execute_result"
    }
   ],
   "source": [
    "s1 = {1, 2, 5, 9, 34}\n",
    "s2 = {1, 1, 3, 6, 33}\n",
    "s2"
   ]
  },
  {
   "cell_type": "markdown",
   "metadata": {},
   "source": [
    "Set `s2` only has a single element `1`, since only unique elements are considered. \n",
    "\n",
    "Sets are useful for comparisons. For instance, you can derive the intersection of two sets"
   ]
  },
  {
   "cell_type": "code",
   "execution_count": 58,
   "metadata": {
    "ExecuteTime": {
     "end_time": "2023-05-29T12:19:48.443507Z",
     "start_time": "2023-05-29T12:19:48.433665Z"
    }
   },
   "outputs": [
    {
     "data": {
      "text/plain": "{1}"
     },
     "execution_count": 58,
     "metadata": {},
     "output_type": "execute_result"
    }
   ],
   "source": [
    "s1.intersection(s2)"
   ]
  },
  {
   "cell_type": "markdown",
   "metadata": {},
   "source": [
    "and the union of two sets:"
   ]
  },
  {
   "cell_type": "code",
   "execution_count": 59,
   "metadata": {
    "ExecuteTime": {
     "end_time": "2023-05-29T12:19:49.739505Z",
     "start_time": "2023-05-29T12:19:49.730064Z"
    }
   },
   "outputs": [
    {
     "data": {
      "text/plain": "{1, 2, 3, 5, 6, 9, 33, 34}"
     },
     "execution_count": 59,
     "metadata": {},
     "output_type": "execute_result"
    }
   ],
   "source": [
    "s1.union(s2)"
   ]
  },
  {
   "cell_type": "markdown",
   "metadata": {
    "id": "m5QNnbHKAhsJ"
   },
   "source": [
    "## 5. Fundamental Programming Structures"
   ]
  },
  {
   "cell_type": "markdown",
   "metadata": {
    "id": "flEH90sOAhsJ"
   },
   "source": [
    "As part of this lab, we want to have a closer look at three basic programming structures of Python:\n",
    "\n",
    "> * **For-Loops** - used to iterate over a sequence of program statements.\n",
    "> * **Decision Structures** - used to anticipate conditions occurring while the execution of a program."
   ]
  },
  {
   "cell_type": "markdown",
   "metadata": {
    "id": "gUyNrvBFAhsJ"
   },
   "source": [
    "### 5.1 Python Loop Structures"
   ]
  },
  {
   "cell_type": "markdown",
   "metadata": {
    "id": "3WOZuHVTAhsJ"
   },
   "source": [
    "To keep a program doing some useful work we need some kind of repetition, looping back over the same block of code again and again. Below we will describe the different kinds of loops available in Python."
   ]
  },
  {
   "cell_type": "markdown",
   "metadata": {
    "id": "V10EPxYzAhsJ"
   },
   "source": [
    "The for loop that is used to iterate over elements of a sequence, it is often used when you have a piece of code which you want to repeat a specifc \"n\" number of times. The nature of a for-loop in Python is very straightforward  **\"for all elements in a list, do this\".**\n",
    "\n",
    "Let's say that you have a list; you can then loop over the list elements using the `for` keyword like this:\n"
   ]
  },
  {
   "cell_type": "code",
   "execution_count": 60,
   "metadata": {
    "id": "v_qHreC8AhsK",
    "ExecuteTime": {
     "end_time": "2023-05-29T12:19:54.684758Z",
     "start_time": "2023-05-29T12:19:54.675138Z"
    }
   },
   "outputs": [
    {
     "name": "stdout",
     "output_type": "stream",
     "text": [
      "cat\n",
      "night\n",
      "pumpkin\n"
     ]
    }
   ],
   "source": [
    "# list initialization\n",
    "l = ['cat', 'night', 'pumpkin']\n",
    "\n",
    "# loop initialization and run\n",
    "for s in l: \n",
    "    print(s)"
   ]
  },
  {
   "cell_type": "markdown",
   "metadata": {
    "id": "PPWf9Ah_AhsK"
   },
   "source": [
    "**Important Python Rule No. 2: Python relies on the concept of indentation, using whitespace (or tabs), to define the scope in the code.** This means that all code lines that use the same level of indentation belong to the same for-loop, function, etc.\n",
    "\n",
    "Other programming languages such as Java or C# often use brackets or curly-brackets for this purpose. Consider the following examples:"
   ]
  },
  {
   "cell_type": "code",
   "execution_count": 61,
   "metadata": {
    "ExecuteTime": {
     "end_time": "2023-05-29T12:19:55.602080Z",
     "start_time": "2023-05-29T12:19:55.591705Z"
    }
   },
   "outputs": [
    {
     "name": "stdout",
     "output_type": "stream",
     "text": [
      "cat\n",
      "I'm here\n",
      "night\n",
      "I'm here\n",
      "pumpkin\n",
      "I'm here\n"
     ]
    }
   ],
   "source": [
    "for s in l:\n",
    "    print(s)\n",
    "    print(\"I'm here\")"
   ]
  },
  {
   "cell_type": "code",
   "execution_count": 62,
   "metadata": {
    "ExecuteTime": {
     "end_time": "2023-05-29T12:19:56.150815Z",
     "start_time": "2023-05-29T12:19:56.140782Z"
    }
   },
   "outputs": [
    {
     "name": "stdout",
     "output_type": "stream",
     "text": [
      "cat\n",
      "night\n",
      "pumpkin\n",
      "I'm here\n"
     ]
    }
   ],
   "source": [
    "for s in l:\n",
    "    print(s)\n",
    "print(\"I'm here\")"
   ]
  },
  {
   "cell_type": "markdown",
   "metadata": {},
   "source": [
    "Only in the former example `I'm here` is printed in every iteration since its level of indentation indicates that it is part of the for-loop. In the latter case, the second print function does not use indentation, so it is not considered part of the for-loop and only printed after the loop has finished. "
   ]
  },
  {
   "cell_type": "markdown",
   "metadata": {
    "id": "5_GiXfL4AhsK"
   },
   "source": [
    "To loop over a list of numbers, we can use Python's `range` function. The `range(lower_bound, upper_bound, step_size)` function generates a sequence of numbers, starting from the `lower_bound` to the `upper_bound`. The `lower_bound` and `step_size` parameters are optional. By default the lower bound is set to zero, the incremental step is set to one."
   ]
  },
  {
   "cell_type": "code",
   "execution_count": 63,
   "metadata": {
    "id": "e22EoVZVAhsK",
    "ExecuteTime": {
     "end_time": "2023-05-29T12:19:57.833799Z",
     "start_time": "2023-05-29T12:19:57.823743Z"
    }
   },
   "outputs": [
    {
     "name": "stdout",
     "output_type": "stream",
     "text": [
      "1\n",
      "2\n",
      "3\n",
      "4\n",
      "5\n",
      "6\n",
      "7\n",
      "8\n",
      "9\n"
     ]
    }
   ],
   "source": [
    "# loop over range elements\n",
    "for i in range(1, 10):\n",
    "    \n",
    "    # print current value of i\n",
    "    print(i)"
   ]
  },
  {
   "cell_type": "markdown",
   "metadata": {
    "id": "dzjP1eNhAhsK"
   },
   "source": [
    "To break out from a loop, you can use the keyword `break`. Let's have a look at the following example: "
   ]
  },
  {
   "cell_type": "code",
   "execution_count": 64,
   "metadata": {
    "id": "osyVk7JdAhsK",
    "ExecuteTime": {
     "end_time": "2023-05-29T12:19:59.167088Z",
     "start_time": "2023-05-29T12:19:59.157293Z"
    }
   },
   "outputs": [
    {
     "name": "stdout",
     "output_type": "stream",
     "text": [
      "1\n",
      "2\n"
     ]
    }
   ],
   "source": [
    "# loop over range elements\n",
    "for i in range(1, 10000000000):\n",
    "    \n",
    "    # case: current value of i equals 3?\n",
    "    if i == 3:\n",
    "        \n",
    "        # break: stop the loop\n",
    "        break \n",
    "        \n",
    "    # print current value of i\n",
    "    print(i)"
   ]
  },
  {
   "cell_type": "markdown",
   "metadata": {
    "id": "fZK4kLcOAhsK"
   },
   "source": [
    "In contrast, the `continue` keyword is used to tell Python to skip the rest of the statements in the current loop block and to continue to the next iteration of the loop."
   ]
  },
  {
   "cell_type": "code",
   "execution_count": 65,
   "metadata": {
    "id": "_0DwsWTpAhsK",
    "ExecuteTime": {
     "end_time": "2023-05-29T12:20:00.205647Z",
     "start_time": "2023-05-29T12:20:00.196157Z"
    }
   },
   "outputs": [
    {
     "name": "stdout",
     "output_type": "stream",
     "text": [
      "1\n",
      "2\n",
      "4\n",
      "5\n",
      "6\n",
      "7\n",
      "8\n",
      "9\n"
     ]
    }
   ],
   "source": [
    "# loop over range elements\n",
    "for i in range(1, 10):\n",
    "    \n",
    "    # case: current value of i equals 3?\n",
    "    if i == 3:\n",
    "        \n",
    "        # continue: jump to next loop iteration \n",
    "        continue\n",
    "    \n",
    "    # print current value if i\n",
    "    print(i)"
   ]
  },
  {
   "cell_type": "markdown",
   "metadata": {
    "id": "5h6XTPwBAhsK"
   },
   "source": [
    "If you want access to the index of each element within the body of a loop, use the built-in enumerate function:"
   ]
  },
  {
   "cell_type": "code",
   "execution_count": 66,
   "metadata": {
    "id": "tSdtPBzvAhsK",
    "ExecuteTime": {
     "end_time": "2023-05-29T12:20:01.419863Z",
     "start_time": "2023-05-29T12:20:01.410305Z"
    }
   },
   "outputs": [
    {
     "name": "stdout",
     "output_type": "stream",
     "text": [
      "index 0: cat\n",
      "index 1: night\n",
      "index 2: pumpkin\n"
     ]
    }
   ],
   "source": [
    "l = ['cat', 'night', 'pumpkin']\n",
    "for idx, element in enumerate(l):\n",
    "    print('index {}: {}'.format(idx, element))"
   ]
  },
  {
   "cell_type": "markdown",
   "metadata": {
    "id": "DF2HSMQMAhsL"
   },
   "source": [
    "### 5.2 Python Decision Structures"
   ]
  },
  {
   "cell_type": "markdown",
   "metadata": {
    "id": "vVBu5oEmAhsL"
   },
   "source": [
    "Decision structures evaluate multiple expressions which produce **True** or **False** as an outcome. When solving a data science task, you often need to determine which action to take and which statements to execute if an outcome is **True** or **False** otherwise."
   ]
  },
  {
   "cell_type": "markdown",
   "metadata": {
    "id": "r4BKUz_FAhsL"
   },
   "source": [
    "Let's briefly recap Python's use of logical or mathematical conditions:"
   ]
  },
  {
   "cell_type": "code",
   "execution_count": 67,
   "metadata": {
    "id": "yQQ4qrWQAhsL",
    "ExecuteTime": {
     "end_time": "2023-05-29T12:20:02.451571Z",
     "start_time": "2023-05-29T12:20:02.442250Z"
    }
   },
   "outputs": [],
   "source": [
    "# init sample variables\n",
    "a = 4\n",
    "b = 7"
   ]
  },
  {
   "cell_type": "code",
   "execution_count": 68,
   "metadata": {
    "id": "yyPYegw3AhsL",
    "ExecuteTime": {
     "end_time": "2023-05-29T12:20:02.705074Z",
     "start_time": "2023-05-29T12:20:02.695067Z"
    }
   },
   "outputs": [
    {
     "name": "stdout",
     "output_type": "stream",
     "text": [
      "False\n",
      "True\n",
      "True\n",
      "True\n",
      "False\n",
      "False\n"
     ]
    }
   ],
   "source": [
    "print(a == b)  # equals\n",
    "print(a != b)  # not equals\n",
    "print(a < b)   # less than\n",
    "print(a <= b)  # less than or equal to \n",
    "print(a > b)   # greater than\n",
    "print(a >= b)  # greater than or equal to"
   ]
  },
  {
   "cell_type": "markdown",
   "metadata": {
    "id": "RNVaRHFoAhsL"
   },
   "source": [
    "The mathematical conditions outlined above can be used in several ways, most commonly in if-statements. An if-statement is written by using the `if` keyword. Let's have a look at an example:"
   ]
  },
  {
   "cell_type": "code",
   "execution_count": 69,
   "metadata": {
    "id": "-7fawuboAhsL",
    "ExecuteTime": {
     "end_time": "2023-05-29T12:20:03.066211Z",
     "start_time": "2023-05-29T12:20:03.054751Z"
    }
   },
   "outputs": [
    {
     "name": "stdout",
     "output_type": "stream",
     "text": [
      "b is greater than a\n"
     ]
    }
   ],
   "source": [
    "# init sample variables\n",
    "a = 4\n",
    "b = 7\n",
    "\n",
    "# test condition\n",
    "if b > a:\n",
    "    print(\"b is greater than a\")"
   ]
  },
  {
   "cell_type": "markdown",
   "metadata": {
    "id": "L8lfHpzqAhsL"
   },
   "source": [
    "In the example above we used two variables, `a` and `b`, which are used as part of the if-statement to test whether `b` is greater than `a`. As `a` is 4, and `b` is 7, we know that 7 is greater than 4, and so we print that `\"b is greater than a\"`. Note how indentation is used here to indicate which code lines have to be run if the condition is True. "
   ]
  },
  {
   "cell_type": "markdown",
   "metadata": {
    "id": "vf_1M6FsAhsL"
   },
   "source": [
    "We can easily enhance the if-statement above by adding additional conditions using the `elif` keyword. The `elif` keyword is pythons way of saying \"if the previous conditions were not true, then try this condition\":"
   ]
  },
  {
   "cell_type": "code",
   "execution_count": 70,
   "metadata": {
    "id": "kM2KSPiiAhsL",
    "ExecuteTime": {
     "end_time": "2023-05-29T12:20:03.962342Z",
     "start_time": "2023-05-29T12:20:03.940719Z"
    }
   },
   "outputs": [
    {
     "name": "stdout",
     "output_type": "stream",
     "text": [
      "a and b are equal\n"
     ]
    }
   ],
   "source": [
    "a = 4\n",
    "b = 4\n",
    "\n",
    "# test condition 1\n",
    "if b > a:\n",
    "  print(\"b is greater than a\")\n",
    "\n",
    "# test condition 2\n",
    "elif a == b:\n",
    "  print(\"a and b are equal\")\n",
    "\n",
    "elif a != b:\n",
    "    print(\"test check and so on... \")"
   ]
  },
  {
   "cell_type": "markdown",
   "metadata": {
    "id": "Iu4p06BPAhsL"
   },
   "source": [
    "Finally, we can use the `else` keyword to catch any case which isn't found by the preceding conditions:"
   ]
  },
  {
   "cell_type": "code",
   "execution_count": 71,
   "metadata": {
    "id": "0ZidOfM8AhsL",
    "ExecuteTime": {
     "end_time": "2023-05-29T12:20:04.718776Z",
     "start_time": "2023-05-29T12:20:04.706587Z"
    }
   },
   "outputs": [
    {
     "name": "stdout",
     "output_type": "stream",
     "text": [
      "a is greater than b\n"
     ]
    }
   ],
   "source": [
    "a = 8\n",
    "b = 4\n",
    "\n",
    "# test condition 1\n",
    "if b > a:\n",
    "  print(\"b is greater than a\")\n",
    "\n",
    "# test condition 2\n",
    "elif a == b:\n",
    "  print(\"a and b are equal\")\n",
    "\n",
    "# all other cases\n",
    "else:\n",
    "  print(\"a is greater than b\")"
   ]
  },
  {
   "cell_type": "markdown",
   "metadata": {
    "id": "7llay0hQAhsM"
   },
   "source": [
    "In the example above the value assigned to a variable `a` is greater than the value assigned to `b`, so the first `if` condition is not true. Also, the `elif` condition is not true, so we ultimately go to the `else` condition and print that \"a is greater than b\"."
   ]
  },
  {
   "cell_type": "markdown",
   "metadata": {
    "id": "IwVBCT7TAhsM"
   },
   "source": [
    "## 6. Python Functions "
   ]
  },
  {
   "cell_type": "markdown",
   "metadata": {
    "id": "5USltVEXAhsM"
   },
   "source": [
    "A function is a block of organized, reusable code that is used to perform a single, related action. Functions provide better modularity for your application and allow for a high degree of reusable code. As you already saw, Python provides you with many built-in functions such as `print()`, etc. but you can also create your functions. These functions are called **user-defined functions**.\n",
    "\n",
    "A function is a block of code which only runs when it is called. You can pass data, known as arguments or parameters, into a function. A function can return data as a result. Python functions are defined using the `def` keyword.\n",
    "\n",
    "Let's recycle the code comparing two numbers from the previous section and put it into a function:"
   ]
  },
  {
   "cell_type": "code",
   "execution_count": 72,
   "metadata": {
    "ExecuteTime": {
     "end_time": "2023-05-29T12:20:06.510035Z",
     "start_time": "2023-05-29T12:20:06.500927Z"
    }
   },
   "outputs": [],
   "source": [
    "def compare(a, b):\n",
    "    if b > a:\n",
    "        print(\"b is greater than a\")\n",
    "    elif a == b:\n",
    "        print(\"a and b are equal\")\n",
    "    else:\n",
    "        print(\"a is greater than b\")"
   ]
  },
  {
   "cell_type": "markdown",
   "metadata": {},
   "source": [
    "First, notice the use of indentation here: all code lines use indentation since they are part of the function definition. Those lines that are part of the if-structure use additional indentation. \n",
    "\n",
    "Let's evaluate this function:"
   ]
  },
  {
   "cell_type": "code",
   "execution_count": 73,
   "metadata": {
    "ExecuteTime": {
     "end_time": "2023-05-29T12:20:07.359655Z",
     "start_time": "2023-05-29T12:20:07.351334Z"
    }
   },
   "outputs": [
    {
     "name": "stdout",
     "output_type": "stream",
     "text": [
      "b is greater than a\n"
     ]
    }
   ],
   "source": [
    "compare(1, 2)"
   ]
  },
  {
   "cell_type": "code",
   "execution_count": 74,
   "metadata": {
    "ExecuteTime": {
     "end_time": "2023-05-29T12:20:07.562187Z",
     "start_time": "2023-05-29T12:20:07.551075Z"
    }
   },
   "outputs": [
    {
     "name": "stdout",
     "output_type": "stream",
     "text": [
      "a is greater than b\n"
     ]
    }
   ],
   "source": [
    "compare(100, 2)"
   ]
  },
  {
   "cell_type": "markdown",
   "metadata": {},
   "source": [
    "This does the trick, but the more \"pythonic\" way would be not to print the result on the screen, but to return it to the user:"
   ]
  },
  {
   "cell_type": "code",
   "execution_count": 75,
   "metadata": {
    "ExecuteTime": {
     "end_time": "2023-05-29T12:20:08.248285Z",
     "start_time": "2023-05-29T12:20:08.238817Z"
    }
   },
   "outputs": [],
   "source": [
    "def which_number_is_greater(a, b):\n",
    "    if a > b:\n",
    "        return a\n",
    "    elif b > a:\n",
    "        return b\n",
    "    else:\n",
    "        return None"
   ]
  },
  {
   "cell_type": "code",
   "execution_count": 76,
   "metadata": {
    "ExecuteTime": {
     "end_time": "2023-05-29T12:20:08.782466Z",
     "start_time": "2023-05-29T12:20:08.771861Z"
    }
   },
   "outputs": [
    {
     "data": {
      "text/plain": "100"
     },
     "execution_count": 76,
     "metadata": {},
     "output_type": "execute_result"
    }
   ],
   "source": [
    "which_number_is_greater(100, 99)"
   ]
  },
  {
   "cell_type": "markdown",
   "metadata": {},
   "source": [
    "Note that the function call gets replaced with the result, which can be used right away in mathematical expressions:"
   ]
  },
  {
   "cell_type": "code",
   "execution_count": 77,
   "metadata": {
    "ExecuteTime": {
     "end_time": "2023-05-29T12:20:09.904133Z",
     "start_time": "2023-05-29T12:20:09.895114Z"
    }
   },
   "outputs": [
    {
     "data": {
      "text/plain": "101"
     },
     "execution_count": 77,
     "metadata": {},
     "output_type": "execute_result"
    }
   ],
   "source": [
    "which_number_is_greater(100, 99) + 1"
   ]
  },
  {
   "cell_type": "markdown",
   "metadata": {},
   "source": [
    "Finally, there are two types of arguments: positional arguments that are identfied as per their position in the function call and keyword arguments that have to be addressed specifically and typically have default values:"
   ]
  },
  {
   "cell_type": "code",
   "execution_count": 78,
   "metadata": {
    "ExecuteTime": {
     "end_time": "2023-05-29T12:20:10.774184Z",
     "start_time": "2023-05-29T12:20:10.768217Z"
    }
   },
   "outputs": [],
   "source": [
    "def some_math(a, b, c=0, d=1):\n",
    "    return (a + 2*b + c) * d"
   ]
  },
  {
   "cell_type": "code",
   "execution_count": 79,
   "metadata": {
    "ExecuteTime": {
     "end_time": "2023-05-29T12:20:11.413624Z",
     "start_time": "2023-05-29T12:20:11.403689Z"
    }
   },
   "outputs": [
    {
     "data": {
      "text/plain": "5"
     },
     "execution_count": 79,
     "metadata": {},
     "output_type": "execute_result"
    }
   ],
   "source": [
    "some_math(1, 2)"
   ]
  },
  {
   "cell_type": "code",
   "execution_count": 80,
   "metadata": {
    "ExecuteTime": {
     "end_time": "2023-05-29T12:20:14.218548Z",
     "start_time": "2023-05-29T12:20:14.208390Z"
    }
   },
   "outputs": [
    {
     "data": {
      "text/plain": "28"
     },
     "execution_count": 80,
     "metadata": {},
     "output_type": "execute_result"
    }
   ],
   "source": [
    "some_math(1, 2, d=4, c=2)"
   ]
  },
  {
   "cell_type": "markdown",
   "metadata": {},
   "source": [
    "## 7. Python Modules\n",
    "\n",
    "Python provides a huge list of \"built-in\" functionality, things that it can do out-of-the-box. However, for specific use cases - like training deep neural networks - it requires functionality from external modules that can be readily \"imported\" into your Python runtime environment.\n",
    "\n",
    "In our next lab we will learn about the Numpy module and its support for arrays and higher math. For now let's focus on how to import this module:"
   ]
  },
  {
   "cell_type": "code",
   "execution_count": 81,
   "metadata": {
    "ExecuteTime": {
     "end_time": "2023-05-29T12:20:17.795449Z",
     "start_time": "2023-05-29T12:20:17.477352Z"
    }
   },
   "outputs": [],
   "source": [
    "import numpy"
   ]
  },
  {
   "cell_type": "markdown",
   "metadata": {},
   "source": [
    "That's it. Now presume that we would like to use its `sqrt` function to calculate the square-root of 9:"
   ]
  },
  {
   "cell_type": "code",
   "execution_count": 82,
   "metadata": {
    "ExecuteTime": {
     "end_time": "2023-05-29T12:20:17.923690Z",
     "start_time": "2023-05-29T12:20:17.913760Z"
    }
   },
   "outputs": [
    {
     "data": {
      "text/plain": "3.0"
     },
     "execution_count": 82,
     "metadata": {},
     "output_type": "execute_result"
    }
   ],
   "source": [
    "numpy.sqrt(9)"
   ]
  },
  {
   "cell_type": "markdown",
   "metadata": {},
   "source": [
    "So, in order to use a function from Numpy, we have to specify that we would like to use the `sqrt` from Numpy by typing `numpy.sqrt`. This is necessary to resolve possible confusion with other functions that might carry the same name. \n",
    "\n",
    "Since typing `numpy.` everytime we want to use a Numpy function quickly becomes tedious, you can give the Numpy module a different name (`np` is the usual choice) so you have to type less:"
   ]
  },
  {
   "cell_type": "code",
   "execution_count": 83,
   "metadata": {
    "ExecuteTime": {
     "end_time": "2023-05-29T12:20:19.030058Z",
     "start_time": "2023-05-29T12:20:18.983790Z"
    }
   },
   "outputs": [
    {
     "data": {
      "text/plain": "3.0"
     },
     "execution_count": 83,
     "metadata": {},
     "output_type": "execute_result"
    }
   ],
   "source": [
    "import numpy as np\n",
    "\n",
    "np.sqrt(9)"
   ]
  },
  {
   "cell_type": "code",
   "execution_count": null,
   "outputs": [],
   "source": [],
   "metadata": {
    "collapsed": false
   }
  }
 ],
 "metadata": {
  "kernelspec": {
   "display_name": "Python 3 (ipykernel)",
   "language": "python",
   "name": "python3"
  },
  "language_info": {
   "codemirror_mode": {
    "name": "ipython",
    "version": 3
   },
   "file_extension": ".py",
   "mimetype": "text/x-python",
   "name": "python",
   "nbconvert_exporter": "python",
   "pygments_lexer": "ipython3",
   "version": "3.10.10"
  },
  "toc": {
   "base_numbering": 1,
   "nav_menu": {},
   "number_sections": false,
   "sideBar": true,
   "skip_h1_title": false,
   "title_cell": "Table of Contents",
   "title_sidebar": "Contents",
   "toc_cell": false,
   "toc_position": {},
   "toc_section_display": true,
   "toc_window_display": true
  }
 },
 "nbformat": 4,
 "nbformat_minor": 4
}
