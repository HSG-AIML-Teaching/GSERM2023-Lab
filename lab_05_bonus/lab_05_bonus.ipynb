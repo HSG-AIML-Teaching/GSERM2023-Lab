{
 "cells": [
  {
   "cell_type": "markdown",
   "metadata": {},
   "source": [
    "<img align=\"center\" style=\"max-width: 1000px\" src=\"banner.png\">"
   ]
  },
  {
   "cell_type": "markdown",
   "metadata": {
    "id": "l2MARYUnCBnX"
   },
   "source": [
    "<img align=\"right\" style=\"max-width: 200px; height: auto\" src=\"hsg_logo.png\">\n",
    "\n",
    "##  Lab 05 - Residual Neural Networks (ResNets) (Bonus)\n",
    "\n",
    "GSERM Summer School 2023, Deep Learning: Fundamentals and Applications, University of St. Gallen"
   ]
  },
  {
   "cell_type": "markdown",
   "metadata": {
    "id": "qARaVN2aCBnY"
   },
   "source": [
    "In the last lab you learned about how to utilize a **supervised** (deep) machine learning technique, namely **Convolutional Neural Networks (CNNs)**, to classify tiny images of different objects (birds, ships..) contained in the **CIFAR-10** dataset. \n",
    "\n",
    "**CNN**s are a special type of deep neural network that work particularly well on spatial data, as they break down and capture complex patterns which can be used to classify the content of an image.\n",
    "\n",
    "In this lab, we will examine a more recent technique called **Residual Neural Networks (ResNets)**, an extension of **CNNs**. In general, the data contains low / medium / high-level features that are learned by a neural network and used for classification. The analysis and processing of these features can be extended by adding more depth to a network, i.e. increasing the number of layers it contains. However, adding more depth is not as easy as it sounds. **ResNets** are motivated by the will to add depth to deep classifiers and by the difficulty that this entails.\n",
    "\n",
    "In short, a **ResNet** allows the training of much deeper neural networks by stacking **Residual Blocks** on top of each other. These blocks allow the activation layers used throughout the network to be fast-forwarded to deeper layers in the network - which ultimately helps the network solve what is known as the *vanishing gradient* problem. Essentially, this problem is one of the challenges of training deep networks. But more on that in the lab.\n",
    "\n",
    "We will again use the functionality of the `PyTorch` library to implement and train a **Residual Neural Network**. As in the **CNN** lab, we will use the **CIFAR-10** dataset. The network will thus be trained on a set of tiny images to learn a model of the images' content. Upon successful training, we will utilize the learned RNN model to classify so far unseen tiny images into distinct categories such as aeroplanes, cars, birds, cats, deer, dogs, frogs, horses, ships, and trucks.\n",
    "\n",
    "The figure below illustrates a high-level view on the machine learning process we aim to establish in this lab:"
   ]
  },
  {
   "cell_type": "markdown",
   "metadata": {
    "id": "EI8MGRvTCBnY"
   },
   "source": [
    "<img align=\"center\" style=\"max-width: 900px\" src=\"https://github.com/GitiHubi/courseML/blob/master/lab_06/pipeline.png?raw=1\">"
   ]
  },
  {
   "cell_type": "markdown",
   "metadata": {
    "id": "BTm6boCrCBnY"
   },
   "source": [
    "As always, pls. don't hesitate to ask all your questions either during the lab, post them in our CANVAS (StudyNet) forum (https://learning.unisg.ch), or send us an email (using the course email)."
   ]
  },
  {
   "cell_type": "markdown",
   "metadata": {
    "id": "iq0kb6HyCBnZ"
   },
   "source": [
    "## 1. Lab Objectives:"
   ]
  },
  {
   "cell_type": "markdown",
   "metadata": {
    "id": "xFrqOJFHCBnZ"
   },
   "source": [
    "After today's lab, you should be able to:\n",
    "\n",
    "> 1. Understand the basic concepts, intuitions and major building blocks of **Residual Neural Networks (CNNs)**.\n",
    "> 2. Know how to **implement and to train a RNN** to learn a model of tiny image data.\n",
    "> 3. Understand how to apply such a learned model to **classify images** images based on their content into distinct categories.\n",
    "> 4. Know how to **interpret and visualize** the model's classification results."
   ]
  },
  {
   "cell_type": "markdown",
   "metadata": {
    "id": "wurd8ZEaV7P6"
   },
   "source": [
    "Before we start let's watch a motivational video:"
   ]
  },
  {
   "cell_type": "code",
   "execution_count": 1,
   "metadata": {
    "id": "cGquGNFmV78H"
   },
   "outputs": [
    {
     "data": {
      "image/jpeg": "[encoded data removed]",
      "text/html": [
       "\n",
       "        <iframe\n",
       "            width=\"800\"\n",
       "            height=\"600\"\n",
       "            src=\"https://www.youtube.com/embed/RAzohJygdmc\"\n",
       "            frameborder=\"0\"\n",
       "            allowfullscreen\n",
       "            \n",
       "        ></iframe>\n",
       "        "
      ],
      "text/plain": [
       "<IPython.lib.display.YouTubeVideo at 0x10f98c100>"
      ]
     },
     "execution_count": 1,
     "metadata": {},
     "output_type": "execute_result"
    }
   ],
   "source": [
    "from IPython.display import YouTubeVideo\n",
    "#NVIDIA: \"Reinventing Retail with AI | I AM AI\"\n",
    "YouTubeVideo('RAzohJygdmc', width=800, height=600)"
   ]
  },
  {
   "cell_type": "markdown",
   "metadata": {
    "id": "PdtF-oERCBnZ"
   },
   "source": [
    "## 2. Setup of the Jupyter Notebook Environment"
   ]
  },
  {
   "cell_type": "markdown",
   "metadata": {
    "id": "TyjZTGGtCBnZ"
   },
   "source": [
    "Similar to the previous labs, we need to import a couple of Python libraries that allow for data analysis and data visualization. We will mostly use the `PyTorch`, `Numpy`, `Sklearn`, `Matplotlib`, `Seaborn` and a few utility libraries throughout this lab:"
   ]
  },
  {
   "cell_type": "code",
   "execution_count": 2,
   "metadata": {
    "id": "KEmEkcpICBnZ"
   },
   "outputs": [],
   "source": [
    "# import standard python libraries\n",
    "import os, urllib, io\n",
    "from datetime import datetime\n",
    "import numpy as np"
   ]
  },
  {
   "cell_type": "markdown",
   "metadata": {
    "id": "IZW122sXCBnZ"
   },
   "source": [
    "Import Python machine / deep learning libraries:"
   ]
  },
  {
   "cell_type": "code",
   "execution_count": 3,
   "metadata": {
    "id": "oET4mu63CBnZ"
   },
   "outputs": [
    {
     "name": "stderr",
     "output_type": "stream",
     "text": [
      "/usr/local/lib/python3.10/site-packages/tqdm/auto.py:22: TqdmWarning: IProgress not found. Please update jupyter and ipywidgets. See https://ipywidgets.readthedocs.io/en/stable/user_install.html\n",
      "  from .autonotebook import tqdm as notebook_tqdm\n",
      "/usr/local/lib/python3.10/site-packages/torchvision/io/image.py:13: UserWarning: Failed to load image Python extension: dlopen(/usr/local/lib/python3.10/site-packages/torchvision/image.so, 0x0006): Symbol not found: (__ZN2at4_ops19empty_memory_format4callEN3c108ArrayRefIxEENS2_8optionalINS2_10ScalarTypeEEENS5_INS2_6LayoutEEENS5_INS2_6DeviceEEENS5_IbEENS5_INS2_12MemoryFormatEEE)\n",
      "  Referenced from: '/usr/local/lib/python3.10/site-packages/torchvision/image.so'\n",
      "  Expected in: '/usr/local/lib/python3.10/site-packages/torch/lib/libtorch_cpu.dylib'\n",
      "  warn(f\"Failed to load image Python extension: {e}\")\n"
     ]
    }
   ],
   "source": [
    "# import the PyTorch deep learning library\n",
    "import torch, torchvision\n",
    "import torch.nn.functional as F\n",
    "from torch import nn, optim"
   ]
  },
  {
   "cell_type": "markdown",
   "metadata": {
    "id": "ittwEb-HCBnZ"
   },
   "source": [
    "Import the sklearn classification metrics:"
   ]
  },
  {
   "cell_type": "code",
   "execution_count": 4,
   "metadata": {
    "id": "yKRY16KyCBnZ"
   },
   "outputs": [],
   "source": [
    "# import sklearn classification evaluation library\n",
    "from sklearn import metrics\n",
    "from sklearn.metrics import confusion_matrix "
   ]
  },
  {
   "cell_type": "markdown",
   "metadata": {
    "id": "XifkBIATCBnZ"
   },
   "source": [
    "Import Python plotting libraries:"
   ]
  },
  {
   "cell_type": "code",
   "execution_count": 5,
   "metadata": {
    "id": "JDp3LUGCCBna"
   },
   "outputs": [],
   "source": [
    "# import matplotlib, seaborn, and PIL data visualization libary\n",
    "import matplotlib.pyplot as plt\n",
    "import seaborn as sns\n",
    "from PIL import Image"
   ]
  },
  {
   "cell_type": "markdown",
   "metadata": {
    "id": "RWHhPaLaCBna"
   },
   "source": [
    "Enable notebook matplotlib inline plotting:"
   ]
  },
  {
   "cell_type": "code",
   "execution_count": 6,
   "metadata": {
    "id": "FvLL_Gc9CBna"
   },
   "outputs": [],
   "source": [
    "%matplotlib inline"
   ]
  },
  {
   "cell_type": "markdown",
   "metadata": {
    "id": "HPj71OMHCBna"
   },
   "source": [
    "Create notebook folder structure to store the data as well as the trained neural network models:"
   ]
  },
  {
   "cell_type": "code",
   "execution_count": 7,
   "metadata": {
    "id": "0E8zN7VOCBna"
   },
   "outputs": [],
   "source": [
    "if not os.path.exists('./data'): os.makedirs('./resnet_data')  # create data directory\n",
    "if not os.path.exists('./models'): os.makedirs('./resnet_models')  # create trained models directory"
   ]
  },
  {
   "cell_type": "markdown",
   "metadata": {
    "id": "IX9FcIfICBna"
   },
   "source": [
    "Set a random `seed` value to obtain reproducable results:"
   ]
  },
  {
   "cell_type": "code",
   "execution_count": 8,
   "metadata": {
    "id": "SQGV0g08CBna"
   },
   "outputs": [
    {
     "data": {
      "text/plain": [
       "<torch._C.Generator at 0x1130e1910>"
      ]
     },
     "execution_count": 8,
     "metadata": {},
     "output_type": "execute_result"
    }
   ],
   "source": [
    "# init deterministic seed\n",
    "seed_value = 1234\n",
    "np.random.seed(seed_value) # set numpy seed\n",
    "torch.manual_seed(seed_value) # set pytorch seed CPU"
   ]
  },
  {
   "cell_type": "markdown",
   "metadata": {
    "id": "xGsCQh9iCBna"
   },
   "source": [
    "## 3. Dataset Download and Data Assessment"
   ]
  },
  {
   "cell_type": "markdown",
   "metadata": {
    "id": "Uvnkt7QsCBna"
   },
   "source": [
    "The **CIFAR-10 database** (**C**anadian **I**nstitute **F**or **A**dvanced **R**esearch) is a collection of images that are commonly used to train machine learning and computer vision algorithms. The database is widely used to conduct computer vision research using machine learning and deep learning methods:"
   ]
  },
  {
   "cell_type": "markdown",
   "metadata": {
    "id": "o8fN7MQBCBna"
   },
   "source": [
    "<img align=\"center\" style=\"max-width: 500px; height: 500px\" src=\"https://github.com/GitiHubi/courseML/blob/master/lab_06/cifar10.png?raw=1\">\n",
    "\n",
    "(Source: https://www.kaggle.com/c/cifar-10)"
   ]
  },
  {
   "cell_type": "markdown",
   "metadata": {
    "id": "D0hKX9D2CBnb"
   },
   "source": [
    "Further details on the dataset can be obtained via: *Krizhevsky, A., 2009. \"Learning Multiple Layers of Features from Tiny Images\",  \n",
    "( https://www.cs.toronto.edu/~kriz/learning-features-2009-TR.pdf ).\"*"
   ]
  },
  {
   "cell_type": "markdown",
   "metadata": {
    "id": "oZAyAzv4CBnb"
   },
   "source": [
    "The CIFAR-10 database contains **60,000 color images** (50,000 training images and 10,000 validation images). The size of each image is 32 by 32 pixels. The collection of images encompasses 10 different classes that represent airplanes, cars, birds, cats, deer, dogs, frogs, horses, ships, and trucks. Let's define the distinct classs for further analytics:"
   ]
  },
  {
   "cell_type": "code",
   "execution_count": 9,
   "metadata": {
    "id": "1pCAh1YACBnb"
   },
   "outputs": [],
   "source": [
    "cifar10_classes = ['plane', 'car', 'bird', 'cat', 'deer', 'dog', 'frog', 'horse', 'ship', 'truck']"
   ]
  },
  {
   "cell_type": "markdown",
   "metadata": {
    "id": "1YKqZ_jNCBnb"
   },
   "source": [
    "Thereby the dataset contains 6,000 images for each of the ten classes. The CIFAR-10 is a straightforward dataset that can be used to teach a computer how to recognize objects in images.\n",
    "\n",
    "Let's download, transform and inspect the training images of the dataset. Therefore, we first will define the directory we aim to store the training data:"
   ]
  },
  {
   "cell_type": "code",
   "execution_count": 10,
   "metadata": {
    "id": "bNf12SKTCBnb"
   },
   "outputs": [],
   "source": [
    "train_path = './data/train_cifar10'"
   ]
  },
  {
   "cell_type": "markdown",
   "metadata": {
    "id": "-DoDTOk_CBnb"
   },
   "source": [
    "Now, let's download the training data accordingly:"
   ]
  },
  {
   "cell_type": "code",
   "execution_count": 11,
   "metadata": {
    "id": "QKl8DUY1CBnb"
   },
   "outputs": [
    {
     "name": "stdout",
     "output_type": "stream",
     "text": [
      "Downloading https://www.cs.toronto.edu/~kriz/cifar-10-python.tar.gz to ./data/train_cifar10/cifar-10-python.tar.gz\n"
     ]
    },
    {
     "name": "stderr",
     "output_type": "stream",
     "text": [
      "100%|█████████████████████████████████████████████████████████████████████████████████████████| 170498071/170498071 [00:52<00:00, 3249116.86it/s]\n"
     ]
    },
    {
     "name": "stdout",
     "output_type": "stream",
     "text": [
      "Extracting ./data/train_cifar10/cifar-10-python.tar.gz to ./data/train_cifar10\n"
     ]
    }
   ],
   "source": [
    "# define pytorch transformation into tensor format\n",
    "transf = torchvision.transforms.Compose([torchvision.transforms.ToTensor(), torchvision.transforms.Normalize((0.5, 0.5, 0.5), (0.5, 0.5, 0.5))])\n",
    "\n",
    "# download and transform training images\n",
    "cifar10_train_data = torchvision.datasets.CIFAR10(root=train_path, train=True, transform=transf, download=True)"
   ]
  },
  {
   "cell_type": "markdown",
   "metadata": {
    "id": "9t5WcOmFCBnb"
   },
   "source": [
    "Verify the volume of training images downloaded:"
   ]
  },
  {
   "cell_type": "code",
   "execution_count": 12,
   "metadata": {
    "id": "Rcr3BF10CBnb"
   },
   "outputs": [
    {
     "data": {
      "text/plain": [
       "50000"
      ]
     },
     "execution_count": 12,
     "metadata": {},
     "output_type": "execute_result"
    }
   ],
   "source": [
    "# get the length of the training data\n",
    "len(cifar10_train_data)"
   ]
  },
  {
   "cell_type": "markdown",
   "metadata": {
    "id": "4D-5gGAZCBnb"
   },
   "source": [
    "Furthermore, let's investigate a couple of the training images:"
   ]
  },
  {
   "cell_type": "code",
   "execution_count": 13,
   "metadata": {
    "id": "rQk1vXhkCBnb"
   },
   "outputs": [
    {
     "data": {
      "text/plain": [
       "(tensor([[[ 0.0118, -0.0039,  0.0118,  ...,  0.0353,  0.0353,  0.0275],\n",
       "          [ 0.0039,  0.0039,  0.0118,  ...,  0.0275,  0.0275,  0.0196],\n",
       "          [ 0.0196,  0.0039,  0.0196,  ...,  0.0431,  0.0353,  0.0353],\n",
       "          ...,\n",
       "          [-0.2000, -0.2627, -0.4745,  ...,  0.0510,  0.0353,  0.0275],\n",
       "          [-0.1529, -0.2471, -0.3725,  ...,  0.0431,  0.0275,  0.0196],\n",
       "          [-0.1373, -0.3725, -0.4902,  ...,  0.0275,  0.0196,  0.0118]],\n",
       " \n",
       "         [[ 0.1922,  0.1765,  0.1922,  ...,  0.2000,  0.2000,  0.1922],\n",
       "          [ 0.1922,  0.1843,  0.1922,  ...,  0.1922,  0.1922,  0.1843],\n",
       "          [ 0.2000,  0.1843,  0.2000,  ...,  0.2078,  0.2000,  0.2000],\n",
       "          ...,\n",
       "          [-0.1137, -0.1843, -0.4667,  ...,  0.2314,  0.2157,  0.2078],\n",
       "          [-0.0667, -0.1451, -0.3569,  ...,  0.2235,  0.2078,  0.2000],\n",
       "          [-0.0588, -0.2471, -0.4588,  ...,  0.2078,  0.2000,  0.1922]],\n",
       " \n",
       "         [[ 0.5451,  0.5216,  0.5373,  ...,  0.5529,  0.5529,  0.5451],\n",
       "          [ 0.5373,  0.5216,  0.5373,  ...,  0.5451,  0.5451,  0.5373],\n",
       "          [ 0.5451,  0.5294,  0.5451,  ...,  0.5608,  0.5529,  0.5529],\n",
       "          ...,\n",
       "          [-0.6863, -0.6235, -0.7020,  ...,  0.5765,  0.5608,  0.5529],\n",
       "          [-0.6314, -0.5765, -0.5922,  ...,  0.5686,  0.5529,  0.5451],\n",
       "          [-0.5608, -0.6627, -0.6941,  ...,  0.5529,  0.5451,  0.5373]]]),\n",
       " 2)"
      ]
     },
     "execution_count": 13,
     "metadata": {},
     "output_type": "execute_result"
    }
   ],
   "source": [
    "# set (random) image id\n",
    "image_id = 1800\n",
    "\n",
    "# retrieve image exhibiting the image id\n",
    "cifar10_train_data[image_id]"
   ]
  },
  {
   "cell_type": "markdown",
   "metadata": {
    "id": "tpJUgcSUCBnb"
   },
   "source": [
    "Ok, that doesn't seem easily interpretable ;) Let's first seperate the image from its label information:"
   ]
  },
  {
   "cell_type": "code",
   "execution_count": 14,
   "metadata": {
    "id": "RmN2-TEcCBnb"
   },
   "outputs": [],
   "source": [
    "cifar10_train_image, cifar10_train_label = cifar10_train_data[image_id]"
   ]
  },
  {
   "cell_type": "markdown",
   "metadata": {
    "id": "FPRHAR0vCBnb"
   },
   "source": [
    "Great, now we are able to visually inspect our sample image: "
   ]
  },
  {
   "cell_type": "code",
   "execution_count": 15,
   "metadata": {
    "id": "mtSPZGGBCBnb"
   },
   "outputs": [
    {
     "data": {
      "text/plain": [
       "<matplotlib.image.AxesImage at 0x13994c190>"
      ]
     },
     "execution_count": 15,
     "metadata": {},
     "output_type": "execute_result"
    },
    {
     "data": {
      "image/png": "[encoded data removed]",
      "text/plain": [
       "<Figure size 640x480 with 1 Axes>"
      ]
     },
     "metadata": {},
     "output_type": "display_data"
    }
   ],
   "source": [
    "# define tensor to image transformation\n",
    "trans = torchvision.transforms.ToPILImage()\n",
    "\n",
    "# set image plot title \n",
    "plt.title('Example: {}, Label: \"{}\"'.format(str(image_id), str(cifar10_classes[cifar10_train_label])))\n",
    "\n",
    "# un-normalize cifar 10 image sample\n",
    "cifar10_train_image_plot = cifar10_train_image / 2.0 + 0.5\n",
    "\n",
    "# plot 10 image sample\n",
    "plt.imshow(trans(cifar10_train_image_plot))"
   ]
  },
  {
   "cell_type": "markdown",
   "metadata": {
    "id": "jm9MxnMNCBnc"
   },
   "source": [
    "Fantastic, right? Let's now decide on where we want to store the evaluation data:"
   ]
  },
  {
   "cell_type": "code",
   "execution_count": 16,
   "metadata": {
    "id": "cakcJ5pHCBnc"
   },
   "outputs": [],
   "source": [
    "eval_path = './data/eval_cifar10'"
   ]
  },
  {
   "cell_type": "markdown",
   "metadata": {
    "id": "EiQ6cYlRCBnc"
   },
   "source": [
    "And download the evaluation data accordingly:"
   ]
  },
  {
   "cell_type": "code",
   "execution_count": 17,
   "metadata": {
    "id": "LmULQ6HACBnc"
   },
   "outputs": [
    {
     "name": "stdout",
     "output_type": "stream",
     "text": [
      "Downloading https://www.cs.toronto.edu/~kriz/cifar-10-python.tar.gz to ./data/eval_cifar10/cifar-10-python.tar.gz\n"
     ]
    },
    {
     "name": "stderr",
     "output_type": "stream",
     "text": [
      "100%|█████████████████████████████████████████████████████████████████████████████████████████| 170498071/170498071 [00:31<00:00, 5388566.39it/s]\n"
     ]
    },
    {
     "name": "stdout",
     "output_type": "stream",
     "text": [
      "Extracting ./data/eval_cifar10/cifar-10-python.tar.gz to ./data/eval_cifar10\n"
     ]
    }
   ],
   "source": [
    "# define pytorch transformation into tensor format\n",
    "transf = torchvision.transforms.Compose([torchvision.transforms.ToTensor(), torchvision.transforms.Normalize((0.5, 0.5, 0.5), (0.5, 0.5, 0.5))])\n",
    "\n",
    "# download and transform validation images\n",
    "cifar10_eval_data = torchvision.datasets.CIFAR10(root=eval_path, train=False, transform=transf, download=True)"
   ]
  },
  {
   "cell_type": "markdown",
   "metadata": {
    "id": "A41L8ci8CBnc"
   },
   "source": [
    "Verify the volume of validation images downloaded:"
   ]
  },
  {
   "cell_type": "code",
   "execution_count": 18,
   "metadata": {
    "id": "RpCX0isoCBnc"
   },
   "outputs": [
    {
     "data": {
      "text/plain": [
       "10000"
      ]
     },
     "execution_count": 18,
     "metadata": {},
     "output_type": "execute_result"
    }
   ],
   "source": [
    "# get the length of the training data\n",
    "len(cifar10_eval_data)"
   ]
  },
  {
   "cell_type": "markdown",
   "metadata": {
    "id": "W7u7WuxjCBnc"
   },
   "source": [
    "## 4. Neural Network Implementation"
   ]
  },
  {
   "cell_type": "markdown",
   "metadata": {
    "id": "0dyeS_UqbFV0"
   },
   "source": [
    "In this section we, will implement the architecture of the **neural network** we aim to utilize to learn a model that is capable of classifying the 32x32 pixel CIFAR 10 images according to the objects contained in each image. We will first examine what **RNNs** are, how they differ from **CNNs** and how they can be built. However, before we start with the theory, let's briefly revisit the process to be established. The following cartoon provides a birds-eye view:"
   ]
  },
  {
   "cell_type": "markdown",
   "metadata": {
    "id": "NqZYpDypbSeb"
   },
   "source": [
    "<img align=\"center\" style=\"max-width: 900px\" src=\"https://github.com/GitiHubi/courseML/blob/master/lab_06/pipeline.png?raw=1\">"
   ]
  },
  {
   "cell_type": "markdown",
   "metadata": {
    "id": "bRygo9kCTXIT"
   },
   "source": [
    "### 4.1 ResNet Theoretical Background"
   ]
  },
  {
   "cell_type": "markdown",
   "metadata": {
    "id": "RbtPZmVgCBne"
   },
   "source": [
    "Deep neural networks have led to a series of breakthroughs for image classification. In general, deep networks naturally integrate low / mid / high level features and classifiers in an end-to-end multilayer fashion, and the 'levels' of features can be enriched by the depth (or number of stacked layers) of the network. Driven by the significance of depth, the question arises: **Will stacking more layers improve feature learning and therefore increase the classification capability of a model?**\n",
    "\n",
    "In 2015, in their work **'Deep Residual Learning for Image Recognition'** He et al. (https://arxiv.org/abs/1512.03385) proposed an enhanced deep convolutional neural network architecture. The architecture is referred to as **Residual Neural Networks** since it encompasses so called **Residual Layers** or **Residual Blocks**. Using this architecture, He et al. demonstrated that they were able to outperform a variety of image classification benchmark challenges at the time. We have a closer look into the distinct characteristic of the architecture on the following section of the notebook."
   ]
  },
  {
   "cell_type": "markdown",
   "metadata": {
    "id": "JYXMoAYCdkKd"
   },
   "source": [
    "#### 4.1.1 CNN Recap"
   ]
  },
  {
   "cell_type": "markdown",
   "metadata": {
    "id": "7Wq5_aOWipGc"
   },
   "source": [
    "Before we dive into **RNNs**, let's briefly revisit **Convolutional Neural Networks (CNNs)** as they are the basis for **RNNs**. Here is a birds-eye view of the CNN we built in the previous lab:"
   ]
  },
  {
   "cell_type": "markdown",
   "metadata": {
    "id": "evTPEgmukTPH"
   },
   "source": [
    "<img align=\"center\" style=\"max-width: 900px\" src=\"https://github.com/GitiHubi/courseML/blob/master/lab_06/cnn_pipeline.png?raw=1\">\n",
    "\n",
    "(Image of the CNN architecture created via http://alexlenail.me/)"
   ]
  },
  {
   "cell_type": "markdown",
   "metadata": {
    "id": "oVVy-N9VkWcl"
   },
   "source": [
    "Our CNN consisted of two **convolutional layers** and three **fully-connected layers**. In general, convolutional layers are specifically designed to learn a set of **high-level features** (\"patterns\") in the processed images, e.g., tiny edges and shapes. The fully-connected layers utilize the learned features to learn **non-linear feature combinations** that allow for highly accurate classification of the image content into the different image classes of the CIFAR-10 dataset, such as, birds, aeroplanes, horses etc."
   ]
  },
  {
   "cell_type": "markdown",
   "metadata": {
    "id": "xlook2f0lMEE"
   },
   "source": [
    "The implementation of these **convolutional layers** involves three operations: (1) **convolution**, (2) **non-linearity**, and (3) **max-pooling**. Those operations are usually executed in sequential order during the forward pass through a convolutional layer."
   ]
  },
  {
   "cell_type": "markdown",
   "metadata": {
    "id": "2Rp5bMg_li-S"
   },
   "source": [
    "Here is a graphical illustration of convolutional layers:"
   ]
  },
  {
   "cell_type": "markdown",
   "metadata": {
    "id": "1aTXVnZ9lpHJ"
   },
   "source": [
    "<img align=\"center\" style=\"max-width: 600px\" src=\"https://github.com/GitiHubi/courseML/blob/master/lab_06/convolutions.png?raw=1\">"
   ]
  },
  {
   "cell_type": "markdown",
   "metadata": {
    "id": "Dg0tgGK8lwGW"
   },
   "source": [
    "To perform a convolution, a **kernel** is used. A kernel is a small matrix of size 5x5 for example, which we horizontally and vertically slide along the image. We then obtain a dot product of the kernel and the pixel values of the kernel's receptive field. The results of these dot products are then summed up and found in the operation's output.\n",
    "\n",
    "When sliding a given kernel on an image, two elements are particularly important: the **stride** designates the number of pixels a kernel passes when moving, and the **padding** adds a given number of (blank) pixels on the sides of an image to ensure that the output has the same shape as the input."
   ]
  },
  {
   "cell_type": "markdown",
   "metadata": {
    "id": "pspYsmd3nb25"
   },
   "source": [
    "The last step of a convolutional layer is the application of a **pooling** operation. These are done in **Max-Pooling Layers**, where max-pooling is a type of pooling. Pooling reduces the size of feature maps (images), and gives the ability to ignore positional shifts or translations in the target image by doing so. A truck is a truck, independently of its position. In short, it down-samples the image.\n",
    "\n",
    "This is done by (again) defining a kernel (usually 2x2 or 3x3), which is slid along the image (like in a convolution). In Max-Pooling, we only keep the highest pixel value within the receptive field of the kernel."
   ]
  },
  {
   "cell_type": "markdown",
   "metadata": {
    "id": "EsOTfWYxpeEi"
   },
   "source": [
    "After having performed the convolutional operations, the network turns to **fully connected layers**. Here is an overview:"
   ]
  },
  {
   "cell_type": "markdown",
   "metadata": {
    "id": "ZkTmBoVfpnn4"
   },
   "source": [
    "<img align=\"center\" style=\"max-width: 600px\" src=\"https://github.com/GitiHubi/courseML/blob/master/lab_06/fullyconnected.png?raw=1\">"
   ]
  },
  {
   "cell_type": "markdown",
   "metadata": {
    "id": "HurdY7OVptiq"
   },
   "source": [
    "After the output of the last max-pooling layer has been flattened (to enable connection), we can safely proceed with our fully connected layers. The fully connected layers use activations functions (e.g. **ReLU**) to learn potential non-linear feature combinations. They follow a brute-force concept where all inputs from one layer are connected to every activation unit of the next."
   ]
  },
  {
   "cell_type": "markdown",
   "metadata": {
    "id": "ZUoDAWAXtn5Y"
   },
   "source": [
    "Finally, a **Softmax** function normalizes our output into a probability distribution consisting of K probabilities, where K is the number of distinct classes. These probabilities can be interpreted as the probability that an image belongs to given classes."
   ]
  },
  {
   "cell_type": "markdown",
   "metadata": {
    "id": "ATN1UHyJdoDl"
   },
   "source": [
    "#### 4.1.2 Residual Blocks"
   ]
  },
  {
   "cell_type": "markdown",
   "metadata": {
    "id": "p7lQk4WU1qSo"
   },
   "source": [
    "The goal of **Residual Neural Networks** is to ease the training of networks that are a lot deeper (where more layers are stacked on top of each other). The training of very deep neural networks is difficult because of several problems. One is of course the computational cost, but there also exists the so-called **\"vanishing gradient problem\"** - or **\"degradation problem\"**. This denotes a weird phenomenon: as network depth increases, accuracy converges and saturates, but then rapidly degrades. This problem is \"*not caused by overfitting, and adding more layers to a suitably deep model leads to higher training error*\" (He et al., 2015, p.1)."
   ]
  },
  {
   "cell_type": "markdown",
   "metadata": {
    "id": "g5fRBwva0rne"
   },
   "source": [
    "A **residual block** or **residual layer** is a group of layers for which the same activation is used. This is done by fast-forwarding the activation to a further layer in the neural network. These fast-forwards are also called **skip-connections** or **shortcuts** - taking the activation from one layer and using it deeper. It is this concept that allows the training of very deep (e.g. even more than 100 layers) networks."
   ]
  },
  {
   "cell_type": "markdown",
   "metadata": {
    "id": "MUvZtXLp6tYJ"
   },
   "source": [
    "Here is a more mathematical explanation:"
   ]
  },
  {
   "cell_type": "markdown",
   "metadata": {
    "id": "qHWk446w8Jy2"
   },
   "source": [
    "<img align=\"center\" style=\"max-width: 600px\" src=\"https://github.com/GitiHubi/courseML/blob/master/lab_06/main_vs_resnet_paths.png?raw=1\">\n",
    "\n",
    "Credit: \"C4W2L03 Resnets\" by Andrew Ng at Deeplearning.ai, https://www.youtube.com/watch?v=ZILIbUvp5lk"
   ]
  },
  {
   "cell_type": "markdown",
   "metadata": {
    "id": "TujmBonG8O8-"
   },
   "source": [
    "The **\"normal\"** path from layer to layer is represented in the top half of the above image. The input $x^{[l]}$ for a given layer goes through a Linear operator which computes $z^{[l+1]}$. After this, a non-linearity is applied (we use **ReLU** in our example) to get $x^{[l+1]}$. Then, $x^{[l+1]}$ is fed to another Linear layer to get $z^{[l+2]}$, which is again given to a non-linearity to get $x^{[l+2]}$.\n",
    "\n",
    "The steps of the normal path in more detail:\n",
    ">- Start off with $x^{[l]}$\n",
    ">- Compute $z^{[l+1]} = W^{[l+1]}* x^{[l]} + b^{[l+1]}$, where $W$ is the weight matrix and $b$ is the bias vector. This operation constitutes the Linearity.\n",
    ">- Feed $z^{[l+1]}$ to the activation function $g$ to get $x^{[l+1]}$. $x^{[l+1]} = g(z^{[l+1]})$. This is the non-linearity.\n",
    ">- Compute $z^{[l+2]} = W^{[l+2]}*x^{[l+1]}+b^{[l+2]}$, the second Linearity.\n",
    ">- Get $x^{[l+2]} = g(z^{[l+2]})$, by again using the ReLU non-linearity."
   ]
  },
  {
   "cell_type": "markdown",
   "metadata": {
    "id": "M8PPh0Sgw1aJ"
   },
   "source": [
    "The *vanishing gradient problem* simply denotes that the application of the non-linearity (ReLU) results in information loss. Information about the original state of the image is modified by ReLU when it arrives to the next layer. After a certain point (a certain depth/number of layers), this problem is such that the model's performance is actually worse. This is why we experience problems by increasing the **CNN**'s depth."
   ]
  },
  {
   "cell_type": "markdown",
   "metadata": {
    "id": "lrpWcByuByJu"
   },
   "source": [
    "In **RNNs**, the idea is that every additional layer should more easily contain the identity function as one of its elements. With the identity function $f(x) = x$, gradients at every layer are computed with the original input taken into account. By using this identity function, information is not lost, which means that adding another layer to the model, theoretically, can only reduce training error or keep it the same."
   ]
  },
  {
   "cell_type": "markdown",
   "metadata": {
    "id": "2LFaC4i8236Q"
   },
   "source": [
    "<img align=\"center\" style=\"max-width: 600px\" src=\"https://github.com/GitiHubi/courseML/blob/master/lab_06/normal_vs_residual_block.png?raw=1\">\n",
    "\n",
    "Sources: \n",
    ">- He, K., Zhang, X., Ren, S., and, Sun, J. (2015). Deep Residual Learning for Image Recognition\n",
    ">- Zhang, A., Lipton, Z. C., Li, M., & Smola, A. J. (2020). Dive into Deep Learning. Available at https://d2l.ai/index.html"
   ]
  },
  {
   "cell_type": "markdown",
   "metadata": {
    "id": "K5w-_hbd2_wt"
   },
   "source": [
    "This figure might help illustrate. Let us designate what needs to be learned in a perfect world by $f(x)$, which we will call the desired underlying mapping. This is what will then be fed to the activation function at the top. The schema on the left represents the *normal* path. The steps within the dotted-line box must directly learn the mapping $f(x)$. The steps within the dotted-line box from the schema on the right (the RNN path), however, aim at learning the **residual mapping $f(x) - x$**. \n",
    "\n",
    "We can do this because, as put in the original paper, \"if one hypothesizes that multiple nonlinear layers can asymptotically approximate complicated functions, then it is equivalent to hypothesize that they can asymptotically approximate the residual functions\" (He et al., 2015, p.3).\n",
    "\n",
    " **$x$**, the **residual**, represents the output from the previous layer which we use as input for the current layer.\n",
    "\n",
    "After this is done, the original  input **$x$** is added to it to obtain the desired underlying mapping $f(x)$. This is shown by the continuous line transporting **$x$** to the top of the block, just before the activation function - this side-path is the so-called *shortcut* (also called *residual connection* or *skip connection*). This way, no extra computational cost occurs and we avoid information loss, thus enabling deeper networks.\n",
    "\n",
    "The schema on the right represents a residual block."
   ]
  },
  {
   "cell_type": "markdown",
   "metadata": {
    "id": "PduThUNW6vEJ"
   },
   "source": [
    "If we go back to our math, the operations that take place in a **Residual Block** are as follows:\n",
    "\n",
    ">- Start off with $x^{[l]}$\n",
    ">- Instead of making it go through the *normal* path, we select it and fast-forward it to the end of the path, where we add it just before the non-linearity (ReLU). This is the **shortcut**.\n",
    ">- This means that $x^{[l+2]}$, which was previsouly $x^{[l+2]} = g(z^{[l+2]})$, becomes $x^{[l+2]} = g(z^{[l+2]} {\\color{red} {+ x^{[l]}}})$\n",
    ">- The rest stays the same as in the *normal* path."
   ]
  },
  {
   "cell_type": "markdown",
   "metadata": {
    "id": "SDOQnc81-IEU"
   },
   "source": [
    "Please be sure to notice that $x^{[l]}$ is injected after the linear operation and before the non-linearity (ReLU). This way, the final activation is effectively fast-forwarded to a later stage (i.e., after adding **$x$**)."
   ]
  },
  {
   "cell_type": "markdown",
   "metadata": {
    "id": "XvXR9l9Y_Xza"
   },
   "source": [
    "#### 4.1.3 RNN Architecture Building"
   ]
  },
  {
   "cell_type": "markdown",
   "metadata": {
    "id": "g6FR2UntAovh"
   },
   "source": [
    "Now that we have some intuition as to what a **residual block** is, how it works, and why it is useful, let's see how these can be used. And this is actually quite simple. Like many things in deep learning, we just stack them on top of each other. Here is a visualization:"
   ]
  },
  {
   "cell_type": "markdown",
   "metadata": {
    "id": "IYu8PNfZBFSq"
   },
   "source": [
    "<img align=\"center\" style=\"max-width: 600px\" src=\"https://github.com/GitiHubi/courseML/blob/master/lab_06/blocks.png?raw=1\">\n",
    "\n",
    "Credit: \"C4W2L03 Resnets\" by Andrew Ng at Deeplearning.ai, https://www.youtube.com/watch?v=ZILIbUvp5lk"
   ]
  },
  {
   "cell_type": "markdown",
   "metadata": {
    "id": "OXv0DNMcBNaP"
   },
   "source": [
    "Or, as illustrated in the original paper:"
   ]
  },
  {
   "cell_type": "markdown",
   "metadata": {
    "id": "kw5Yt9FIDZLw"
   },
   "source": [
    "<img align=\"center\" style=\"max-width: 600px\" src=\"https://github.com/GitiHubi/courseML/blob/master/lab_06/resnet_archi.png?raw=1\">\n",
    "\n",
    "Sources: He, K., Zhang, X., Ren, S., and, Sun, J. (2015). Deep Residual Learning for Image Recognition (page 4)"
   ]
  },
  {
   "cell_type": "markdown",
   "metadata": {
    "id": "_EzhsdFODg7p"
   },
   "source": [
    "You might notice that some of the shortcuts are drawn with dotted lines. We have assumed thus far that $x^{[l+2]}$ and $x^{[l]}$ had the same dimension. If this is not the case, as sometimes input/output channels change dimensions throughout the network, the $x^{[l+2]} = g(z^{[l+2]} + x^{[l]})$ operation (where we add **$x$** to the residual mapping) will become problematic.\n",
    "\n",
    "To counter this, we can either avoid changing dimensions as much as possible, or add an extra matrix $Ws$ to the equation, which would become: \n",
    "$$x^{[l+2]} = g(z^{[l+2]} + Ws*x^{[l]})$$\n",
    "\n"
   ]
  },
  {
   "cell_type": "markdown",
   "metadata": {
    "id": "LzRKI-1ZLzGY"
   },
   "source": [
    "Say that $z^{[l+2]}$ and therefore $x^{[l+2]}$ is 256-diemnsional, and that $x^{[l]}$ is 128 dimensional. Then if the extra matrix $Ws$ has dimension $\\mathbb{R}^{[256*128]}$, it makes $Ws*x^{[l]}$ 256-dimensional and all is well. This would allow the addition as the matrices would share the same dimensions. That said, what do we actually put in $Ws$? There are two options: it can either be a matrix of parameters we learned, or a fixed matrix that takes $x^{[l]}$ and zero-pads it to make it 256-dimensional. This adjustment is what is represented by dotted lines in the image.\n",
    "\n",
    "However, this is just a detail so do not worry too much about it."
   ]
  },
  {
   "cell_type": "markdown",
   "metadata": {
    "id": "ZCHOVde7iGme"
   },
   "source": [
    "#### 4.1.4 Training Error Progression"
   ]
  },
  {
   "cell_type": "markdown",
   "metadata": {
    "id": "PHWfEUv1iMZN"
   },
   "source": [
    "As discussed above and prior to the advent of **RNNs**, training error tended to decrease, saturate and then *increase* along with network depth due to the *vanishing gradient* problem (or *degradation* problem). This is illustrated in the figure below:"
   ]
  },
  {
   "cell_type": "markdown",
   "metadata": {
    "id": "ujZQUTdVjDCx"
   },
   "source": [
    "<img align=\"center\" style=\"max-width: 600px\" src=\"https://github.com/GitiHubi/courseML/blob/master/lab_06/deep_cnn_error.png?raw=1\">\n",
    "\n",
    "Credit: \"C4W2L03 Resnets\" by Andrew Ng at Deeplearning.ai, https://www.youtube.com/watch?v=ZILIbUvp5lk"
   ]
  },
  {
   "cell_type": "markdown",
   "metadata": {
    "id": "HloXAigrjMlV"
   },
   "source": [
    "**RNNs** tackle this issue by fighting information loss that occurs during non-linear operations. Learning **residual mappings/functions** with reference to the layer inputs allows the model's accuracy to *at least* not worsen. Thus, the addition of more layers (the deepening of the model) either does not affect training loss or decreases it."
   ]
  },
  {
   "cell_type": "markdown",
   "metadata": {
    "id": "pReGbSZhkLsy"
   },
   "source": [
    "<img align=\"center\" style=\"max-width: 600px\" src=\"https://github.com/GitiHubi/courseML/blob/master/lab_06/rnn_error.png?raw=1\">\n",
    "\n",
    "Credit: \"C4W2L03 Resnets\" by Andrew Ng at Deeplearning.ai, https://www.youtube.com/watch?v=ZILIbUvp5lk"
   ]
  },
  {
   "cell_type": "markdown",
   "metadata": {
    "id": "Wf7EbDMxS8T1"
   },
   "source": [
    "The theory presented here was based on three amazing **sources**, namely:\n",
    "\n",
    ">- 'Deep Residual Learning for Image Recognition' by He, K., Zhang, X., Ren, S., and, Sun, J., 2015. Available at https://arxiv.org/pdf/1512.03385.pdf \n",
    ">- 'Dive into Deep Learning' by Zhang, A., Lipton, Z. C., Li, M., & Smola, A. J. (2020). Available at https://d2l.ai/index.html\n",
    ">- Andrew Ng's classes on YouTube: 'C4W2L03 Resnets' and 'C4W2L04 Why ResNets Work' on the Deeplearning.ai channel. Available at https://www.youtube.com/channel/UCcIXc5mJsHVYTZR1maL5l9w and excellent for those who are not big readers."
   ]
  },
  {
   "cell_type": "markdown",
   "metadata": {
    "id": "TONCEuvwTcPe"
   },
   "source": [
    "### 4.2 ResNet Architecture Implementation"
   ]
  },
  {
   "cell_type": "markdown",
   "metadata": {
    "id": "YOEWQtSAi8JO"
   },
   "source": [
    "In this sub-chapter, we will first build the `ResidualBlock` class. We will be able to call it when we then build the `ResNet` class - our neural network. Since our network achitecture will contain residual blocks, we need to define them in advance. We will finish by instantiating the resulting model."
   ]
  },
  {
   "cell_type": "markdown",
   "metadata": {
    "id": "uLbmf3HIThMe"
   },
   "source": [
    "#### 4.2.1 The Residual Block"
   ]
  },
  {
   "cell_type": "markdown",
   "metadata": {
    "id": "gciYsIgSS_0B"
   },
   "source": [
    "As discussed above, a **residual block** simply denotes that the activation of a layer can be fast-forwarded to a deeper layer in the neural network. As you can observe in the image below, the activation from a previous layer is being added to the final activation of a deeper layer in the network."
   ]
  },
  {
   "cell_type": "markdown",
   "metadata": {
    "id": "GdLSXVQNTHH-"
   },
   "source": [
    "<img align=\"center\" style=\"max-width: 400px\" src=\"https://github.com/GitiHubi/courseML/blob/master/lab_06/residual_block.png?raw=1\">\n",
    "\n",
    "Sources: \n",
    ">- He, K., Zhang, X., Ren, S., and, Sun, J. (2015). Deep Residual Learning for Image Recognition\n",
    ">- Zhang, A., Lipton, Z. C., Li, M., & Smola, A. J. (2020). Dive into Deep Learning. Available at https://d2l.ai/index.html"
   ]
  },
  {
   "cell_type": "markdown",
   "metadata": {
    "id": "vIMAzJYITPJs"
   },
   "source": [
    "Let's implement such a **Residual Block**, as shown above, using `PyTorch`library. Our block will consist of the exact same structure:"
   ]
  },
  {
   "cell_type": "code",
   "execution_count": 19,
   "metadata": {
    "id": "oF2zdq28S5Kq"
   },
   "outputs": [],
   "source": [
    "# implement ResNet residual block\n",
    "class ResidualBlock(nn.Module):\n",
    "\n",
    "    # define the class constructor\n",
    "    def __init__(self, in_channels, out_channels, stride=1, downsample=None):\n",
    "\n",
    "        # call super class constructor\n",
    "        super(ResidualBlock, self).__init__()\n",
    "\n",
    "        # init first convolutional layer of residual block\n",
    "        self.conv1 = nn.Conv2d(in_channels, out_channels, kernel_size=3, stride=stride, padding=1, bias=False)\n",
    "        self.bn1 = nn.BatchNorm2d(out_channels) # batch-normalization\n",
    "        self.relu1 = nn.ReLU(inplace=True) # non-linearity\n",
    "        \n",
    "        # init second convolutional layer of residual block\n",
    "        self.conv2 = nn.Conv2d(out_channels, out_channels, kernel_size=3, stride=stride, padding=1, bias=False)\n",
    "        self.bn2 = nn.BatchNorm2d(out_channels) # batch-normalization\n",
    "        self.relu2 = nn.ReLU(inplace=True) # non-linearity\n",
    "        \n",
    "        # init down-sample flag\n",
    "        self.downsample = downsample # for dimension changes\n",
    "\n",
    "    # define the block forward pass\n",
    "    def forward(self, x):\n",
    "\n",
    "        # determine residual\n",
    "        residual = x\n",
    "        \n",
    "        # case: down-sampling needed\n",
    "        if self.downsample:\n",
    "            \n",
    "            # determine down-sampled residual\n",
    "            residual = self.downsample(residual)\n",
    "\n",
    "        # run forward pass through first layer\n",
    "        out = self.conv1(x)\n",
    "        out = self.bn1(out)\n",
    "        out = self.relu1(out)\n",
    "        \n",
    "        # run forward pass through second layer\n",
    "        out = self.conv2(out)\n",
    "        out = self.bn2(out)\n",
    "\n",
    "        # merge output and residual\n",
    "        # the skip connection :) \n",
    "        out += residual\n",
    "        \n",
    "        # run second non-linearity\n",
    "        out = self.relu2(out)\n",
    "\n",
    "        # return residual block output\n",
    "        return out"
   ]
  },
  {
   "cell_type": "markdown",
   "metadata": {
    "id": "DkzUkTViTs87"
   },
   "source": [
    "#### 4.2.2 RNN Architecture"
   ]
  },
  {
   "cell_type": "markdown",
   "metadata": {
    "id": "Dvhdeg7Bcygj"
   },
   "source": [
    "Our RNN, which we name 'ResNet' and aim to implement consists of one **convolutional layer** (which includes batch-normalization and ReLU non-linearity), and then three **residual layers** each consisting of 2 **residual blocks**. The residual blocks have the architecture defined above. \n",
    " \n",
    "Then, a pooling layer precedes a **fully connected layer**. Finally, a we go through a softmax layer to get our classification probabilities for the 10 classes."
   ]
  },
  {
   "cell_type": "markdown",
   "metadata": {
    "id": "BEl28b2jTyOg"
   },
   "source": [
    "Let's implement a `ResNet` network architecture and subsequently have a more in-depth look into its architectural details:"
   ]
  },
  {
   "cell_type": "code",
   "execution_count": 20,
   "metadata": {
    "id": "cr30FekUT8Mr"
   },
   "outputs": [],
   "source": [
    "# implement the ResNet architecture\n",
    "class ResNet(nn.Module):\n",
    "\n",
    "    # define the class constructor\n",
    "    def __init__(self, layers):\n",
    "        \n",
    "        # call super class constructor\n",
    "        super(ResNet, self).__init__()\n",
    "        \n",
    "        #### feature learning layers\n",
    "\n",
    "        # init initial convolutional layer\n",
    "        self.conv = nn.Conv2d(in_channels=3, out_channels=16, kernel_size=3, stride=1, padding=1, bias=False)\n",
    "        self.bn = nn.BatchNorm2d(16) # batch-normalization\n",
    "        self.relu = nn.ReLU(inplace=True) # non-linearity\n",
    "\n",
    "        # init first residual layer \n",
    "        self.layer1 = self.make_residual_layer(in_channels=16, out_channels=16, blocks=layers[0], stride=1)\n",
    "        \n",
    "        # init second residual layer \n",
    "        self.layer2 = self.make_residual_layer(in_channels=16, out_channels=32, blocks=layers[1], stride=1)\n",
    "        \n",
    "        # init third residual layer \n",
    "        self.layer3 = self.make_residual_layer(in_channels=32, out_channels=64, blocks=layers[2], stride=1)\n",
    "\n",
    "        # init average pooling\n",
    "        self.avg_pool = nn.AvgPool2d(8)\n",
    "\n",
    "        #### feature classification layers\n",
    "        \n",
    "        # define fully connected layer \n",
    "        self.fc = nn.Linear(1024, 10)\n",
    "\n",
    "        # define log-softmax probability conversion\n",
    "        self.logsoftmax = nn.LogSoftmax(dim=1)\n",
    "\n",
    "    # create residual layer \n",
    "    def make_residual_layer(self, in_channels, out_channels, blocks, stride=1):\n",
    "\n",
    "        # init down-sample flag\n",
    "        downsample = None\n",
    "\n",
    "        # init array of residual layer elements \n",
    "        layers = []\n",
    "        \n",
    "        # case: down sampling needed\n",
    "        if in_channels != out_channels:\n",
    "\n",
    "            # init down-sampling layer \n",
    "            downsample = nn.Sequential(\n",
    "                \n",
    "                # init down-sampling convolution\n",
    "                nn.Conv2d(in_channels, out_channels, kernel_size=3, stride=stride, padding=1, bias=False),\n",
    "                \n",
    "                # init down-sampling batch normalization \n",
    "                nn.BatchNorm2d(out_channels)\n",
    "            )\n",
    "        \n",
    "        # init and append initial residual block\n",
    "        layers.append(ResidualBlock(in_channels, out_channels, stride, downsample))\n",
    "\n",
    "        # reset input channels\n",
    "        self.in_channels = out_channels\n",
    "\n",
    "        # iterate over remaining residual blocks\n",
    "        for i in range(1, blocks):\n",
    "\n",
    "            # init and append remaining residual blocks\n",
    "            layers.append(ResidualBlock(out_channels, out_channels))\n",
    "\n",
    "        # stack layers \n",
    "        residual_layer = nn.Sequential(*layers)\n",
    "        \n",
    "        # return residual layer \n",
    "        return residual_layer\n",
    "\n",
    "    # define the network forward pass\n",
    "    def forward(self, x):\n",
    "\n",
    "        # run through inital convolution\n",
    "        x = self.conv(x)\n",
    "        \n",
    "        # run through initial batch-normalization\n",
    "        x = self.bn(x)\n",
    "        \n",
    "        # run trough first residual block\n",
    "        x = self.layer1(x)\n",
    "        \n",
    "        # run through second residual block\n",
    "        x = self.layer2(x)\n",
    "        \n",
    "        # run through third residual block\n",
    "        x = self.layer3(x)\n",
    "        \n",
    "        # conduct average pooling of learned features\n",
    "        x = self.avg_pool(x)\n",
    "        \n",
    "        # reshape the feature map\n",
    "        x = x.view(x.size(0), -1)\n",
    "        \n",
    "        # run final fully-connected layer\n",
    "        x = self.fc(x)\n",
    "        \n",
    "        # run final log-softmax\n",
    "        x = self.logsoftmax(x)\n",
    "\n",
    "        # return forward pass result\n",
    "        return x"
   ]
  },
  {
   "cell_type": "markdown",
   "metadata": {
    "id": "raWN4nhgdLaD"
   },
   "source": [
    "#### 4.2.3 Model Instantiation"
   ]
  },
  {
   "cell_type": "markdown",
   "metadata": {
    "id": "_p6iw-nWUA2u"
   },
   "source": [
    "Now that we have implemented our `ResNet` architecture we are ready to instantiate a network model to be trained. In the following we instantiate a `ResNet` where each residual layer consists of two residual blocks: "
   ]
  },
  {
   "cell_type": "code",
   "execution_count": 21,
   "metadata": {
    "id": "brf0PNlQUJY9"
   },
   "outputs": [],
   "source": [
    "resnet_model = ResNet(layers=[2, 2, 2])"
   ]
  },
  {
   "cell_type": "markdown",
   "metadata": {
    "id": "-0iU3gE5UfVD"
   },
   "source": [
    "Once the model is initialized we can visualize the model structure and review the implemented network architecture by execution of the following cell:"
   ]
  },
  {
   "cell_type": "code",
   "execution_count": 22,
   "metadata": {
    "id": "7CyinTz0Ui_a"
   },
   "outputs": [
    {
     "name": "stdout",
     "output_type": "stream",
     "text": [
      "[LOG] ResNet architecture:\n",
      "\n",
      "ResNet(\n",
      "  (conv): Conv2d(3, 16, kernel_size=(3, 3), stride=(1, 1), padding=(1, 1), bias=False)\n",
      "  (bn): BatchNorm2d(16, eps=1e-05, momentum=0.1, affine=True, track_running_stats=True)\n",
      "  (relu): ReLU(inplace=True)\n",
      "  (layer1): Sequential(\n",
      "    (0): ResidualBlock(\n",
      "      (conv1): Conv2d(16, 16, kernel_size=(3, 3), stride=(1, 1), padding=(1, 1), bias=False)\n",
      "      (bn1): BatchNorm2d(16, eps=1e-05, momentum=0.1, affine=True, track_running_stats=True)\n",
      "      (relu1): ReLU(inplace=True)\n",
      "      (conv2): Conv2d(16, 16, kernel_size=(3, 3), stride=(1, 1), padding=(1, 1), bias=False)\n",
      "      (bn2): BatchNorm2d(16, eps=1e-05, momentum=0.1, affine=True, track_running_stats=True)\n",
      "      (relu2): ReLU(inplace=True)\n",
      "    )\n",
      "    (1): ResidualBlock(\n",
      "      (conv1): Conv2d(16, 16, kernel_size=(3, 3), stride=(1, 1), padding=(1, 1), bias=False)\n",
      "      (bn1): BatchNorm2d(16, eps=1e-05, momentum=0.1, affine=True, track_running_stats=True)\n",
      "      (relu1): ReLU(inplace=True)\n",
      "      (conv2): Conv2d(16, 16, kernel_size=(3, 3), stride=(1, 1), padding=(1, 1), bias=False)\n",
      "      (bn2): BatchNorm2d(16, eps=1e-05, momentum=0.1, affine=True, track_running_stats=True)\n",
      "      (relu2): ReLU(inplace=True)\n",
      "    )\n",
      "  )\n",
      "  (layer2): Sequential(\n",
      "    (0): ResidualBlock(\n",
      "      (conv1): Conv2d(16, 32, kernel_size=(3, 3), stride=(1, 1), padding=(1, 1), bias=False)\n",
      "      (bn1): BatchNorm2d(32, eps=1e-05, momentum=0.1, affine=True, track_running_stats=True)\n",
      "      (relu1): ReLU(inplace=True)\n",
      "      (conv2): Conv2d(32, 32, kernel_size=(3, 3), stride=(1, 1), padding=(1, 1), bias=False)\n",
      "      (bn2): BatchNorm2d(32, eps=1e-05, momentum=0.1, affine=True, track_running_stats=True)\n",
      "      (relu2): ReLU(inplace=True)\n",
      "      (downsample): Sequential(\n",
      "        (0): Conv2d(16, 32, kernel_size=(3, 3), stride=(1, 1), padding=(1, 1), bias=False)\n",
      "        (1): BatchNorm2d(32, eps=1e-05, momentum=0.1, affine=True, track_running_stats=True)\n",
      "      )\n",
      "    )\n",
      "    (1): ResidualBlock(\n",
      "      (conv1): Conv2d(32, 32, kernel_size=(3, 3), stride=(1, 1), padding=(1, 1), bias=False)\n",
      "      (bn1): BatchNorm2d(32, eps=1e-05, momentum=0.1, affine=True, track_running_stats=True)\n",
      "      (relu1): ReLU(inplace=True)\n",
      "      (conv2): Conv2d(32, 32, kernel_size=(3, 3), stride=(1, 1), padding=(1, 1), bias=False)\n",
      "      (bn2): BatchNorm2d(32, eps=1e-05, momentum=0.1, affine=True, track_running_stats=True)\n",
      "      (relu2): ReLU(inplace=True)\n",
      "    )\n",
      "  )\n",
      "  (layer3): Sequential(\n",
      "    (0): ResidualBlock(\n",
      "      (conv1): Conv2d(32, 64, kernel_size=(3, 3), stride=(1, 1), padding=(1, 1), bias=False)\n",
      "      (bn1): BatchNorm2d(64, eps=1e-05, momentum=0.1, affine=True, track_running_stats=True)\n",
      "      (relu1): ReLU(inplace=True)\n",
      "      (conv2): Conv2d(64, 64, kernel_size=(3, 3), stride=(1, 1), padding=(1, 1), bias=False)\n",
      "      (bn2): BatchNorm2d(64, eps=1e-05, momentum=0.1, affine=True, track_running_stats=True)\n",
      "      (relu2): ReLU(inplace=True)\n",
      "      (downsample): Sequential(\n",
      "        (0): Conv2d(32, 64, kernel_size=(3, 3), stride=(1, 1), padding=(1, 1), bias=False)\n",
      "        (1): BatchNorm2d(64, eps=1e-05, momentum=0.1, affine=True, track_running_stats=True)\n",
      "      )\n",
      "    )\n",
      "    (1): ResidualBlock(\n",
      "      (conv1): Conv2d(64, 64, kernel_size=(3, 3), stride=(1, 1), padding=(1, 1), bias=False)\n",
      "      (bn1): BatchNorm2d(64, eps=1e-05, momentum=0.1, affine=True, track_running_stats=True)\n",
      "      (relu1): ReLU(inplace=True)\n",
      "      (conv2): Conv2d(64, 64, kernel_size=(3, 3), stride=(1, 1), padding=(1, 1), bias=False)\n",
      "      (bn2): BatchNorm2d(64, eps=1e-05, momentum=0.1, affine=True, track_running_stats=True)\n",
      "      (relu2): ReLU(inplace=True)\n",
      "    )\n",
      "  )\n",
      "  (avg_pool): AvgPool2d(kernel_size=8, stride=8, padding=0)\n",
      "  (fc): Linear(in_features=1024, out_features=10, bias=True)\n",
      "  (logsoftmax): LogSoftmax(dim=1)\n",
      ")\n",
      "\n"
     ]
    }
   ],
   "source": [
    "# print the initialized architectures\n",
    "print('[LOG] ResNet architecture:\\n\\n{}\\n'.format(resnet_model))"
   ]
  },
  {
   "cell_type": "markdown",
   "metadata": {
    "id": "Q1pjsmqQUpgP"
   },
   "source": [
    "Looks like intended? Brilliant! Finally, let's have a look into the number of model parameters that we aim to train in the next steps of the notebook:"
   ]
  },
  {
   "cell_type": "code",
   "execution_count": 23,
   "metadata": {
    "id": "qd2pXAryUw0o"
   },
   "outputs": [
    {
     "name": "stdout",
     "output_type": "stream",
     "text": [
      "[LOG] Number of to be trained ResNet model parameters: 205338.\n"
     ]
    }
   ],
   "source": [
    "# init the number of model parameters\n",
    "num_params = 0\n",
    "\n",
    "# iterate over the distinct parameters\n",
    "for param in resnet_model.parameters():\n",
    "\n",
    "    # collect number of parameters\n",
    "    num_params += param.numel()\n",
    "    \n",
    "# print the number of model paramters\n",
    "print('[LOG] Number of to be trained ResNet model parameters: {}.'.format(num_params))"
   ]
  },
  {
   "cell_type": "markdown",
   "metadata": {
    "id": "L-nz4f1HU1XV"
   },
   "source": [
    "Ok, our `ResNet` model encompasses a total of 205'338 model parameters to be trained. That's quite an increase in comparison to the prior Convolutional Neural Network we built in the last lab which had 62'006 parameters. "
   ]
  },
  {
   "cell_type": "markdown",
   "metadata": {
    "id": "E5pKVN-Xd7o0"
   },
   "source": [
    "Now that we have implemented the ResNet, we are ready to train the network. However, before starting the training, we need to define an appropriate loss function. Remember, we aim to train our model to learn a set of model parameters $\\theta$ that minimize the classification error of the true class $c^{i}$ of a given CIFAR-10 image $x^{i}$ and its predicted class $\\hat{c}^{i} = f_\\theta(x^{i})$ as faithfully as possible. \n",
    "\n",
    "In this lab we use (similarly to the CNN lab) the **'Negative Log-Likelihood (NLL)'** loss. During training the NLL loss will penalize models that result in a high classification error between the predicted class labels $\\hat{c}^{i}$ and their respective true class label $c^{i}$."
   ]
  },
  {
   "cell_type": "markdown",
   "metadata": {
    "id": "Xb-kv2XYCBnd"
   },
   "source": [
    "Let's instantiate the **NLL** via the execution of the following PyTorch command:"
   ]
  },
  {
   "cell_type": "code",
   "execution_count": 24,
   "metadata": {
    "id": "kLeknpaECBnd"
   },
   "outputs": [],
   "source": [
    "# define the optimization criterion / loss function\n",
    "nll_loss = nn.NLLLoss()"
   ]
  },
  {
   "cell_type": "markdown",
   "metadata": {
    "id": "CAlksm4jXxD9"
   },
   "source": [
    "Similarly to training the `CIFAR10Net`, we will use the **Stochastic Gradient Descent (SGD) optimization** and set the `learning-rate to 0.001`. Each mini-batch step the optimizer will update the model parameters $\\theta$ values according to the degree of classification error (the NLL loss)."
   ]
  },
  {
   "cell_type": "code",
   "execution_count": 25,
   "metadata": {
    "id": "Sd5vztwMX548"
   },
   "outputs": [],
   "source": [
    "# define learning rate and optimization strategy\n",
    "learning_rate = 0.001\n",
    "optimizer = optim.SGD(params=resnet_model.parameters(), lr=learning_rate)"
   ]
  },
  {
   "cell_type": "markdown",
   "metadata": {
    "id": "HQeI3IAPUBrY"
   },
   "source": [
    "## 5. Training the Neural Network"
   ]
  },
  {
   "cell_type": "markdown",
   "metadata": {
    "id": "4JzWWBSuevMT"
   },
   "source": [
    "In this section, we will train our neural network model (as implemented in the section above) using the transformed images. More specifically, we will have a detailed look into the distinct training steps as well as how to monitor the training progress."
   ]
  },
  {
   "cell_type": "markdown",
   "metadata": {
    "id": "3-bLqVCjCBnd"
   },
   "source": [
    "### 5.1 Preparing the Network Training"
   ]
  },
  {
   "cell_type": "markdown",
   "metadata": {
    "id": "BXEvnjKpe2kA"
   },
   "source": [
    "So far, we have pre-processed the dataset, implemented the ResNet and defined the classification error. Let's now start to train a corresponding model for **1 epoch** and a **mini-batch size of 128** CIFAR-10 images per batch. This implies that the whole dataset will be fed to the ResNet times in chunks of 128 images yielding to **391 mini-batches** (50.000 training images / 128 images per mini-batch) per epoch. After the processing of each mini-batch, the parameters of the network will be updated."
   ]
  },
  {
   "cell_type": "code",
   "execution_count": 26,
   "metadata": {
    "id": "7R5i3GSYfCAr"
   },
   "outputs": [],
   "source": [
    "# specify the training parameters\n",
    "num_epochs = 1 # number of training epochs\n",
    "mini_batch_size = 128 # size of the mini-batches"
   ]
  },
  {
   "cell_type": "markdown",
   "metadata": {
    "id": "YfHLj3anCBnd"
   },
   "source": [
    "Furthermore, let's specifiy and instantiate a corresponding PyTorch data loader that feeds the image tensors to our neural network:"
   ]
  },
  {
   "cell_type": "code",
   "execution_count": 27,
   "metadata": {
    "id": "M0IOt9IpCBnd"
   },
   "outputs": [],
   "source": [
    "cifar10_train_dataloader = torch.utils.data.DataLoader(cifar10_train_data, batch_size=mini_batch_size, shuffle=True)"
   ]
  },
  {
   "cell_type": "markdown",
   "metadata": {
    "id": "DgInw__dfGQf"
   },
   "source": [
    "We can verify the length of the training `DataLoader`, which should correspond tp **391 mini-batches**:"
   ]
  },
  {
   "cell_type": "code",
   "execution_count": 28,
   "metadata": {
    "id": "v1TqQm9VCFJI"
   },
   "outputs": [
    {
     "data": {
      "text/plain": [
       "391"
      ]
     },
     "execution_count": 28,
     "metadata": {},
     "output_type": "execute_result"
    }
   ],
   "source": [
    "len(cifar10_train_dataloader)"
   ]
  },
  {
   "cell_type": "markdown",
   "metadata": {
    "id": "0hhnjfwTX_mI"
   },
   "source": [
    "### 5.2 Running the Network Training"
   ]
  },
  {
   "cell_type": "markdown",
   "metadata": {
    "id": "woqs8JOkfc3v"
   },
   "source": [
    "Finally, we start training the model. The training procedure for each mini-batch is performed as follows: \n",
    "\n",
    ">1. do a forward pass through the ResNet network, \n",
    ">2. compute the negative log-likelihood classification error $\\mathcal{L}^{NLL}_{\\theta}(c^{i};\\hat{c}^{i})$, \n",
    ">3. do a backward pass through the ResNet network, and \n",
    ">4. update the parameters of the network $f_\\theta(\\cdot)$.\n",
    "\n",
    "To ensure learning while training our ResNet model, we will monitor whether the loss decreases with progressing training. Based on this evaluation, we can conclude on the training progress and whether the loss is converging (indicating that the model might not improve any further).\n",
    "\n",
    "The following elements of the network training code below should be given particular attention:\n",
    " \n",
    ">- `loss.backward()` computes the gradients based on the magnitude of the reconstruction loss,\n",
    ">- `optimizer.step()` updates the network parameters based on the gradient."
   ]
  },
  {
   "cell_type": "markdown",
   "metadata": {
    "id": "SdpLVWv62Dud"
   },
   "source": [
    "Based on the loss magnitude of a certain mini-batch PyTorch automatically computes the gradients. But even better, based on the gradient, the library also helps us in the optimization and update of the network parameters $\\theta$.\n",
    "\n",
    "Each mini-batch step the optimizer will update the model parameters $\\theta$ values according to the degree of classification error (the NLL loss)."
   ]
  },
  {
   "cell_type": "markdown",
   "metadata": {
    "id": "ugrq6cG6hHIa"
   },
   "source": [
    "Using the code below, let's run the network!"
   ]
  },
  {
   "cell_type": "code",
   "execution_count": 29,
   "metadata": {
    "id": "3l6zWaSOYdCv"
   },
   "outputs": [
    {
     "name": "stdout",
     "output_type": "stream",
     "text": [
      "[LOG 20230606-18:36:27] epoch: 1, batch: 1 train-loss: 2.4399402141571045\n",
      "[LOG 20230606-18:36:28] epoch: 1, batch: 2 train-loss: 2.352536678314209\n",
      "[LOG 20230606-18:36:30] epoch: 1, batch: 3 train-loss: 2.461113691329956\n",
      "[LOG 20230606-18:36:31] epoch: 1, batch: 4 train-loss: 2.4111838340759277\n",
      "[LOG 20230606-18:36:32] epoch: 1, batch: 5 train-loss: 2.3665637969970703\n",
      "[LOG 20230606-18:36:33] epoch: 1, batch: 6 train-loss: 2.3574483394622803\n",
      "[LOG 20230606-18:36:35] epoch: 1, batch: 7 train-loss: 2.2863409519195557\n",
      "[LOG 20230606-18:36:36] epoch: 1, batch: 8 train-loss: 2.3689918518066406\n",
      "[LOG 20230606-18:36:38] epoch: 1, batch: 9 train-loss: 2.330136775970459\n",
      "[LOG 20230606-18:36:39] epoch: 1, batch: 10 train-loss: 2.3252017498016357\n",
      "[LOG 20230606-18:36:40] epoch: 1, batch: 11 train-loss: 2.273045539855957\n",
      "[LOG 20230606-18:36:42] epoch: 1, batch: 12 train-loss: 2.352306365966797\n",
      "[LOG 20230606-18:36:43] epoch: 1, batch: 13 train-loss: 2.3105061054229736\n",
      "[LOG 20230606-18:36:44] epoch: 1, batch: 14 train-loss: 2.317316770553589\n",
      "[LOG 20230606-18:36:46] epoch: 1, batch: 15 train-loss: 2.30440616607666\n",
      "[LOG 20230606-18:36:47] epoch: 1, batch: 16 train-loss: 2.3275158405303955\n",
      "[LOG 20230606-18:36:48] epoch: 1, batch: 17 train-loss: 2.270803928375244\n",
      "[LOG 20230606-18:36:50] epoch: 1, batch: 18 train-loss: 2.3354666233062744\n",
      "[LOG 20230606-18:36:51] epoch: 1, batch: 19 train-loss: 2.3030924797058105\n",
      "[LOG 20230606-18:36:52] epoch: 1, batch: 20 train-loss: 2.366009473800659\n",
      "[LOG 20230606-18:36:53] epoch: 1, batch: 21 train-loss: 2.296994686126709\n",
      "[LOG 20230606-18:36:55] epoch: 1, batch: 22 train-loss: 2.3111209869384766\n",
      "[LOG 20230606-18:36:56] epoch: 1, batch: 23 train-loss: 2.334419012069702\n",
      "[LOG 20230606-18:36:57] epoch: 1, batch: 24 train-loss: 2.328892707824707\n",
      "[LOG 20230606-18:36:59] epoch: 1, batch: 25 train-loss: 2.263981819152832\n",
      "[LOG 20230606-18:37:00] epoch: 1, batch: 26 train-loss: 2.2821059226989746\n",
      "[LOG 20230606-18:37:01] epoch: 1, batch: 27 train-loss: 2.302156925201416\n",
      "[LOG 20230606-18:37:02] epoch: 1, batch: 28 train-loss: 2.279959201812744\n",
      "[LOG 20230606-18:37:04] epoch: 1, batch: 29 train-loss: 2.287585973739624\n",
      "[LOG 20230606-18:37:05] epoch: 1, batch: 30 train-loss: 2.2741966247558594\n",
      "[LOG 20230606-18:37:06] epoch: 1, batch: 31 train-loss: 2.2457339763641357\n",
      "[LOG 20230606-18:37:08] epoch: 1, batch: 32 train-loss: 2.3034346103668213\n",
      "[LOG 20230606-18:37:09] epoch: 1, batch: 33 train-loss: 2.3069262504577637\n",
      "[LOG 20230606-18:37:10] epoch: 1, batch: 34 train-loss: 2.307399272918701\n",
      "[LOG 20230606-18:37:11] epoch: 1, batch: 35 train-loss: 2.2848706245422363\n",
      "[LOG 20230606-18:37:13] epoch: 1, batch: 36 train-loss: 2.260432243347168\n",
      "[LOG 20230606-18:37:14] epoch: 1, batch: 37 train-loss: 2.292283535003662\n",
      "[LOG 20230606-18:37:15] epoch: 1, batch: 38 train-loss: 2.2758398056030273\n",
      "[LOG 20230606-18:37:17] epoch: 1, batch: 39 train-loss: 2.276043653488159\n",
      "[LOG 20230606-18:37:18] epoch: 1, batch: 40 train-loss: 2.261842966079712\n",
      "[LOG 20230606-18:37:19] epoch: 1, batch: 41 train-loss: 2.247852087020874\n",
      "[LOG 20230606-18:37:21] epoch: 1, batch: 42 train-loss: 2.2678415775299072\n",
      "[LOG 20230606-18:37:22] epoch: 1, batch: 43 train-loss: 2.2709848880767822\n",
      "[LOG 20230606-18:37:23] epoch: 1, batch: 44 train-loss: 2.2109856605529785\n",
      "[LOG 20230606-18:37:25] epoch: 1, batch: 45 train-loss: 2.2813773155212402\n",
      "[LOG 20230606-18:37:26] epoch: 1, batch: 46 train-loss: 2.2645862102508545\n",
      "[LOG 20230606-18:37:28] epoch: 1, batch: 47 train-loss: 2.257786512374878\n",
      "[LOG 20230606-18:37:29] epoch: 1, batch: 48 train-loss: 2.2701539993286133\n",
      "[LOG 20230606-18:37:30] epoch: 1, batch: 49 train-loss: 2.2361233234405518\n",
      "[LOG 20230606-18:37:32] epoch: 1, batch: 50 train-loss: 2.278064012527466\n",
      "[LOG 20230606-18:37:33] epoch: 1, batch: 51 train-loss: 2.2574405670166016\n",
      "[LOG 20230606-18:37:35] epoch: 1, batch: 52 train-loss: 2.264787435531616\n",
      "[LOG 20230606-18:37:36] epoch: 1, batch: 53 train-loss: 2.2221901416778564\n",
      "[LOG 20230606-18:37:37] epoch: 1, batch: 54 train-loss: 2.2263753414154053\n",
      "[LOG 20230606-18:37:39] epoch: 1, batch: 55 train-loss: 2.238668203353882\n",
      "[LOG 20230606-18:37:40] epoch: 1, batch: 56 train-loss: 2.208157777786255\n",
      "[LOG 20230606-18:37:42] epoch: 1, batch: 57 train-loss: 2.269397020339966\n",
      "[LOG 20230606-18:37:44] epoch: 1, batch: 58 train-loss: 2.239420175552368\n",
      "[LOG 20230606-18:37:45] epoch: 1, batch: 59 train-loss: 2.2633347511291504\n",
      "[LOG 20230606-18:37:47] epoch: 1, batch: 60 train-loss: 2.2381069660186768\n",
      "[LOG 20230606-18:37:49] epoch: 1, batch: 61 train-loss: 2.231577157974243\n",
      "[LOG 20230606-18:37:51] epoch: 1, batch: 62 train-loss: 2.254176378250122\n",
      "[LOG 20230606-18:37:52] epoch: 1, batch: 63 train-loss: 2.2461812496185303\n",
      "[LOG 20230606-18:37:54] epoch: 1, batch: 64 train-loss: 2.2375705242156982\n",
      "[LOG 20230606-18:37:56] epoch: 1, batch: 65 train-loss: 2.2344610691070557\n",
      "[LOG 20230606-18:37:58] epoch: 1, batch: 66 train-loss: 2.213543653488159\n",
      "[LOG 20230606-18:37:59] epoch: 1, batch: 67 train-loss: 2.234804391860962\n",
      "[LOG 20230606-18:38:01] epoch: 1, batch: 68 train-loss: 2.1993279457092285\n",
      "[LOG 20230606-18:38:03] epoch: 1, batch: 69 train-loss: 2.2370378971099854\n",
      "[LOG 20230606-18:38:05] epoch: 1, batch: 70 train-loss: 2.2036924362182617\n",
      "[LOG 20230606-18:38:07] epoch: 1, batch: 71 train-loss: 2.1979262828826904\n",
      "[LOG 20230606-18:38:09] epoch: 1, batch: 72 train-loss: 2.1848607063293457\n",
      "[LOG 20230606-18:38:11] epoch: 1, batch: 73 train-loss: 2.1888670921325684\n",
      "[LOG 20230606-18:38:13] epoch: 1, batch: 74 train-loss: 2.2038521766662598\n",
      "[LOG 20230606-18:38:14] epoch: 1, batch: 75 train-loss: 2.1862306594848633\n",
      "[LOG 20230606-18:38:16] epoch: 1, batch: 76 train-loss: 2.157503843307495\n",
      "[LOG 20230606-18:38:18] epoch: 1, batch: 77 train-loss: 2.212066173553467\n",
      "[LOG 20230606-18:38:19] epoch: 1, batch: 78 train-loss: 2.2031266689300537\n",
      "[LOG 20230606-18:38:21] epoch: 1, batch: 79 train-loss: 2.216845750808716\n",
      "[LOG 20230606-18:38:23] epoch: 1, batch: 80 train-loss: 2.195563554763794\n",
      "[LOG 20230606-18:38:24] epoch: 1, batch: 81 train-loss: 2.227468967437744\n",
      "[LOG 20230606-18:38:26] epoch: 1, batch: 82 train-loss: 2.1729776859283447\n",
      "[LOG 20230606-18:38:28] epoch: 1, batch: 83 train-loss: 2.17457914352417\n",
      "[LOG 20230606-18:38:29] epoch: 1, batch: 84 train-loss: 2.183926582336426\n",
      "[LOG 20230606-18:38:31] epoch: 1, batch: 85 train-loss: 2.1988275051116943\n",
      "[LOG 20230606-18:38:32] epoch: 1, batch: 86 train-loss: 2.208301305770874\n",
      "[LOG 20230606-18:38:34] epoch: 1, batch: 87 train-loss: 2.2071757316589355\n",
      "[LOG 20230606-18:38:36] epoch: 1, batch: 88 train-loss: 2.2016329765319824\n",
      "[LOG 20230606-18:38:37] epoch: 1, batch: 89 train-loss: 2.227215051651001\n",
      "[LOG 20230606-18:38:39] epoch: 1, batch: 90 train-loss: 2.148960828781128\n",
      "[LOG 20230606-18:38:40] epoch: 1, batch: 91 train-loss: 2.1467621326446533\n",
      "[LOG 20230606-18:38:42] epoch: 1, batch: 92 train-loss: 2.1937050819396973\n",
      "[LOG 20230606-18:38:43] epoch: 1, batch: 93 train-loss: 2.176520586013794\n",
      "[LOG 20230606-18:38:45] epoch: 1, batch: 94 train-loss: 2.1984753608703613\n",
      "[LOG 20230606-18:38:46] epoch: 1, batch: 95 train-loss: 2.1669046878814697\n",
      "[LOG 20230606-18:38:48] epoch: 1, batch: 96 train-loss: 2.177889585494995\n",
      "[LOG 20230606-18:38:50] epoch: 1, batch: 97 train-loss: 2.149620294570923\n",
      "[LOG 20230606-18:38:51] epoch: 1, batch: 98 train-loss: 2.152754068374634\n",
      "[LOG 20230606-18:38:53] epoch: 1, batch: 99 train-loss: 2.1807191371917725\n",
      "[LOG 20230606-18:38:54] epoch: 1, batch: 100 train-loss: 2.167263984680176\n",
      "[LOG 20230606-18:38:56] epoch: 1, batch: 101 train-loss: 2.1738200187683105\n",
      "[LOG 20230606-18:38:57] epoch: 1, batch: 102 train-loss: 2.190699577331543\n",
      "[LOG 20230606-18:38:59] epoch: 1, batch: 103 train-loss: 2.169599771499634\n",
      "[LOG 20230606-18:39:01] epoch: 1, batch: 104 train-loss: 2.2020151615142822\n",
      "[LOG 20230606-18:39:02] epoch: 1, batch: 105 train-loss: 2.1519646644592285\n",
      "[LOG 20230606-18:39:04] epoch: 1, batch: 106 train-loss: 2.1605467796325684\n",
      "[LOG 20230606-18:39:05] epoch: 1, batch: 107 train-loss: 2.1474850177764893\n",
      "[LOG 20230606-18:39:07] epoch: 1, batch: 108 train-loss: 2.1444058418273926\n",
      "[LOG 20230606-18:39:09] epoch: 1, batch: 109 train-loss: 2.211390733718872\n",
      "[LOG 20230606-18:39:10] epoch: 1, batch: 110 train-loss: 2.154264450073242\n"
     ]
    },
    {
     "name": "stdout",
     "output_type": "stream",
     "text": [
      "[LOG 20230606-18:39:12] epoch: 1, batch: 111 train-loss: 2.16080904006958\n",
      "[LOG 20230606-18:39:13] epoch: 1, batch: 112 train-loss: 2.1176841259002686\n",
      "[LOG 20230606-18:39:15] epoch: 1, batch: 113 train-loss: 2.130528211593628\n",
      "[LOG 20230606-18:39:17] epoch: 1, batch: 114 train-loss: 2.131803274154663\n",
      "[LOG 20230606-18:39:18] epoch: 1, batch: 115 train-loss: 2.1736788749694824\n",
      "[LOG 20230606-18:39:20] epoch: 1, batch: 116 train-loss: 2.142913341522217\n",
      "[LOG 20230606-18:39:22] epoch: 1, batch: 117 train-loss: 2.1677231788635254\n",
      "[LOG 20230606-18:39:23] epoch: 1, batch: 118 train-loss: 2.12423038482666\n",
      "[LOG 20230606-18:39:25] epoch: 1, batch: 119 train-loss: 2.147883653640747\n",
      "[LOG 20230606-18:39:27] epoch: 1, batch: 120 train-loss: 2.130754232406616\n",
      "[LOG 20230606-18:39:28] epoch: 1, batch: 121 train-loss: 2.2012956142425537\n",
      "[LOG 20230606-18:39:30] epoch: 1, batch: 122 train-loss: 2.1470370292663574\n",
      "[LOG 20230606-18:39:31] epoch: 1, batch: 123 train-loss: 2.109081745147705\n",
      "[LOG 20230606-18:39:33] epoch: 1, batch: 124 train-loss: 2.1322038173675537\n",
      "[LOG 20230606-18:39:35] epoch: 1, batch: 125 train-loss: 2.150977611541748\n",
      "[LOG 20230606-18:39:36] epoch: 1, batch: 126 train-loss: 2.060729742050171\n",
      "[LOG 20230606-18:39:38] epoch: 1, batch: 127 train-loss: 2.1728880405426025\n",
      "[LOG 20230606-18:39:40] epoch: 1, batch: 128 train-loss: 2.1580021381378174\n",
      "[LOG 20230606-18:39:41] epoch: 1, batch: 129 train-loss: 2.17297101020813\n",
      "[LOG 20230606-18:39:43] epoch: 1, batch: 130 train-loss: 2.1836471557617188\n",
      "[LOG 20230606-18:39:45] epoch: 1, batch: 131 train-loss: 2.130051612854004\n",
      "[LOG 20230606-18:39:46] epoch: 1, batch: 132 train-loss: 2.095949172973633\n",
      "[LOG 20230606-18:39:48] epoch: 1, batch: 133 train-loss: 2.12263560295105\n",
      "[LOG 20230606-18:39:50] epoch: 1, batch: 134 train-loss: 2.137848377227783\n",
      "[LOG 20230606-18:39:51] epoch: 1, batch: 135 train-loss: 2.069376230239868\n",
      "[LOG 20230606-18:39:53] epoch: 1, batch: 136 train-loss: 2.0914316177368164\n",
      "[LOG 20230606-18:39:55] epoch: 1, batch: 137 train-loss: 2.083167791366577\n",
      "[LOG 20230606-18:39:57] epoch: 1, batch: 138 train-loss: 2.1063849925994873\n",
      "[LOG 20230606-18:39:58] epoch: 1, batch: 139 train-loss: 2.117734670639038\n",
      "[LOG 20230606-18:40:00] epoch: 1, batch: 140 train-loss: 2.116885185241699\n",
      "[LOG 20230606-18:40:02] epoch: 1, batch: 141 train-loss: 2.0863423347473145\n",
      "[LOG 20230606-18:40:03] epoch: 1, batch: 142 train-loss: 2.1170520782470703\n",
      "[LOG 20230606-18:40:05] epoch: 1, batch: 143 train-loss: 2.110928773880005\n",
      "[LOG 20230606-18:40:07] epoch: 1, batch: 144 train-loss: 2.1148569583892822\n",
      "[LOG 20230606-18:40:09] epoch: 1, batch: 145 train-loss: 2.104673147201538\n",
      "[LOG 20230606-18:40:10] epoch: 1, batch: 146 train-loss: 2.0979418754577637\n",
      "[LOG 20230606-18:40:12] epoch: 1, batch: 147 train-loss: 2.073685884475708\n",
      "[LOG 20230606-18:40:14] epoch: 1, batch: 148 train-loss: 2.1043174266815186\n",
      "[LOG 20230606-18:40:16] epoch: 1, batch: 149 train-loss: 2.0729987621307373\n",
      "[LOG 20230606-18:40:18] epoch: 1, batch: 150 train-loss: 2.1013681888580322\n",
      "[LOG 20230606-18:40:19] epoch: 1, batch: 151 train-loss: 2.0711660385131836\n",
      "[LOG 20230606-18:40:21] epoch: 1, batch: 152 train-loss: 2.0694472789764404\n",
      "[LOG 20230606-18:40:23] epoch: 1, batch: 153 train-loss: 2.0737388134002686\n",
      "[LOG 20230606-18:40:25] epoch: 1, batch: 154 train-loss: 2.072382926940918\n",
      "[LOG 20230606-18:40:27] epoch: 1, batch: 155 train-loss: 2.120136260986328\n",
      "[LOG 20230606-18:40:29] epoch: 1, batch: 156 train-loss: 2.057588815689087\n",
      "[LOG 20230606-18:40:30] epoch: 1, batch: 157 train-loss: 2.136974573135376\n",
      "[LOG 20230606-18:40:32] epoch: 1, batch: 158 train-loss: 2.0781967639923096\n",
      "[LOG 20230606-18:40:34] epoch: 1, batch: 159 train-loss: 2.0578949451446533\n",
      "[LOG 20230606-18:40:35] epoch: 1, batch: 160 train-loss: 2.0381295680999756\n",
      "[LOG 20230606-18:40:37] epoch: 1, batch: 161 train-loss: 2.1127421855926514\n",
      "[LOG 20230606-18:40:39] epoch: 1, batch: 162 train-loss: 2.10573410987854\n",
      "[LOG 20230606-18:40:40] epoch: 1, batch: 163 train-loss: 2.0674946308135986\n",
      "[LOG 20230606-18:40:42] epoch: 1, batch: 164 train-loss: 2.128631591796875\n",
      "[LOG 20230606-18:40:44] epoch: 1, batch: 165 train-loss: 2.0560593605041504\n",
      "[LOG 20230606-18:40:46] epoch: 1, batch: 166 train-loss: 2.024364948272705\n",
      "[LOG 20230606-18:40:47] epoch: 1, batch: 167 train-loss: 2.0889368057250977\n",
      "[LOG 20230606-18:40:49] epoch: 1, batch: 168 train-loss: 2.1095314025878906\n",
      "[LOG 20230606-18:40:51] epoch: 1, batch: 169 train-loss: 2.101874828338623\n",
      "[LOG 20230606-18:40:52] epoch: 1, batch: 170 train-loss: 2.0811679363250732\n",
      "[LOG 20230606-18:40:54] epoch: 1, batch: 171 train-loss: 2.053920269012451\n",
      "[LOG 20230606-18:40:56] epoch: 1, batch: 172 train-loss: 2.115540027618408\n",
      "[LOG 20230606-18:40:57] epoch: 1, batch: 173 train-loss: 2.135408401489258\n",
      "[LOG 20230606-18:40:59] epoch: 1, batch: 174 train-loss: 2.0136921405792236\n",
      "[LOG 20230606-18:41:01] epoch: 1, batch: 175 train-loss: 2.073349714279175\n",
      "[LOG 20230606-18:41:02] epoch: 1, batch: 176 train-loss: 2.034123420715332\n",
      "[LOG 20230606-18:41:04] epoch: 1, batch: 177 train-loss: 2.0120935440063477\n",
      "[LOG 20230606-18:41:06] epoch: 1, batch: 178 train-loss: 2.0665252208709717\n",
      "[LOG 20230606-18:41:07] epoch: 1, batch: 179 train-loss: 2.128476858139038\n",
      "[LOG 20230606-18:41:09] epoch: 1, batch: 180 train-loss: 2.072528839111328\n",
      "[LOG 20230606-18:41:11] epoch: 1, batch: 181 train-loss: 2.05157470703125\n",
      "[LOG 20230606-18:41:12] epoch: 1, batch: 182 train-loss: 2.150844097137451\n",
      "[LOG 20230606-18:41:14] epoch: 1, batch: 183 train-loss: 2.12036395072937\n",
      "[LOG 20230606-18:41:16] epoch: 1, batch: 184 train-loss: 2.088871479034424\n",
      "[LOG 20230606-18:41:17] epoch: 1, batch: 185 train-loss: 1.9716339111328125\n",
      "[LOG 20230606-18:41:19] epoch: 1, batch: 186 train-loss: 1.97654128074646\n",
      "[LOG 20230606-18:41:21] epoch: 1, batch: 187 train-loss: 1.996953010559082\n",
      "[LOG 20230606-18:41:22] epoch: 1, batch: 188 train-loss: 2.066068410873413\n",
      "[LOG 20230606-18:41:24] epoch: 1, batch: 189 train-loss: 2.007909059524536\n",
      "[LOG 20230606-18:41:26] epoch: 1, batch: 190 train-loss: 2.0415148735046387\n",
      "[LOG 20230606-18:41:27] epoch: 1, batch: 191 train-loss: 1.9629889726638794\n",
      "[LOG 20230606-18:41:29] epoch: 1, batch: 192 train-loss: 2.0828428268432617\n",
      "[LOG 20230606-18:41:30] epoch: 1, batch: 193 train-loss: 2.0703108310699463\n",
      "[LOG 20230606-18:41:32] epoch: 1, batch: 194 train-loss: 2.020781993865967\n",
      "[LOG 20230606-18:41:34] epoch: 1, batch: 195 train-loss: 2.0689523220062256\n",
      "[LOG 20230606-18:41:35] epoch: 1, batch: 196 train-loss: 2.0109200477600098\n",
      "[LOG 20230606-18:41:37] epoch: 1, batch: 197 train-loss: 2.0370748043060303\n",
      "[LOG 20230606-18:41:38] epoch: 1, batch: 198 train-loss: 2.0949902534484863\n",
      "[LOG 20230606-18:41:40] epoch: 1, batch: 199 train-loss: 2.049349784851074\n",
      "[LOG 20230606-18:41:42] epoch: 1, batch: 200 train-loss: 2.042628288269043\n",
      "[LOG 20230606-18:41:43] epoch: 1, batch: 201 train-loss: 2.037045478820801\n",
      "[LOG 20230606-18:41:45] epoch: 1, batch: 202 train-loss: 2.0181524753570557\n",
      "[LOG 20230606-18:41:47] epoch: 1, batch: 203 train-loss: 2.0774991512298584\n",
      "[LOG 20230606-18:41:48] epoch: 1, batch: 204 train-loss: 2.073521375656128\n",
      "[LOG 20230606-18:41:50] epoch: 1, batch: 205 train-loss: 1.961105227470398\n",
      "[LOG 20230606-18:41:52] epoch: 1, batch: 206 train-loss: 2.0784521102905273\n",
      "[LOG 20230606-18:41:54] epoch: 1, batch: 207 train-loss: 2.0507118701934814\n",
      "[LOG 20230606-18:41:55] epoch: 1, batch: 208 train-loss: 2.032728672027588\n",
      "[LOG 20230606-18:41:57] epoch: 1, batch: 209 train-loss: 2.0761098861694336\n",
      "[LOG 20230606-18:41:59] epoch: 1, batch: 210 train-loss: 2.0081634521484375\n",
      "[LOG 20230606-18:42:00] epoch: 1, batch: 211 train-loss: 1.9848769903182983\n",
      "[LOG 20230606-18:42:02] epoch: 1, batch: 212 train-loss: 2.0393314361572266\n",
      "[LOG 20230606-18:42:03] epoch: 1, batch: 213 train-loss: 1.9931166172027588\n",
      "[LOG 20230606-18:42:05] epoch: 1, batch: 214 train-loss: 2.006148099899292\n",
      "[LOG 20230606-18:42:07] epoch: 1, batch: 215 train-loss: 2.0374937057495117\n",
      "[LOG 20230606-18:42:08] epoch: 1, batch: 216 train-loss: 2.023864269256592\n",
      "[LOG 20230606-18:42:10] epoch: 1, batch: 217 train-loss: 1.9813706874847412\n",
      "[LOG 20230606-18:42:11] epoch: 1, batch: 218 train-loss: 2.131089448928833\n",
      "[LOG 20230606-18:42:13] epoch: 1, batch: 219 train-loss: 2.0175366401672363\n"
     ]
    },
    {
     "name": "stdout",
     "output_type": "stream",
     "text": [
      "[LOG 20230606-18:42:15] epoch: 1, batch: 220 train-loss: 1.9774677753448486\n",
      "[LOG 20230606-18:42:16] epoch: 1, batch: 221 train-loss: 1.9338228702545166\n",
      "[LOG 20230606-18:42:18] epoch: 1, batch: 222 train-loss: 2.046957015991211\n",
      "[LOG 20230606-18:42:19] epoch: 1, batch: 223 train-loss: 1.9612212181091309\n",
      "[LOG 20230606-18:42:21] epoch: 1, batch: 224 train-loss: 1.9652233123779297\n",
      "[LOG 20230606-18:42:23] epoch: 1, batch: 225 train-loss: 2.0462141036987305\n",
      "[LOG 20230606-18:42:24] epoch: 1, batch: 226 train-loss: 1.9679309129714966\n",
      "[LOG 20230606-18:42:26] epoch: 1, batch: 227 train-loss: 1.9907556772232056\n",
      "[LOG 20230606-18:42:27] epoch: 1, batch: 228 train-loss: 1.9710115194320679\n",
      "[LOG 20230606-18:42:29] epoch: 1, batch: 229 train-loss: 2.026036024093628\n",
      "[LOG 20230606-18:42:30] epoch: 1, batch: 230 train-loss: 2.006622791290283\n",
      "[LOG 20230606-18:42:32] epoch: 1, batch: 231 train-loss: 2.0251781940460205\n",
      "[LOG 20230606-18:42:33] epoch: 1, batch: 232 train-loss: 1.9182262420654297\n",
      "[LOG 20230606-18:42:35] epoch: 1, batch: 233 train-loss: 2.056572675704956\n",
      "[LOG 20230606-18:42:36] epoch: 1, batch: 234 train-loss: 1.9760955572128296\n",
      "[LOG 20230606-18:42:38] epoch: 1, batch: 235 train-loss: 2.052248001098633\n",
      "[LOG 20230606-18:42:39] epoch: 1, batch: 236 train-loss: 1.9839280843734741\n",
      "[LOG 20230606-18:42:41] epoch: 1, batch: 237 train-loss: 2.019240140914917\n",
      "[LOG 20230606-18:42:42] epoch: 1, batch: 238 train-loss: 2.0074193477630615\n",
      "[LOG 20230606-18:42:44] epoch: 1, batch: 239 train-loss: 1.9859764575958252\n",
      "[LOG 20230606-18:42:45] epoch: 1, batch: 240 train-loss: 2.0225236415863037\n",
      "[LOG 20230606-18:42:47] epoch: 1, batch: 241 train-loss: 1.995343565940857\n",
      "[LOG 20230606-18:42:49] epoch: 1, batch: 242 train-loss: 1.9924499988555908\n",
      "[LOG 20230606-18:42:50] epoch: 1, batch: 243 train-loss: 2.034003496170044\n",
      "[LOG 20230606-18:42:52] epoch: 1, batch: 244 train-loss: 2.015674114227295\n",
      "[LOG 20230606-18:42:53] epoch: 1, batch: 245 train-loss: 1.9270808696746826\n",
      "[LOG 20230606-18:42:55] epoch: 1, batch: 246 train-loss: 1.9347068071365356\n",
      "[LOG 20230606-18:42:56] epoch: 1, batch: 247 train-loss: 1.946677327156067\n",
      "[LOG 20230606-18:42:58] epoch: 1, batch: 248 train-loss: 2.016310930252075\n",
      "[LOG 20230606-18:43:00] epoch: 1, batch: 249 train-loss: 1.9154680967330933\n",
      "[LOG 20230606-18:43:01] epoch: 1, batch: 250 train-loss: 2.020096778869629\n",
      "[LOG 20230606-18:43:03] epoch: 1, batch: 251 train-loss: 1.955852746963501\n",
      "[LOG 20230606-18:43:04] epoch: 1, batch: 252 train-loss: 1.998103380203247\n",
      "[LOG 20230606-18:43:06] epoch: 1, batch: 253 train-loss: 1.9228200912475586\n",
      "[LOG 20230606-18:43:08] epoch: 1, batch: 254 train-loss: 2.005228281021118\n",
      "[LOG 20230606-18:43:09] epoch: 1, batch: 255 train-loss: 2.0348143577575684\n",
      "[LOG 20230606-18:43:11] epoch: 1, batch: 256 train-loss: 1.9955328702926636\n",
      "[LOG 20230606-18:43:12] epoch: 1, batch: 257 train-loss: 2.081234931945801\n",
      "[LOG 20230606-18:43:14] epoch: 1, batch: 258 train-loss: 1.984199047088623\n",
      "[LOG 20230606-18:43:15] epoch: 1, batch: 259 train-loss: 1.9246330261230469\n",
      "[LOG 20230606-18:43:16] epoch: 1, batch: 260 train-loss: 1.9886759519577026\n",
      "[LOG 20230606-18:43:18] epoch: 1, batch: 261 train-loss: 2.0589253902435303\n",
      "[LOG 20230606-18:43:19] epoch: 1, batch: 262 train-loss: 2.002812623977661\n",
      "[LOG 20230606-18:43:21] epoch: 1, batch: 263 train-loss: 1.930079460144043\n",
      "[LOG 20230606-18:43:22] epoch: 1, batch: 264 train-loss: 1.9595673084259033\n",
      "[LOG 20230606-18:43:24] epoch: 1, batch: 265 train-loss: 1.978395938873291\n",
      "[LOG 20230606-18:43:26] epoch: 1, batch: 266 train-loss: 1.9075779914855957\n",
      "[LOG 20230606-18:43:27] epoch: 1, batch: 267 train-loss: 1.99100923538208\n",
      "[LOG 20230606-18:43:29] epoch: 1, batch: 268 train-loss: 1.99964439868927\n",
      "[LOG 20230606-18:43:30] epoch: 1, batch: 269 train-loss: 1.9037785530090332\n",
      "[LOG 20230606-18:43:32] epoch: 1, batch: 270 train-loss: 1.9939817190170288\n",
      "[LOG 20230606-18:43:34] epoch: 1, batch: 271 train-loss: 1.9788225889205933\n",
      "[LOG 20230606-18:43:35] epoch: 1, batch: 272 train-loss: 1.918379306793213\n",
      "[LOG 20230606-18:43:37] epoch: 1, batch: 273 train-loss: 1.9794020652770996\n",
      "[LOG 20230606-18:43:38] epoch: 1, batch: 274 train-loss: 2.0147697925567627\n",
      "[LOG 20230606-18:43:40] epoch: 1, batch: 275 train-loss: 1.9994869232177734\n",
      "[LOG 20230606-18:43:41] epoch: 1, batch: 276 train-loss: 1.8829106092453003\n",
      "[LOG 20230606-18:43:43] epoch: 1, batch: 277 train-loss: 1.913027286529541\n",
      "[LOG 20230606-18:43:44] epoch: 1, batch: 278 train-loss: 1.9285175800323486\n",
      "[LOG 20230606-18:43:46] epoch: 1, batch: 279 train-loss: 1.9964206218719482\n",
      "[LOG 20230606-18:43:48] epoch: 1, batch: 280 train-loss: 1.991163730621338\n",
      "[LOG 20230606-18:43:49] epoch: 1, batch: 281 train-loss: 2.0550484657287598\n",
      "[LOG 20230606-18:43:51] epoch: 1, batch: 282 train-loss: 1.9779963493347168\n",
      "[LOG 20230606-18:43:52] epoch: 1, batch: 283 train-loss: 1.9959051609039307\n",
      "[LOG 20230606-18:43:54] epoch: 1, batch: 284 train-loss: 1.892240285873413\n",
      "[LOG 20230606-18:43:55] epoch: 1, batch: 285 train-loss: 1.9679346084594727\n",
      "[LOG 20230606-18:43:57] epoch: 1, batch: 286 train-loss: 1.9126849174499512\n",
      "[LOG 20230606-18:43:58] epoch: 1, batch: 287 train-loss: 1.9471611976623535\n",
      "[LOG 20230606-18:44:00] epoch: 1, batch: 288 train-loss: 1.9568885564804077\n",
      "[LOG 20230606-18:44:02] epoch: 1, batch: 289 train-loss: 1.9083565473556519\n",
      "[LOG 20230606-18:44:03] epoch: 1, batch: 290 train-loss: 1.974652647972107\n",
      "[LOG 20230606-18:44:05] epoch: 1, batch: 291 train-loss: 1.9474271535873413\n",
      "[LOG 20230606-18:44:07] epoch: 1, batch: 292 train-loss: 1.9823318719863892\n",
      "[LOG 20230606-18:44:08] epoch: 1, batch: 293 train-loss: 1.8304941654205322\n",
      "[LOG 20230606-18:44:10] epoch: 1, batch: 294 train-loss: 1.9768062829971313\n",
      "[LOG 20230606-18:44:12] epoch: 1, batch: 295 train-loss: 1.955654501914978\n",
      "[LOG 20230606-18:44:13] epoch: 1, batch: 296 train-loss: 1.9480282068252563\n",
      "[LOG 20230606-18:44:15] epoch: 1, batch: 297 train-loss: 1.981701374053955\n",
      "[LOG 20230606-18:44:17] epoch: 1, batch: 298 train-loss: 1.9511582851409912\n",
      "[LOG 20230606-18:44:18] epoch: 1, batch: 299 train-loss: 1.8889778852462769\n",
      "[LOG 20230606-18:44:20] epoch: 1, batch: 300 train-loss: 1.8637464046478271\n",
      "[LOG 20230606-18:44:21] epoch: 1, batch: 301 train-loss: 1.9794981479644775\n",
      "[LOG 20230606-18:44:23] epoch: 1, batch: 302 train-loss: 2.000087022781372\n",
      "[LOG 20230606-18:44:24] epoch: 1, batch: 303 train-loss: 1.9565786123275757\n",
      "[LOG 20230606-18:44:26] epoch: 1, batch: 304 train-loss: 1.9769892692565918\n",
      "[LOG 20230606-18:44:27] epoch: 1, batch: 305 train-loss: 1.9848673343658447\n",
      "[LOG 20230606-18:44:29] epoch: 1, batch: 306 train-loss: 1.96796715259552\n",
      "[LOG 20230606-18:44:30] epoch: 1, batch: 307 train-loss: 1.8766061067581177\n",
      "[LOG 20230606-18:44:32] epoch: 1, batch: 308 train-loss: 1.9585036039352417\n",
      "[LOG 20230606-18:44:33] epoch: 1, batch: 309 train-loss: 1.8843061923980713\n",
      "[LOG 20230606-18:44:35] epoch: 1, batch: 310 train-loss: 1.9141013622283936\n",
      "[LOG 20230606-18:44:36] epoch: 1, batch: 311 train-loss: 1.9394598007202148\n",
      "[LOG 20230606-18:44:38] epoch: 1, batch: 312 train-loss: 1.9532631635665894\n",
      "[LOG 20230606-18:44:39] epoch: 1, batch: 313 train-loss: 1.855578899383545\n",
      "[LOG 20230606-18:44:40] epoch: 1, batch: 314 train-loss: 1.9249986410140991\n",
      "[LOG 20230606-18:44:42] epoch: 1, batch: 315 train-loss: 1.9261714220046997\n",
      "[LOG 20230606-18:44:43] epoch: 1, batch: 316 train-loss: 1.8867045640945435\n",
      "[LOG 20230606-18:44:45] epoch: 1, batch: 317 train-loss: 1.9045193195343018\n",
      "[LOG 20230606-18:44:46] epoch: 1, batch: 318 train-loss: 1.9845561981201172\n",
      "[LOG 20230606-18:44:48] epoch: 1, batch: 319 train-loss: 1.960415244102478\n",
      "[LOG 20230606-18:44:49] epoch: 1, batch: 320 train-loss: 1.8827764987945557\n",
      "[LOG 20230606-18:44:50] epoch: 1, batch: 321 train-loss: 1.9133589267730713\n",
      "[LOG 20230606-18:44:52] epoch: 1, batch: 322 train-loss: 1.9697521924972534\n",
      "[LOG 20230606-18:44:53] epoch: 1, batch: 323 train-loss: 1.8542102575302124\n",
      "[LOG 20230606-18:44:55] epoch: 1, batch: 324 train-loss: 1.9384257793426514\n",
      "[LOG 20230606-18:44:56] epoch: 1, batch: 325 train-loss: 1.9507631063461304\n",
      "[LOG 20230606-18:44:58] epoch: 1, batch: 326 train-loss: 1.9134951829910278\n",
      "[LOG 20230606-18:44:59] epoch: 1, batch: 327 train-loss: 1.9513596296310425\n",
      "[LOG 20230606-18:45:01] epoch: 1, batch: 328 train-loss: 1.8665846586227417\n"
     ]
    },
    {
     "name": "stdout",
     "output_type": "stream",
     "text": [
      "[LOG 20230606-18:45:02] epoch: 1, batch: 329 train-loss: 1.9434984922409058\n",
      "[LOG 20230606-18:45:04] epoch: 1, batch: 330 train-loss: 1.9666106700897217\n",
      "[LOG 20230606-18:45:05] epoch: 1, batch: 331 train-loss: 1.8215007781982422\n",
      "[LOG 20230606-18:45:06] epoch: 1, batch: 332 train-loss: 1.8900392055511475\n",
      "[LOG 20230606-18:45:08] epoch: 1, batch: 333 train-loss: 1.924559473991394\n",
      "[LOG 20230606-18:45:09] epoch: 1, batch: 334 train-loss: 1.9470158815383911\n",
      "[LOG 20230606-18:45:11] epoch: 1, batch: 335 train-loss: 1.8859666585922241\n",
      "[LOG 20230606-18:45:12] epoch: 1, batch: 336 train-loss: 1.8806204795837402\n",
      "[LOG 20230606-18:45:13] epoch: 1, batch: 337 train-loss: 1.8605014085769653\n",
      "[LOG 20230606-18:45:15] epoch: 1, batch: 338 train-loss: 1.9099161624908447\n",
      "[LOG 20230606-18:45:16] epoch: 1, batch: 339 train-loss: 1.9673233032226562\n",
      "[LOG 20230606-18:45:18] epoch: 1, batch: 340 train-loss: 1.9326379299163818\n",
      "[LOG 20230606-18:45:19] epoch: 1, batch: 341 train-loss: 1.86776864528656\n",
      "[LOG 20230606-18:45:20] epoch: 1, batch: 342 train-loss: 1.899666666984558\n",
      "[LOG 20230606-18:45:22] epoch: 1, batch: 343 train-loss: 1.840569019317627\n",
      "[LOG 20230606-18:45:23] epoch: 1, batch: 344 train-loss: 1.9008620977401733\n",
      "[LOG 20230606-18:45:24] epoch: 1, batch: 345 train-loss: 2.012600898742676\n",
      "[LOG 20230606-18:45:26] epoch: 1, batch: 346 train-loss: 1.8534477949142456\n",
      "[LOG 20230606-18:45:27] epoch: 1, batch: 347 train-loss: 1.8119179010391235\n",
      "[LOG 20230606-18:45:29] epoch: 1, batch: 348 train-loss: 1.9255167245864868\n",
      "[LOG 20230606-18:45:30] epoch: 1, batch: 349 train-loss: 1.8797764778137207\n",
      "[LOG 20230606-18:45:32] epoch: 1, batch: 350 train-loss: 1.893457055091858\n",
      "[LOG 20230606-18:45:33] epoch: 1, batch: 351 train-loss: 1.9590318202972412\n",
      "[LOG 20230606-18:45:34] epoch: 1, batch: 352 train-loss: 1.9328335523605347\n",
      "[LOG 20230606-18:45:36] epoch: 1, batch: 353 train-loss: 1.7795671224594116\n",
      "[LOG 20230606-18:45:37] epoch: 1, batch: 354 train-loss: 1.9025038480758667\n",
      "[LOG 20230606-18:45:39] epoch: 1, batch: 355 train-loss: 1.8985612392425537\n",
      "[LOG 20230606-18:45:40] epoch: 1, batch: 356 train-loss: 2.0921669006347656\n",
      "[LOG 20230606-18:45:42] epoch: 1, batch: 357 train-loss: 1.9594477415084839\n",
      "[LOG 20230606-18:45:43] epoch: 1, batch: 358 train-loss: 1.868862271308899\n",
      "[LOG 20230606-18:45:45] epoch: 1, batch: 359 train-loss: 1.8466331958770752\n",
      "[LOG 20230606-18:45:47] epoch: 1, batch: 360 train-loss: 1.908713698387146\n",
      "[LOG 20230606-18:45:48] epoch: 1, batch: 361 train-loss: 1.9490951299667358\n",
      "[LOG 20230606-18:45:50] epoch: 1, batch: 362 train-loss: 1.9004848003387451\n",
      "[LOG 20230606-18:45:51] epoch: 1, batch: 363 train-loss: 1.8852957487106323\n",
      "[LOG 20230606-18:45:52] epoch: 1, batch: 364 train-loss: 1.9066087007522583\n",
      "[LOG 20230606-18:45:54] epoch: 1, batch: 365 train-loss: 1.890908122062683\n",
      "[LOG 20230606-18:45:55] epoch: 1, batch: 366 train-loss: 1.8210994005203247\n",
      "[LOG 20230606-18:45:57] epoch: 1, batch: 367 train-loss: 1.8745441436767578\n",
      "[LOG 20230606-18:45:58] epoch: 1, batch: 368 train-loss: 1.8864538669586182\n",
      "[LOG 20230606-18:46:00] epoch: 1, batch: 369 train-loss: 1.8519870042800903\n",
      "[LOG 20230606-18:46:01] epoch: 1, batch: 370 train-loss: 1.9223289489746094\n",
      "[LOG 20230606-18:46:03] epoch: 1, batch: 371 train-loss: 1.8773638010025024\n",
      "[LOG 20230606-18:46:04] epoch: 1, batch: 372 train-loss: 2.002474784851074\n",
      "[LOG 20230606-18:46:06] epoch: 1, batch: 373 train-loss: 1.741565227508545\n",
      "[LOG 20230606-18:46:07] epoch: 1, batch: 374 train-loss: 1.773525357246399\n",
      "[LOG 20230606-18:46:08] epoch: 1, batch: 375 train-loss: 1.9500805139541626\n",
      "[LOG 20230606-18:46:10] epoch: 1, batch: 376 train-loss: 1.7740213871002197\n",
      "[LOG 20230606-18:46:11] epoch: 1, batch: 377 train-loss: 1.9834696054458618\n",
      "[LOG 20230606-18:46:13] epoch: 1, batch: 378 train-loss: 1.9049181938171387\n",
      "[LOG 20230606-18:46:14] epoch: 1, batch: 379 train-loss: 1.9551459550857544\n",
      "[LOG 20230606-18:46:15] epoch: 1, batch: 380 train-loss: 1.7765306234359741\n",
      "[LOG 20230606-18:46:17] epoch: 1, batch: 381 train-loss: 1.8855149745941162\n",
      "[LOG 20230606-18:46:18] epoch: 1, batch: 382 train-loss: 1.9256998300552368\n",
      "[LOG 20230606-18:46:19] epoch: 1, batch: 383 train-loss: 1.9125165939331055\n",
      "[LOG 20230606-18:46:21] epoch: 1, batch: 384 train-loss: 1.8343639373779297\n",
      "[LOG 20230606-18:46:22] epoch: 1, batch: 385 train-loss: 1.8860204219818115\n",
      "[LOG 20230606-18:46:23] epoch: 1, batch: 386 train-loss: 1.9006829261779785\n",
      "[LOG 20230606-18:46:25] epoch: 1, batch: 387 train-loss: 1.7653506994247437\n",
      "[LOG 20230606-18:46:26] epoch: 1, batch: 388 train-loss: 1.7570058107376099\n",
      "[LOG 20230606-18:46:27] epoch: 1, batch: 389 train-loss: 1.915752649307251\n",
      "[LOG 20230606-18:46:29] epoch: 1, batch: 390 train-loss: 1.8578351736068726\n",
      "[LOG 20230606-18:46:30] epoch: 1, batch: 391 train-loss: 1.833414077758789\n",
      "[LOG 20230606-18:46:30] epoch: 1 train-loss: 2.064307227463978\n"
     ]
    }
   ],
   "source": [
    "# init collection of training epoch losses\n",
    "train_epoch_losses = []\n",
    "\n",
    "# set the model in training mode\n",
    "resnet_model.train()\n",
    "\n",
    "# train the CIFAR10 model\n",
    "for epoch in range(num_epochs):\n",
    "    \n",
    "    # init collection of mini-batch losses\n",
    "    train_mini_batch_losses = []\n",
    "    \n",
    "    # iterate over all-mini batches\n",
    "    for i, (images, labels) in enumerate(cifar10_train_dataloader):\n",
    "\n",
    "        # run forward pass through the network\n",
    "        output = resnet_model(images)\n",
    "        \n",
    "        # reset graph gradients\n",
    "        resnet_model.zero_grad()\n",
    "        \n",
    "        # determine classification loss\n",
    "        loss = nll_loss(output, labels)\n",
    "        \n",
    "        # run backward pass\n",
    "        loss.backward()\n",
    "        \n",
    "        # update network paramaters\n",
    "        optimizer.step()\n",
    "        \n",
    "        # collect mini-batch reconstruction loss\n",
    "        train_mini_batch_losses.append(loss.data.item())\n",
    "        \n",
    "        # print mini-batch loss\n",
    "        now = datetime.utcnow().strftime(\"%Y%m%d-%H:%M:%S\")\n",
    "        print('[LOG {}] epoch: {}, batch: {} train-loss: {}'.format(str(now), str(epoch+1), str(i+1), str(loss.item())))\n",
    "\n",
    "    # determine mean min-batch loss of epoch\n",
    "    train_epoch_loss = np.mean(train_mini_batch_losses)\n",
    "    \n",
    "    # print epoch loss\n",
    "    now = datetime.utcnow().strftime(\"%Y%m%d-%H:%M:%S\")\n",
    "    print('[LOG {}] epoch: {} train-loss: {}'.format(str(now), str(epoch+1), str(train_epoch_loss)))\n",
    "    \n",
    "    # save model to local directory\n",
    "    model_name = 'cifar10_resnet_model_epoch_{}.pth'.format(str(epoch))\n",
    "    torch.save(resnet_model.state_dict(), os.path.join(\"./models\", model_name))\n",
    "    \n",
    "    # determine mean min-batch loss of epoch\n",
    "    train_epoch_losses.append(train_epoch_loss)"
   ]
  },
  {
   "cell_type": "markdown",
   "metadata": {
    "id": "GYvfaxHfYkLV"
   },
   "source": [
    "Upon successfull training let's visualize and inspect the loss per training iteration (mini-batch):"
   ]
  },
  {
   "cell_type": "code",
   "execution_count": 30,
   "metadata": {
    "id": "gGLQI5veYjYT"
   },
   "outputs": [
    {
     "data": {
      "image/png": "[encoded data removed]",
      "text/plain": [
       "<Figure size 640x480 with 1 Axes>"
      ]
     },
     "metadata": {},
     "output_type": "display_data"
    }
   ],
   "source": [
    "# prepare plot\n",
    "fig = plt.figure()\n",
    "ax = fig.add_subplot(111)\n",
    "\n",
    "# add grid\n",
    "ax.grid(linestyle='dotted')\n",
    "\n",
    "# plot the training epochs vs. the epochs' classification error\n",
    "ax.plot(np.array(range(1, len(train_mini_batch_losses)+1)), train_mini_batch_losses, label='mini-batch loss (blue)')\n",
    "\n",
    "# add axis legends\n",
    "ax.set_xlabel(\"[training mini-batch $mb_i$]\", fontsize=10)\n",
    "ax.set_ylabel(\"[Classification Error $\\mathcal{L}^{NLL}$]\", fontsize=10)\n",
    "\n",
    "# set plot legend\n",
    "plt.legend(loc=\"upper right\", numpoints=1, fancybox=True)\n",
    "\n",
    "# add plot title\n",
    "plt.title('Training Iterations $mb_i$ vs. Classification Error $L^{NLL}$', fontsize=10);"
   ]
  },
  {
   "cell_type": "markdown",
   "metadata": {
    "id": "LjedkOnTgOQQ"
   },
   "source": [
    "Ok, fantastic. The training error converges nicely. We could definitely train the network a couple more epochs until the error converges. But let's keep the 1 training epoch for now and continue with evaluating our trained model."
   ]
  },
  {
   "cell_type": "markdown",
   "metadata": {
    "id": "jmk-zpedCBnd"
   },
   "source": [
    "## 6. Evaluation of the Trained Neural Network Model"
   ]
  },
  {
   "cell_type": "markdown",
   "metadata": {
    "id": "IJjq_gHACBng"
   },
   "source": [
    "We will conduct our evaluation based on a model that was already pre-trained for a total of 200 training epochs. Remember, that we stored a snapshot of the model after each training epoch to our local model directory. We will now load a pre-trained snapshot."
   ]
  },
  {
   "cell_type": "code",
   "execution_count": 33,
   "metadata": {
    "id": "FmA2UFS5CBng"
   },
   "outputs": [
    {
     "data": {
      "text/plain": [
       "<All keys matched successfully>"
      ]
     },
     "execution_count": 33,
     "metadata": {},
     "output_type": "execute_result"
    }
   ],
   "source": [
    "# restore pre-trained model snapshot\n",
    "best_model_name = 'https://raw.githubusercontent.com/HSG-AIML-Teaching/GSERM2023-Lab/master/lab_05_bonus/models/cifar10_resnet_model_epoch_199.pth'\n",
    "\n",
    "# read stored model from the remote location\n",
    "model_bytes = urllib.request.urlopen(best_model_name)\n",
    "\n",
    "# load model tensor from io.BytesIO object\n",
    "model_buffer = io.BytesIO(model_bytes.read())\n",
    "\n",
    "# init pre-trained model class\n",
    "best_resnet_model = ResNet(layers=[2, 2, 2])\n",
    "\n",
    "# load pre-trained models\n",
    "best_resnet_model.load_state_dict(torch.load(model_buffer, map_location=torch.device('cpu')))"
   ]
  },
  {
   "cell_type": "markdown",
   "metadata": {
    "id": "AseV_zY2CBng"
   },
   "source": [
    "Let's again inspect if the pre-trained model was loaded successfully: "
   ]
  },
  {
   "cell_type": "code",
   "execution_count": 34,
   "metadata": {
    "id": "8UtRWTQUCBng",
    "scrolled": true
   },
   "outputs": [
    {
     "data": {
      "text/plain": [
       "ResNet(\n",
       "  (conv): Conv2d(3, 16, kernel_size=(3, 3), stride=(1, 1), padding=(1, 1), bias=False)\n",
       "  (bn): BatchNorm2d(16, eps=1e-05, momentum=0.1, affine=True, track_running_stats=True)\n",
       "  (relu): ReLU(inplace=True)\n",
       "  (layer1): Sequential(\n",
       "    (0): ResidualBlock(\n",
       "      (conv1): Conv2d(16, 16, kernel_size=(3, 3), stride=(1, 1), padding=(1, 1), bias=False)\n",
       "      (bn1): BatchNorm2d(16, eps=1e-05, momentum=0.1, affine=True, track_running_stats=True)\n",
       "      (relu1): ReLU(inplace=True)\n",
       "      (conv2): Conv2d(16, 16, kernel_size=(3, 3), stride=(1, 1), padding=(1, 1), bias=False)\n",
       "      (bn2): BatchNorm2d(16, eps=1e-05, momentum=0.1, affine=True, track_running_stats=True)\n",
       "      (relu2): ReLU(inplace=True)\n",
       "    )\n",
       "    (1): ResidualBlock(\n",
       "      (conv1): Conv2d(16, 16, kernel_size=(3, 3), stride=(1, 1), padding=(1, 1), bias=False)\n",
       "      (bn1): BatchNorm2d(16, eps=1e-05, momentum=0.1, affine=True, track_running_stats=True)\n",
       "      (relu1): ReLU(inplace=True)\n",
       "      (conv2): Conv2d(16, 16, kernel_size=(3, 3), stride=(1, 1), padding=(1, 1), bias=False)\n",
       "      (bn2): BatchNorm2d(16, eps=1e-05, momentum=0.1, affine=True, track_running_stats=True)\n",
       "      (relu2): ReLU(inplace=True)\n",
       "    )\n",
       "  )\n",
       "  (layer2): Sequential(\n",
       "    (0): ResidualBlock(\n",
       "      (conv1): Conv2d(16, 32, kernel_size=(3, 3), stride=(1, 1), padding=(1, 1), bias=False)\n",
       "      (bn1): BatchNorm2d(32, eps=1e-05, momentum=0.1, affine=True, track_running_stats=True)\n",
       "      (relu1): ReLU(inplace=True)\n",
       "      (conv2): Conv2d(32, 32, kernel_size=(3, 3), stride=(1, 1), padding=(1, 1), bias=False)\n",
       "      (bn2): BatchNorm2d(32, eps=1e-05, momentum=0.1, affine=True, track_running_stats=True)\n",
       "      (relu2): ReLU(inplace=True)\n",
       "      (downsample): Sequential(\n",
       "        (0): Conv2d(16, 32, kernel_size=(3, 3), stride=(1, 1), padding=(1, 1), bias=False)\n",
       "        (1): BatchNorm2d(32, eps=1e-05, momentum=0.1, affine=True, track_running_stats=True)\n",
       "      )\n",
       "    )\n",
       "    (1): ResidualBlock(\n",
       "      (conv1): Conv2d(32, 32, kernel_size=(3, 3), stride=(1, 1), padding=(1, 1), bias=False)\n",
       "      (bn1): BatchNorm2d(32, eps=1e-05, momentum=0.1, affine=True, track_running_stats=True)\n",
       "      (relu1): ReLU(inplace=True)\n",
       "      (conv2): Conv2d(32, 32, kernel_size=(3, 3), stride=(1, 1), padding=(1, 1), bias=False)\n",
       "      (bn2): BatchNorm2d(32, eps=1e-05, momentum=0.1, affine=True, track_running_stats=True)\n",
       "      (relu2): ReLU(inplace=True)\n",
       "    )\n",
       "  )\n",
       "  (layer3): Sequential(\n",
       "    (0): ResidualBlock(\n",
       "      (conv1): Conv2d(32, 64, kernel_size=(3, 3), stride=(1, 1), padding=(1, 1), bias=False)\n",
       "      (bn1): BatchNorm2d(64, eps=1e-05, momentum=0.1, affine=True, track_running_stats=True)\n",
       "      (relu1): ReLU(inplace=True)\n",
       "      (conv2): Conv2d(64, 64, kernel_size=(3, 3), stride=(1, 1), padding=(1, 1), bias=False)\n",
       "      (bn2): BatchNorm2d(64, eps=1e-05, momentum=0.1, affine=True, track_running_stats=True)\n",
       "      (relu2): ReLU(inplace=True)\n",
       "      (downsample): Sequential(\n",
       "        (0): Conv2d(32, 64, kernel_size=(3, 3), stride=(1, 1), padding=(1, 1), bias=False)\n",
       "        (1): BatchNorm2d(64, eps=1e-05, momentum=0.1, affine=True, track_running_stats=True)\n",
       "      )\n",
       "    )\n",
       "    (1): ResidualBlock(\n",
       "      (conv1): Conv2d(64, 64, kernel_size=(3, 3), stride=(1, 1), padding=(1, 1), bias=False)\n",
       "      (bn1): BatchNorm2d(64, eps=1e-05, momentum=0.1, affine=True, track_running_stats=True)\n",
       "      (relu1): ReLU(inplace=True)\n",
       "      (conv2): Conv2d(64, 64, kernel_size=(3, 3), stride=(1, 1), padding=(1, 1), bias=False)\n",
       "      (bn2): BatchNorm2d(64, eps=1e-05, momentum=0.1, affine=True, track_running_stats=True)\n",
       "      (relu2): ReLU(inplace=True)\n",
       "    )\n",
       "  )\n",
       "  (avg_pool): AvgPool2d(kernel_size=8, stride=8, padding=0)\n",
       "  (fc): Linear(in_features=1024, out_features=10, bias=True)\n",
       "  (logsoftmax): LogSoftmax(dim=1)\n",
       ")"
      ]
     },
     "execution_count": 34,
     "metadata": {},
     "output_type": "execute_result"
    }
   ],
   "source": [
    "# set model in evaluation mode\n",
    "best_resnet_model.eval()"
   ]
  },
  {
   "cell_type": "markdown",
   "metadata": {
    "id": "TdjriZZ2CBne"
   },
   "source": [
    "In order to evaluate our trained model, we need to feed the CIFAR10 images reserved for evaluation (the images that we didn't use as part of the training process) through the model. Therefore, let's again define a corresponding PyTorch data loader that feeds the image tensors to our neural network: "
   ]
  },
  {
   "cell_type": "code",
   "execution_count": 35,
   "metadata": {
    "id": "Y1qrxLfrCBne"
   },
   "outputs": [],
   "source": [
    "cifar10_eval_dataloader = torch.utils.data.DataLoader(cifar10_eval_data, batch_size=8, shuffle=False)"
   ]
  },
  {
   "cell_type": "code",
   "execution_count": 36,
   "metadata": {
    "id": "pU5xY-NuCJOt"
   },
   "outputs": [
    {
     "data": {
      "text/plain": [
       "1250"
      ]
     },
     "execution_count": 36,
     "metadata": {},
     "output_type": "execute_result"
    }
   ],
   "source": [
    "len(cifar10_eval_dataloader)"
   ]
  },
  {
   "cell_type": "markdown",
   "metadata": {
    "id": "wb8XGNNgCBng"
   },
   "source": [
    "Similarly to the **CNN** we implemented in the last lab, we will now evaluate the pre-trained `ResNet` model based on the mini-batches of the evaluation dataset to derive the mean negative log-likelihood loss:"
   ]
  },
  {
   "cell_type": "code",
   "execution_count": null,
   "metadata": {
    "id": "QMcAeNG_CBng"
   },
   "outputs": [],
   "source": [
    "# init collection of mini-batch losses\n",
    "eval_mini_batch_losses = []\n",
    "\n",
    "# iterate over all-mini batches\n",
    "for i, (images, labels) in enumerate(cifar10_eval_dataloader):\n",
    "\n",
    "    # run forward pass through the network\n",
    "    output = best_resnet_model(images)\n",
    "\n",
    "    # determine classification loss\n",
    "    loss = nll_loss(output, labels)\n",
    "\n",
    "    # collect mini-batch reconstruction loss\n",
    "    eval_mini_batch_losses.append(loss.data.item())\n",
    "\n",
    "# determine mean min-batch loss of epoch\n",
    "eval_loss = np.mean(eval_mini_batch_losses)\n",
    "\n",
    "# print epoch loss\n",
    "now = datetime.utcnow().strftime(\"%Y%m%d-%H:%M:%S\")\n",
    "print('[LOG {}] eval-loss: {}'.format(str(now), str(eval_loss)))"
   ]
  },
  {
   "cell_type": "markdown",
   "metadata": {
    "id": "Ix7mqb6qCBng"
   },
   "source": [
    "Ok, great. The evaluation loss obtained by `ResNet` model looks significantly lower compared to the one achieved by the `CIFAR10Net` model in the **CNN** lab. Let's now inspect a few sample predictions to get an impression of the model quality. Therefore, we will again pick a random image of our evaluation dataset and retrieve its PyTorch tensor as well as the corresponding label:"
   ]
  },
  {
   "cell_type": "code",
   "execution_count": null,
   "metadata": {
    "id": "TMR5_fUmCBng"
   },
   "outputs": [],
   "source": [
    "# select a sample image id\n",
    "image_id = 5\n",
    "\n",
    "# obtain the image from the dataloader\n",
    "cifar10_eval_image = iter(cifar10_eval_dataloader).next()[0][image_id]\n",
    "\n",
    "# obtain the true label of the image\n",
    "label = cifar10_eval_data.targets[image_id]\n",
    "\n",
    "# obtain the model's class prediction\n",
    "prediction = torch.argmax(best_resnet_model(cifar10_eval_image.unsqueeze(0)), dim=1).item()\n",
    "\n",
    "# define tensor to image transformation\n",
    "trans = torchvision.transforms.ToPILImage()\n",
    "\n",
    "# set image plot title \n",
    "plt.title('Example: {}, Label: {}, Prediction: {}'.format(str(image_id), str(cifar10_classes[label]), str(cifar10_classes[prediction])))\n",
    "\n",
    "# un-normalize cifar 10 image sample\n",
    "cifar10_eval_image_plot = cifar10_eval_image / 2.0 + 0.5\n",
    "\n",
    "# plot cifar 10 image sample\n",
    "plt.imshow(trans(cifar10_eval_image_plot))"
   ]
  },
  {
   "cell_type": "markdown",
   "metadata": {
    "id": "7EAFOdYQCBng"
   },
   "source": [
    "Let's now obtain the predictions for all the `CIFAR10` images of the evaluation data using the pre-trained `ResNet`model:"
   ]
  },
  {
   "cell_type": "code",
   "execution_count": null,
   "metadata": {
    "id": "sQhbrFypRQVa"
   },
   "outputs": [],
   "source": [
    "# init collection of mini-batch losses\n",
    "predictions = []\n",
    "\n",
    "# iterate over all-mini batches\n",
    "for i, (images, labels) in enumerate(cifar10_eval_dataloader):\n",
    "\n",
    "    # run forward pass through the network\n",
    "    output = best_resnet_model(images)\n",
    "\n",
    "    # collect predictons\n",
    "    batch_predictions = torch.argmax(output, dim=1)\n",
    "\n",
    "    # print log each 100 evaluation mini-batch\n",
    "    if i % 100 == 0:\n",
    "\n",
    "      # print mini-batch loss loss\n",
    "      now = datetime.utcnow().strftime(\"%Y%m%d-%H:%M:%S\")\n",
    "      # multiply the number of mini-batches (i) by their size (8 images per mini-batch)\n",
    "      print('[LOG {}] {} prediction(s) collected'.format(str(now), str(i*8)))\n",
    "\n",
    "    # collect mini-batch reconstruction loss\n",
    "    predictions.extend(batch_predictions.detach().numpy().tolist())\n",
    "\n",
    "print('\\nTotal predictions: {}'.format(len(predictions)))"
   ]
  },
  {
   "cell_type": "markdown",
   "metadata": {
    "id": "VMP62TaJCBng"
   },
   "source": [
    "Let's obtain the overall classification accuracy of the trained `ResNet` model:"
   ]
  },
  {
   "cell_type": "code",
   "execution_count": null,
   "metadata": {
    "id": "njDRm4V-CBng"
   },
   "outputs": [],
   "source": [
    "metrics.accuracy_score(cifar10_eval_data.targets, predictions)"
   ]
  },
  {
   "cell_type": "markdown",
   "metadata": {
    "id": "iUiYdnJBCBng"
   },
   "source": [
    "In addition, let's inspect the confusion matrix of the model predictions to determine major sources of misclassification:"
   ]
  },
  {
   "cell_type": "code",
   "execution_count": null,
   "metadata": {
    "id": "LZ1Lf8U7CBng"
   },
   "outputs": [],
   "source": [
    "# determine classification matrix of the predicted and target classes\n",
    "mat = confusion_matrix(cifar10_eval_data.targets, predictions)\n",
    "\n",
    "# plot corresponding confusion matrix\n",
    "sns.heatmap(mat.T, square=True, annot=True, fmt='d', cbar=False, cmap='YlOrRd_r', xticklabels=cifar10_classes, yticklabels=cifar10_classes)\n",
    "plt.title('CIFAR-10 ResNet classification matrix')\n",
    "plt.xlabel('[true label]')\n",
    "plt.ylabel('[predicted label]');"
   ]
  },
  {
   "cell_type": "markdown",
   "metadata": {
    "id": "aMLCTtKdo5He"
   },
   "source": [
    "Ok, we can easily see that our current model confuses images of cats and dogs as well as images of trucks and cars quite often. This is again not surprising since those image categories exhibit a high semantic and therefore visual similarity."
   ]
  },
  {
   "cell_type": "markdown",
   "metadata": {
    "id": "Pufykd3cCBng"
   },
   "source": [
    "## 7. Lab Summary:"
   ]
  },
  {
   "cell_type": "markdown",
   "metadata": {
    "id": "bfKxzaCACBng"
   },
   "source": [
    "In this lab, a step by step introduction into **design, implementation, training and evaluation** of Residual Neural Networks (**RNNs**) to classify tiny images of objects is presented. The code and exercises presented in this lab may serves as a starting point for developing more complex, deeper and more tailored RNNs."
   ]
  },
  {
   "cell_type": "markdown",
   "metadata": {
    "id": "6n5UYL9iUEUI"
   },
   "source": [
    "## 8. References"
   ]
  },
  {
   "cell_type": "markdown",
   "metadata": {
    "id": "EPErCbeKUGCb"
   },
   "source": [
    ">- 'Deep Residual Learning for Image Recognition' by He, K., Zhang, X., Ren, S., and, Sun, J., 2015\n",
    ">- 'Dive into Deep Learning' by Zhang, A., Lipton, Z. C., Li, M., & Smola, A. J. (2020). Available at https://d2l.ai/index.html\n",
    ">- Andrew Ng's classes on YouTube: 'C4W2L03 Resnets' and 'C4W2L04 Why ResNets Work' on the Deeplearning.ai channel. Available at https://www.youtube.com/channel/UCcIXc5mJsHVYTZR1maL5l9w and excellent for those who are not big readers."
   ]
  }
 ],
 "metadata": {
  "colab": {
   "collapsed_sections": [],
   "name": "lab_05_bonus.ipynb",
   "provenance": []
  },
  "kernelspec": {
   "display_name": "Python 3 (ipykernel)",
   "language": "python",
   "name": "python3"
  },
  "language_info": {
   "codemirror_mode": {
    "name": "ipython",
    "version": 3
   },
   "file_extension": ".py",
   "mimetype": "text/x-python",
   "name": "python",
   "nbconvert_exporter": "python",
   "pygments_lexer": "ipython3",
   "version": "3.10.10"
  },
  "toc": {
   "base_numbering": 1,
   "nav_menu": {},
   "number_sections": false,
   "sideBar": true,
   "skip_h1_title": false,
   "title_cell": "Table of Contents",
   "title_sidebar": "Contents",
   "toc_cell": false,
   "toc_position": {
    "height": "calc(100% - 180px)",
    "left": "10px",
    "top": "150px",
    "width": "254.39999389648438px"
   },
   "toc_section_display": true,
   "toc_window_display": true
  }
 },
 "nbformat": 4,
 "nbformat_minor": 4
}
